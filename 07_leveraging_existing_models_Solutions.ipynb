{
 "cells": [
  {
   "cell_type": "code",
   "execution_count": 1,
   "id": "3dc9bab1-eddf-43a5-acb1-23f273e36686",
   "metadata": {
    "collapsed": true,
    "jupyter": {
     "outputs_hidden": true
    }
   },
   "outputs": [
    {
     "name": "stderr",
     "output_type": "stream",
     "text": [
      "2025-05-23 09:47:34.333972: E external/local_xla/xla/stream_executor/cuda/cuda_fft.cc:467] Unable to register cuFFT factory: Attempting to register factory for plugin cuFFT when one has already been registered\n",
      "WARNING: All log messages before absl::InitializeLog() is called are written to STDERR\n",
      "E0000 00:00:1747993654.349535 3616879 cuda_dnn.cc:8579] Unable to register cuDNN factory: Attempting to register factory for plugin cuDNN when one has already been registered\n",
      "E0000 00:00:1747993654.354235 3616879 cuda_blas.cc:1407] Unable to register cuBLAS factory: Attempting to register factory for plugin cuBLAS when one has already been registered\n",
      "W0000 00:00:1747993654.369517 3616879 computation_placer.cc:177] computation placer already registered. Please check linkage and avoid linking the same target more than once.\n",
      "W0000 00:00:1747993654.369531 3616879 computation_placer.cc:177] computation placer already registered. Please check linkage and avoid linking the same target more than once.\n",
      "W0000 00:00:1747993654.369532 3616879 computation_placer.cc:177] computation placer already registered. Please check linkage and avoid linking the same target more than once.\n",
      "W0000 00:00:1747993654.369534 3616879 computation_placer.cc:177] computation placer already registered. Please check linkage and avoid linking the same target more than once.\n"
     ]
    }
   ],
   "source": [
    "import os\n",
    "os.environ[\"KERAS_BACKEND\"] = \"jax\"\n",
    "#os.environ[\"JAX_PLATFORMS\"] = \"cpu\"\n",
    "os.environ[\"XLA_PYTHON_CLIENT_PREALLOCATE\"]=\"false\"\n",
    "os.environ[\"CUDA_VISIBLE_DEVICES\"]=\"1\"\n",
    "\n",
    "import keras\n",
    "import keras_hub\n",
    "import jax.numpy as jnp"
   ]
  },
  {
   "cell_type": "markdown",
   "id": "bddb1786-0dbb-4054-b28b-ddea8e7f56d1",
   "metadata": {},
   "source": [
    "# Session 07: Leveraging on existing models\n",
    "\n",
    "While classical ML workflow goes from data to the generation of suitable models, it is becoming more and more frequent to **rely on existing models** as a starting point.\n",
    " - Models are becoming absolutely **huge** (up to trillions of parameters).\n",
    " - Most researchers/developers **don't have the resources** (data, computing power) to train this kind of models.\n",
    "\n",
    "This session illustrates several approaches to rely on existing models, and the available tools for that.\n",
    "\n",
    "## 1. Directly using third-party models: [🤗 HuggingFace](https://huggingface.co/)\n",
    "\n",
    "HuggingFace is a company that provides open-source tools, models, and a platform for machine learning development:\n",
    "\n",
    " - **Open-Source Machine Learning Tools**: Wide range of open-source libraries and tools, such as Transformers, which facilitate the development and deployment of machine learning models, particularly in natural language processing (NLP).\n",
    " - **Model Hub**: Vast repository of pre-trained models across various domains, allowing users to easily download, fine-tune, and integrate state-of-the-art models into their applications.\n",
    " - **Community and Collaboration**: Community of developers and researchers, offering platforms for collaboration, knowledge sharing, and contributions to machine learning advancements.\n",
    " - **APIs and Integrations**: APIs and integrations for deploying models as scalable services, enabling seamless use in production environments across different platforms.\n",
    "\n",
    "⚠️ __Unfortunately, a network issue prevents us from using HuggingFace from the server.__\n",
    "\n",
    "### Alternatives: KerasHub, KaggleHub\n",
    "\n",
    "There are other public and open-source hubs for reusing machine learning models. [Keras-hub](https://keras.io/keras_hub/) is probably the one that is more convenient to use with Keras, as all the models will follow the same API we have been working with so far.\n",
    "\n",
    "As an example, let's load and execute **locally** a (legacy) LLM model from [Mistral](https://mistral.ai/). The model has been previously [downloaded](https://www.kaggle.com/models/keras/mistral/keras/mistral_instruct_7b_en/7) and extracted in a local path `/opt/tljh/common/mistral_instruct_7b_en`:"
   ]
  },
  {
   "cell_type": "code",
   "execution_count": 2,
   "id": "4d21b06d-ef2a-4b4a-8f3a-1725d7c78a03",
   "metadata": {},
   "outputs": [
    {
     "name": "stderr",
     "output_type": "stream",
     "text": [
      "2025-05-23 09:47:55.647121: W tensorflow/core/common_runtime/gpu/gpu_bfc_allocator.cc:47] Overriding orig_value setting because the TF_FORCE_GPU_ALLOW_GROWTH environment variable is set. Original config value was 0.\n",
      "I0000 00:00:1747993675.647565 3616879 gpu_device.cc:2019] Created device /job:localhost/replica:0/task:0/device:GPU:0 with 27237 MB memory:  -> device: 0, name: NVIDIA L40S, pci bus id: 0000:61:00.0, compute capability: 8.9\n",
      "normalizer.cc(51) LOG(INFO) precompiled_charsmap is empty. use identity normalization.\n"
     ]
    },
    {
     "data": {
      "text/html": [
       "<pre style=\"white-space:pre;overflow-x:auto;line-height:normal;font-family:Menlo,'DejaVu Sans Mono',consolas,'Courier New',monospace\"><span style=\"font-weight: bold\">Preprocessor: \"mistral_causal_lm_preprocessor\"</span>\n",
       "</pre>\n"
      ],
      "text/plain": [
       "\u001b[1mPreprocessor: \"mistral_causal_lm_preprocessor\"\u001b[0m\n"
      ]
     },
     "metadata": {},
     "output_type": "display_data"
    },
    {
     "data": {
      "text/html": [
       "<pre style=\"white-space:pre;overflow-x:auto;line-height:normal;font-family:Menlo,'DejaVu Sans Mono',consolas,'Courier New',monospace\">┏━━━━━━━━━━━━━━━━━━━━━━━━━━━━━━━━━━━━━━━━━━━━━━━━━━━━━━━━━━━━━━━┳━━━━━━━━━━━━━━━━━━━━━━━━━━━━━━━━━━━━━━━━━━┓\n",
       "┃<span style=\"font-weight: bold\"> Layer (type)                                                  </span>┃<span style=\"font-weight: bold\">                                   Config </span>┃\n",
       "┡━━━━━━━━━━━━━━━━━━━━━━━━━━━━━━━━━━━━━━━━━━━━━━━━━━━━━━━━━━━━━━━╇━━━━━━━━━━━━━━━━━━━━━━━━━━━━━━━━━━━━━━━━━━┩\n",
       "│ mistral_tokenizer (<span style=\"color: #0087ff; text-decoration-color: #0087ff\">MistralTokenizer</span>)                          │                       Vocab size: <span style=\"color: #00af00; text-decoration-color: #00af00\">32,000</span> │\n",
       "└───────────────────────────────────────────────────────────────┴──────────────────────────────────────────┘\n",
       "</pre>\n"
      ],
      "text/plain": [
       "┏━━━━━━━━━━━━━━━━━━━━━━━━━━━━━━━━━━━━━━━━━━━━━━━━━━━━━━━━━━━━━━━┳━━━━━━━━━━━━━━━━━━━━━━━━━━━━━━━━━━━━━━━━━━┓\n",
       "┃\u001b[1m \u001b[0m\u001b[1mLayer (type)                                                 \u001b[0m\u001b[1m \u001b[0m┃\u001b[1m \u001b[0m\u001b[1m                                  Config\u001b[0m\u001b[1m \u001b[0m┃\n",
       "┡━━━━━━━━━━━━━━━━━━━━━━━━━━━━━━━━━━━━━━━━━━━━━━━━━━━━━━━━━━━━━━━╇━━━━━━━━━━━━━━━━━━━━━━━━━━━━━━━━━━━━━━━━━━┩\n",
       "│ mistral_tokenizer (\u001b[38;5;33mMistralTokenizer\u001b[0m)                          │                       Vocab size: \u001b[38;5;34m32,000\u001b[0m │\n",
       "└───────────────────────────────────────────────────────────────┴──────────────────────────────────────────┘\n"
      ]
     },
     "metadata": {},
     "output_type": "display_data"
    },
    {
     "data": {
      "text/html": [
       "<pre style=\"white-space:pre;overflow-x:auto;line-height:normal;font-family:Menlo,'DejaVu Sans Mono',consolas,'Courier New',monospace\"><span style=\"font-weight: bold\">Model: \"mistral_causal_lm\"</span>\n",
       "</pre>\n"
      ],
      "text/plain": [
       "\u001b[1mModel: \"mistral_causal_lm\"\u001b[0m\n"
      ]
     },
     "metadata": {},
     "output_type": "display_data"
    },
    {
     "data": {
      "text/html": [
       "<pre style=\"white-space:pre;overflow-x:auto;line-height:normal;font-family:Menlo,'DejaVu Sans Mono',consolas,'Courier New',monospace\">┏━━━━━━━━━━━━━━━━━━━━━━━━━━━━━━━┳━━━━━━━━━━━━━━━━━━━━━━━━━━━┳━━━━━━━━━━━━━━━━━┳━━━━━━━━━━━━━━━━━━━━━━━━━━━━┓\n",
       "┃<span style=\"font-weight: bold\"> Layer (type)                  </span>┃<span style=\"font-weight: bold\"> Output Shape              </span>┃<span style=\"font-weight: bold\">         Param # </span>┃<span style=\"font-weight: bold\"> Connected to               </span>┃\n",
       "┡━━━━━━━━━━━━━━━━━━━━━━━━━━━━━━━╇━━━━━━━━━━━━━━━━━━━━━━━━━━━╇━━━━━━━━━━━━━━━━━╇━━━━━━━━━━━━━━━━━━━━━━━━━━━━┩\n",
       "│ padding_mask (<span style=\"color: #0087ff; text-decoration-color: #0087ff\">InputLayer</span>)     │ (<span style=\"color: #00d7ff; text-decoration-color: #00d7ff\">None</span>, <span style=\"color: #00d7ff; text-decoration-color: #00d7ff\">None</span>)              │               <span style=\"color: #00af00; text-decoration-color: #00af00\">0</span> │ -                          │\n",
       "├───────────────────────────────┼───────────────────────────┼─────────────────┼────────────────────────────┤\n",
       "│ token_ids (<span style=\"color: #0087ff; text-decoration-color: #0087ff\">InputLayer</span>)        │ (<span style=\"color: #00d7ff; text-decoration-color: #00d7ff\">None</span>, <span style=\"color: #00d7ff; text-decoration-color: #00d7ff\">None</span>)              │               <span style=\"color: #00af00; text-decoration-color: #00af00\">0</span> │ -                          │\n",
       "├───────────────────────────────┼───────────────────────────┼─────────────────┼────────────────────────────┤\n",
       "│ mistral_backbone_1            │ (<span style=\"color: #00d7ff; text-decoration-color: #00d7ff\">None</span>, <span style=\"color: #00d7ff; text-decoration-color: #00d7ff\">None</span>, <span style=\"color: #00af00; text-decoration-color: #00af00\">4096</span>)        │   <span style=\"color: #00af00; text-decoration-color: #00af00\">7,241,732,096</span> │ padding_mask[<span style=\"color: #00af00; text-decoration-color: #00af00\">0</span>][<span style=\"color: #00af00; text-decoration-color: #00af00\">0</span>],        │\n",
       "│ (<span style=\"color: #0087ff; text-decoration-color: #0087ff\">MistralBackbone</span>)             │                           │                 │ token_ids[<span style=\"color: #00af00; text-decoration-color: #00af00\">0</span>][<span style=\"color: #00af00; text-decoration-color: #00af00\">0</span>]            │\n",
       "├───────────────────────────────┼───────────────────────────┼─────────────────┼────────────────────────────┤\n",
       "│ token_embedding               │ (<span style=\"color: #00d7ff; text-decoration-color: #00d7ff\">None</span>, <span style=\"color: #00d7ff; text-decoration-color: #00d7ff\">None</span>, <span style=\"color: #00af00; text-decoration-color: #00af00\">32000</span>)       │     <span style=\"color: #00af00; text-decoration-color: #00af00\">262,144,000</span> │ mistral_backbone_1[<span style=\"color: #00af00; text-decoration-color: #00af00\">0</span>][<span style=\"color: #00af00; text-decoration-color: #00af00\">0</span>]   │\n",
       "│ (<span style=\"color: #0087ff; text-decoration-color: #0087ff\">ReversibleEmbedding</span>)         │                           │                 │                            │\n",
       "└───────────────────────────────┴───────────────────────────┴─────────────────┴────────────────────────────┘\n",
       "</pre>\n"
      ],
      "text/plain": [
       "┏━━━━━━━━━━━━━━━━━━━━━━━━━━━━━━━┳━━━━━━━━━━━━━━━━━━━━━━━━━━━┳━━━━━━━━━━━━━━━━━┳━━━━━━━━━━━━━━━━━━━━━━━━━━━━┓\n",
       "┃\u001b[1m \u001b[0m\u001b[1mLayer (type)                 \u001b[0m\u001b[1m \u001b[0m┃\u001b[1m \u001b[0m\u001b[1mOutput Shape             \u001b[0m\u001b[1m \u001b[0m┃\u001b[1m \u001b[0m\u001b[1m        Param #\u001b[0m\u001b[1m \u001b[0m┃\u001b[1m \u001b[0m\u001b[1mConnected to              \u001b[0m\u001b[1m \u001b[0m┃\n",
       "┡━━━━━━━━━━━━━━━━━━━━━━━━━━━━━━━╇━━━━━━━━━━━━━━━━━━━━━━━━━━━╇━━━━━━━━━━━━━━━━━╇━━━━━━━━━━━━━━━━━━━━━━━━━━━━┩\n",
       "│ padding_mask (\u001b[38;5;33mInputLayer\u001b[0m)     │ (\u001b[38;5;45mNone\u001b[0m, \u001b[38;5;45mNone\u001b[0m)              │               \u001b[38;5;34m0\u001b[0m │ -                          │\n",
       "├───────────────────────────────┼───────────────────────────┼─────────────────┼────────────────────────────┤\n",
       "│ token_ids (\u001b[38;5;33mInputLayer\u001b[0m)        │ (\u001b[38;5;45mNone\u001b[0m, \u001b[38;5;45mNone\u001b[0m)              │               \u001b[38;5;34m0\u001b[0m │ -                          │\n",
       "├───────────────────────────────┼───────────────────────────┼─────────────────┼────────────────────────────┤\n",
       "│ mistral_backbone_1            │ (\u001b[38;5;45mNone\u001b[0m, \u001b[38;5;45mNone\u001b[0m, \u001b[38;5;34m4096\u001b[0m)        │   \u001b[38;5;34m7,241,732,096\u001b[0m │ padding_mask[\u001b[38;5;34m0\u001b[0m][\u001b[38;5;34m0\u001b[0m],        │\n",
       "│ (\u001b[38;5;33mMistralBackbone\u001b[0m)             │                           │                 │ token_ids[\u001b[38;5;34m0\u001b[0m][\u001b[38;5;34m0\u001b[0m]            │\n",
       "├───────────────────────────────┼───────────────────────────┼─────────────────┼────────────────────────────┤\n",
       "│ token_embedding               │ (\u001b[38;5;45mNone\u001b[0m, \u001b[38;5;45mNone\u001b[0m, \u001b[38;5;34m32000\u001b[0m)       │     \u001b[38;5;34m262,144,000\u001b[0m │ mistral_backbone_1[\u001b[38;5;34m0\u001b[0m][\u001b[38;5;34m0\u001b[0m]   │\n",
       "│ (\u001b[38;5;33mReversibleEmbedding\u001b[0m)         │                           │                 │                            │\n",
       "└───────────────────────────────┴───────────────────────────┴─────────────────┴────────────────────────────┘\n"
      ]
     },
     "metadata": {},
     "output_type": "display_data"
    },
    {
     "data": {
      "text/html": [
       "<pre style=\"white-space:pre;overflow-x:auto;line-height:normal;font-family:Menlo,'DejaVu Sans Mono',consolas,'Courier New',monospace\"><span style=\"font-weight: bold\"> Total params: </span><span style=\"color: #00af00; text-decoration-color: #00af00\">7,241,732,096</span> (13.49 GB)\n",
       "</pre>\n"
      ],
      "text/plain": [
       "\u001b[1m Total params: \u001b[0m\u001b[38;5;34m7,241,732,096\u001b[0m (13.49 GB)\n"
      ]
     },
     "metadata": {},
     "output_type": "display_data"
    },
    {
     "data": {
      "text/html": [
       "<pre style=\"white-space:pre;overflow-x:auto;line-height:normal;font-family:Menlo,'DejaVu Sans Mono',consolas,'Courier New',monospace\"><span style=\"font-weight: bold\"> Trainable params: </span><span style=\"color: #00af00; text-decoration-color: #00af00\">7,241,732,096</span> (13.49 GB)\n",
       "</pre>\n"
      ],
      "text/plain": [
       "\u001b[1m Trainable params: \u001b[0m\u001b[38;5;34m7,241,732,096\u001b[0m (13.49 GB)\n"
      ]
     },
     "metadata": {},
     "output_type": "display_data"
    },
    {
     "data": {
      "text/html": [
       "<pre style=\"white-space:pre;overflow-x:auto;line-height:normal;font-family:Menlo,'DejaVu Sans Mono',consolas,'Courier New',monospace\"><span style=\"font-weight: bold\"> Non-trainable params: </span><span style=\"color: #00af00; text-decoration-color: #00af00\">0</span> (0.00 B)\n",
       "</pre>\n"
      ],
      "text/plain": [
       "\u001b[1m Non-trainable params: \u001b[0m\u001b[38;5;34m0\u001b[0m (0.00 B)\n"
      ]
     },
     "metadata": {},
     "output_type": "display_data"
    }
   ],
   "source": [
    "mistral_lm = keras_hub.models.MistralCausalLM.from_preset(\"/opt/tljh/common/mistral_instruct_7b_en\", dtype=\"bfloat16\")\n",
    "mistral_lm.summary()"
   ]
  },
  {
   "cell_type": "markdown",
   "id": "21bb195a-4db3-48e9-95ba-751b016ae7d5",
   "metadata": {},
   "source": [
    "The core of this model is another model (the `backbone`), that we may inspect in a little more detail:"
   ]
  },
  {
   "cell_type": "code",
   "execution_count": 3,
   "id": "8f84a610-b6d4-4e7b-b74f-a7323fa5c6b7",
   "metadata": {},
   "outputs": [
    {
     "data": {
      "text/html": [
       "<pre style=\"white-space:pre;overflow-x:auto;line-height:normal;font-family:Menlo,'DejaVu Sans Mono',consolas,'Courier New',monospace\"><span style=\"font-weight: bold\">Model: \"mistral_backbone_1\"</span>\n",
       "</pre>\n"
      ],
      "text/plain": [
       "\u001b[1mModel: \"mistral_backbone_1\"\u001b[0m\n"
      ]
     },
     "metadata": {},
     "output_type": "display_data"
    },
    {
     "data": {
      "text/html": [
       "<pre style=\"white-space:pre;overflow-x:auto;line-height:normal;font-family:Menlo,'DejaVu Sans Mono',consolas,'Courier New',monospace\">┏━━━━━━━━━━━━━━━━━━━━━┳━━━━━━━━━━━━━━━━━━━┳━━━━━━━━━━━━┳━━━━━━━━━━━━━━━━━━━┓\n",
       "┃<span style=\"font-weight: bold\"> Layer (type)        </span>┃<span style=\"font-weight: bold\"> Output Shape      </span>┃<span style=\"font-weight: bold\">    Param # </span>┃<span style=\"font-weight: bold\"> Connected to      </span>┃\n",
       "┡━━━━━━━━━━━━━━━━━━━━━╇━━━━━━━━━━━━━━━━━━━╇━━━━━━━━━━━━╇━━━━━━━━━━━━━━━━━━━┩\n",
       "│ token_ids           │ (<span style=\"color: #00d7ff; text-decoration-color: #00d7ff\">None</span>, <span style=\"color: #00d7ff; text-decoration-color: #00d7ff\">None</span>)      │          <span style=\"color: #00af00; text-decoration-color: #00af00\">0</span> │ -                 │\n",
       "│ (<span style=\"color: #0087ff; text-decoration-color: #0087ff\">InputLayer</span>)        │                   │            │                   │\n",
       "├─────────────────────┼───────────────────┼────────────┼───────────────────┤\n",
       "│ token_embedding     │ (<span style=\"color: #00d7ff; text-decoration-color: #00d7ff\">None</span>, <span style=\"color: #00d7ff; text-decoration-color: #00d7ff\">None</span>,      │ <span style=\"color: #00af00; text-decoration-color: #00af00\">262,144,0…</span> │ token_ids[<span style=\"color: #00af00; text-decoration-color: #00af00\">0</span>][<span style=\"color: #00af00; text-decoration-color: #00af00\">0</span>]   │\n",
       "│ (<span style=\"color: #0087ff; text-decoration-color: #0087ff\">ReversibleEmbeddi…</span> │ <span style=\"color: #00af00; text-decoration-color: #00af00\">32000</span>)            │            │                   │\n",
       "├─────────────────────┼───────────────────┼────────────┼───────────────────┤\n",
       "│ padding_mask        │ (<span style=\"color: #00d7ff; text-decoration-color: #00d7ff\">None</span>, <span style=\"color: #00d7ff; text-decoration-color: #00d7ff\">None</span>)      │          <span style=\"color: #00af00; text-decoration-color: #00af00\">0</span> │ -                 │\n",
       "│ (<span style=\"color: #0087ff; text-decoration-color: #0087ff\">InputLayer</span>)        │                   │            │                   │\n",
       "├─────────────────────┼───────────────────┼────────────┼───────────────────┤\n",
       "│ transformer_layer_0 │ (<span style=\"color: #00d7ff; text-decoration-color: #00d7ff\">None</span>, <span style=\"color: #00d7ff; text-decoration-color: #00d7ff\">None</span>,      │ <span style=\"color: #00af00; text-decoration-color: #00af00\">218,112,0…</span> │ token_embedding[<span style=\"color: #00af00; text-decoration-color: #00af00\">…</span> │\n",
       "│ (<span style=\"color: #0087ff; text-decoration-color: #0087ff\">MistralTransforme…</span> │ <span style=\"color: #00af00; text-decoration-color: #00af00\">4096</span>)             │            │ padding_mask[<span style=\"color: #00af00; text-decoration-color: #00af00\">0</span>][<span style=\"color: #00af00; text-decoration-color: #00af00\">…</span> │\n",
       "├─────────────────────┼───────────────────┼────────────┼───────────────────┤\n",
       "│ transformer_layer_1 │ (<span style=\"color: #00d7ff; text-decoration-color: #00d7ff\">None</span>, <span style=\"color: #00d7ff; text-decoration-color: #00d7ff\">None</span>,      │ <span style=\"color: #00af00; text-decoration-color: #00af00\">218,112,0…</span> │ transformer_laye… │\n",
       "│ (<span style=\"color: #0087ff; text-decoration-color: #0087ff\">MistralTransforme…</span> │ <span style=\"color: #00af00; text-decoration-color: #00af00\">4096</span>)             │            │ padding_mask[<span style=\"color: #00af00; text-decoration-color: #00af00\">0</span>][<span style=\"color: #00af00; text-decoration-color: #00af00\">…</span> │\n",
       "├─────────────────────┼───────────────────┼────────────┼───────────────────┤\n",
       "│ transformer_layer_2 │ (<span style=\"color: #00d7ff; text-decoration-color: #00d7ff\">None</span>, <span style=\"color: #00d7ff; text-decoration-color: #00d7ff\">None</span>,      │ <span style=\"color: #00af00; text-decoration-color: #00af00\">218,112,0…</span> │ transformer_laye… │\n",
       "│ (<span style=\"color: #0087ff; text-decoration-color: #0087ff\">MistralTransforme…</span> │ <span style=\"color: #00af00; text-decoration-color: #00af00\">4096</span>)             │            │ padding_mask[<span style=\"color: #00af00; text-decoration-color: #00af00\">0</span>][<span style=\"color: #00af00; text-decoration-color: #00af00\">…</span> │\n",
       "├─────────────────────┼───────────────────┼────────────┼───────────────────┤\n",
       "│ transformer_layer_3 │ (<span style=\"color: #00d7ff; text-decoration-color: #00d7ff\">None</span>, <span style=\"color: #00d7ff; text-decoration-color: #00d7ff\">None</span>,      │ <span style=\"color: #00af00; text-decoration-color: #00af00\">218,112,0…</span> │ transformer_laye… │\n",
       "│ (<span style=\"color: #0087ff; text-decoration-color: #0087ff\">MistralTransforme…</span> │ <span style=\"color: #00af00; text-decoration-color: #00af00\">4096</span>)             │            │ padding_mask[<span style=\"color: #00af00; text-decoration-color: #00af00\">0</span>][<span style=\"color: #00af00; text-decoration-color: #00af00\">…</span> │\n",
       "├─────────────────────┼───────────────────┼────────────┼───────────────────┤\n",
       "│ transformer_layer_4 │ (<span style=\"color: #00d7ff; text-decoration-color: #00d7ff\">None</span>, <span style=\"color: #00d7ff; text-decoration-color: #00d7ff\">None</span>,      │ <span style=\"color: #00af00; text-decoration-color: #00af00\">218,112,0…</span> │ transformer_laye… │\n",
       "│ (<span style=\"color: #0087ff; text-decoration-color: #0087ff\">MistralTransforme…</span> │ <span style=\"color: #00af00; text-decoration-color: #00af00\">4096</span>)             │            │ padding_mask[<span style=\"color: #00af00; text-decoration-color: #00af00\">0</span>][<span style=\"color: #00af00; text-decoration-color: #00af00\">…</span> │\n",
       "├─────────────────────┼───────────────────┼────────────┼───────────────────┤\n",
       "│ transformer_layer_5 │ (<span style=\"color: #00d7ff; text-decoration-color: #00d7ff\">None</span>, <span style=\"color: #00d7ff; text-decoration-color: #00d7ff\">None</span>,      │ <span style=\"color: #00af00; text-decoration-color: #00af00\">218,112,0…</span> │ transformer_laye… │\n",
       "│ (<span style=\"color: #0087ff; text-decoration-color: #0087ff\">MistralTransforme…</span> │ <span style=\"color: #00af00; text-decoration-color: #00af00\">4096</span>)             │            │ padding_mask[<span style=\"color: #00af00; text-decoration-color: #00af00\">0</span>][<span style=\"color: #00af00; text-decoration-color: #00af00\">…</span> │\n",
       "├─────────────────────┼───────────────────┼────────────┼───────────────────┤\n",
       "│ transformer_layer_6 │ (<span style=\"color: #00d7ff; text-decoration-color: #00d7ff\">None</span>, <span style=\"color: #00d7ff; text-decoration-color: #00d7ff\">None</span>,      │ <span style=\"color: #00af00; text-decoration-color: #00af00\">218,112,0…</span> │ transformer_laye… │\n",
       "│ (<span style=\"color: #0087ff; text-decoration-color: #0087ff\">MistralTransforme…</span> │ <span style=\"color: #00af00; text-decoration-color: #00af00\">4096</span>)             │            │ padding_mask[<span style=\"color: #00af00; text-decoration-color: #00af00\">0</span>][<span style=\"color: #00af00; text-decoration-color: #00af00\">…</span> │\n",
       "├─────────────────────┼───────────────────┼────────────┼───────────────────┤\n",
       "│ transformer_layer_7 │ (<span style=\"color: #00d7ff; text-decoration-color: #00d7ff\">None</span>, <span style=\"color: #00d7ff; text-decoration-color: #00d7ff\">None</span>,      │ <span style=\"color: #00af00; text-decoration-color: #00af00\">218,112,0…</span> │ transformer_laye… │\n",
       "│ (<span style=\"color: #0087ff; text-decoration-color: #0087ff\">MistralTransforme…</span> │ <span style=\"color: #00af00; text-decoration-color: #00af00\">4096</span>)             │            │ padding_mask[<span style=\"color: #00af00; text-decoration-color: #00af00\">0</span>][<span style=\"color: #00af00; text-decoration-color: #00af00\">…</span> │\n",
       "├─────────────────────┼───────────────────┼────────────┼───────────────────┤\n",
       "│ transformer_layer_8 │ (<span style=\"color: #00d7ff; text-decoration-color: #00d7ff\">None</span>, <span style=\"color: #00d7ff; text-decoration-color: #00d7ff\">None</span>,      │ <span style=\"color: #00af00; text-decoration-color: #00af00\">218,112,0…</span> │ transformer_laye… │\n",
       "│ (<span style=\"color: #0087ff; text-decoration-color: #0087ff\">MistralTransforme…</span> │ <span style=\"color: #00af00; text-decoration-color: #00af00\">4096</span>)             │            │ padding_mask[<span style=\"color: #00af00; text-decoration-color: #00af00\">0</span>][<span style=\"color: #00af00; text-decoration-color: #00af00\">…</span> │\n",
       "├─────────────────────┼───────────────────┼────────────┼───────────────────┤\n",
       "│ transformer_layer_9 │ (<span style=\"color: #00d7ff; text-decoration-color: #00d7ff\">None</span>, <span style=\"color: #00d7ff; text-decoration-color: #00d7ff\">None</span>,      │ <span style=\"color: #00af00; text-decoration-color: #00af00\">218,112,0…</span> │ transformer_laye… │\n",
       "│ (<span style=\"color: #0087ff; text-decoration-color: #0087ff\">MistralTransforme…</span> │ <span style=\"color: #00af00; text-decoration-color: #00af00\">4096</span>)             │            │ padding_mask[<span style=\"color: #00af00; text-decoration-color: #00af00\">0</span>][<span style=\"color: #00af00; text-decoration-color: #00af00\">…</span> │\n",
       "├─────────────────────┼───────────────────┼────────────┼───────────────────┤\n",
       "│ transformer_layer_… │ (<span style=\"color: #00d7ff; text-decoration-color: #00d7ff\">None</span>, <span style=\"color: #00d7ff; text-decoration-color: #00d7ff\">None</span>,      │ <span style=\"color: #00af00; text-decoration-color: #00af00\">218,112,0…</span> │ transformer_laye… │\n",
       "│ (<span style=\"color: #0087ff; text-decoration-color: #0087ff\">MistralTransforme…</span> │ <span style=\"color: #00af00; text-decoration-color: #00af00\">4096</span>)             │            │ padding_mask[<span style=\"color: #00af00; text-decoration-color: #00af00\">0</span>][<span style=\"color: #00af00; text-decoration-color: #00af00\">…</span> │\n",
       "├─────────────────────┼───────────────────┼────────────┼───────────────────┤\n",
       "│ transformer_layer_… │ (<span style=\"color: #00d7ff; text-decoration-color: #00d7ff\">None</span>, <span style=\"color: #00d7ff; text-decoration-color: #00d7ff\">None</span>,      │ <span style=\"color: #00af00; text-decoration-color: #00af00\">218,112,0…</span> │ transformer_laye… │\n",
       "│ (<span style=\"color: #0087ff; text-decoration-color: #0087ff\">MistralTransforme…</span> │ <span style=\"color: #00af00; text-decoration-color: #00af00\">4096</span>)             │            │ padding_mask[<span style=\"color: #00af00; text-decoration-color: #00af00\">0</span>][<span style=\"color: #00af00; text-decoration-color: #00af00\">…</span> │\n",
       "├─────────────────────┼───────────────────┼────────────┼───────────────────┤\n",
       "│ transformer_layer_… │ (<span style=\"color: #00d7ff; text-decoration-color: #00d7ff\">None</span>, <span style=\"color: #00d7ff; text-decoration-color: #00d7ff\">None</span>,      │ <span style=\"color: #00af00; text-decoration-color: #00af00\">218,112,0…</span> │ transformer_laye… │\n",
       "│ (<span style=\"color: #0087ff; text-decoration-color: #0087ff\">MistralTransforme…</span> │ <span style=\"color: #00af00; text-decoration-color: #00af00\">4096</span>)             │            │ padding_mask[<span style=\"color: #00af00; text-decoration-color: #00af00\">0</span>][<span style=\"color: #00af00; text-decoration-color: #00af00\">…</span> │\n",
       "├─────────────────────┼───────────────────┼────────────┼───────────────────┤\n",
       "│ transformer_layer_… │ (<span style=\"color: #00d7ff; text-decoration-color: #00d7ff\">None</span>, <span style=\"color: #00d7ff; text-decoration-color: #00d7ff\">None</span>,      │ <span style=\"color: #00af00; text-decoration-color: #00af00\">218,112,0…</span> │ transformer_laye… │\n",
       "│ (<span style=\"color: #0087ff; text-decoration-color: #0087ff\">MistralTransforme…</span> │ <span style=\"color: #00af00; text-decoration-color: #00af00\">4096</span>)             │            │ padding_mask[<span style=\"color: #00af00; text-decoration-color: #00af00\">0</span>][<span style=\"color: #00af00; text-decoration-color: #00af00\">…</span> │\n",
       "├─────────────────────┼───────────────────┼────────────┼───────────────────┤\n",
       "│ transformer_layer_… │ (<span style=\"color: #00d7ff; text-decoration-color: #00d7ff\">None</span>, <span style=\"color: #00d7ff; text-decoration-color: #00d7ff\">None</span>,      │ <span style=\"color: #00af00; text-decoration-color: #00af00\">218,112,0…</span> │ transformer_laye… │\n",
       "│ (<span style=\"color: #0087ff; text-decoration-color: #0087ff\">MistralTransforme…</span> │ <span style=\"color: #00af00; text-decoration-color: #00af00\">4096</span>)             │            │ padding_mask[<span style=\"color: #00af00; text-decoration-color: #00af00\">0</span>][<span style=\"color: #00af00; text-decoration-color: #00af00\">…</span> │\n",
       "├─────────────────────┼───────────────────┼────────────┼───────────────────┤\n",
       "│ transformer_layer_… │ (<span style=\"color: #00d7ff; text-decoration-color: #00d7ff\">None</span>, <span style=\"color: #00d7ff; text-decoration-color: #00d7ff\">None</span>,      │ <span style=\"color: #00af00; text-decoration-color: #00af00\">218,112,0…</span> │ transformer_laye… │\n",
       "│ (<span style=\"color: #0087ff; text-decoration-color: #0087ff\">MistralTransforme…</span> │ <span style=\"color: #00af00; text-decoration-color: #00af00\">4096</span>)             │            │ padding_mask[<span style=\"color: #00af00; text-decoration-color: #00af00\">0</span>][<span style=\"color: #00af00; text-decoration-color: #00af00\">…</span> │\n",
       "├─────────────────────┼───────────────────┼────────────┼───────────────────┤\n",
       "│ transformer_layer_… │ (<span style=\"color: #00d7ff; text-decoration-color: #00d7ff\">None</span>, <span style=\"color: #00d7ff; text-decoration-color: #00d7ff\">None</span>,      │ <span style=\"color: #00af00; text-decoration-color: #00af00\">218,112,0…</span> │ transformer_laye… │\n",
       "│ (<span style=\"color: #0087ff; text-decoration-color: #0087ff\">MistralTransforme…</span> │ <span style=\"color: #00af00; text-decoration-color: #00af00\">4096</span>)             │            │ padding_mask[<span style=\"color: #00af00; text-decoration-color: #00af00\">0</span>][<span style=\"color: #00af00; text-decoration-color: #00af00\">…</span> │\n",
       "├─────────────────────┼───────────────────┼────────────┼───────────────────┤\n",
       "│ transformer_layer_… │ (<span style=\"color: #00d7ff; text-decoration-color: #00d7ff\">None</span>, <span style=\"color: #00d7ff; text-decoration-color: #00d7ff\">None</span>,      │ <span style=\"color: #00af00; text-decoration-color: #00af00\">218,112,0…</span> │ transformer_laye… │\n",
       "│ (<span style=\"color: #0087ff; text-decoration-color: #0087ff\">MistralTransforme…</span> │ <span style=\"color: #00af00; text-decoration-color: #00af00\">4096</span>)             │            │ padding_mask[<span style=\"color: #00af00; text-decoration-color: #00af00\">0</span>][<span style=\"color: #00af00; text-decoration-color: #00af00\">…</span> │\n",
       "├─────────────────────┼───────────────────┼────────────┼───────────────────┤\n",
       "│ transformer_layer_… │ (<span style=\"color: #00d7ff; text-decoration-color: #00d7ff\">None</span>, <span style=\"color: #00d7ff; text-decoration-color: #00d7ff\">None</span>,      │ <span style=\"color: #00af00; text-decoration-color: #00af00\">218,112,0…</span> │ transformer_laye… │\n",
       "│ (<span style=\"color: #0087ff; text-decoration-color: #0087ff\">MistralTransforme…</span> │ <span style=\"color: #00af00; text-decoration-color: #00af00\">4096</span>)             │            │ padding_mask[<span style=\"color: #00af00; text-decoration-color: #00af00\">0</span>][<span style=\"color: #00af00; text-decoration-color: #00af00\">…</span> │\n",
       "├─────────────────────┼───────────────────┼────────────┼───────────────────┤\n",
       "│ transformer_layer_… │ (<span style=\"color: #00d7ff; text-decoration-color: #00d7ff\">None</span>, <span style=\"color: #00d7ff; text-decoration-color: #00d7ff\">None</span>,      │ <span style=\"color: #00af00; text-decoration-color: #00af00\">218,112,0…</span> │ transformer_laye… │\n",
       "│ (<span style=\"color: #0087ff; text-decoration-color: #0087ff\">MistralTransforme…</span> │ <span style=\"color: #00af00; text-decoration-color: #00af00\">4096</span>)             │            │ padding_mask[<span style=\"color: #00af00; text-decoration-color: #00af00\">0</span>][<span style=\"color: #00af00; text-decoration-color: #00af00\">…</span> │\n",
       "├─────────────────────┼───────────────────┼────────────┼───────────────────┤\n",
       "│ transformer_layer_… │ (<span style=\"color: #00d7ff; text-decoration-color: #00d7ff\">None</span>, <span style=\"color: #00d7ff; text-decoration-color: #00d7ff\">None</span>,      │ <span style=\"color: #00af00; text-decoration-color: #00af00\">218,112,0…</span> │ transformer_laye… │\n",
       "│ (<span style=\"color: #0087ff; text-decoration-color: #0087ff\">MistralTransforme…</span> │ <span style=\"color: #00af00; text-decoration-color: #00af00\">4096</span>)             │            │ padding_mask[<span style=\"color: #00af00; text-decoration-color: #00af00\">0</span>][<span style=\"color: #00af00; text-decoration-color: #00af00\">…</span> │\n",
       "├─────────────────────┼───────────────────┼────────────┼───────────────────┤\n",
       "│ transformer_layer_… │ (<span style=\"color: #00d7ff; text-decoration-color: #00d7ff\">None</span>, <span style=\"color: #00d7ff; text-decoration-color: #00d7ff\">None</span>,      │ <span style=\"color: #00af00; text-decoration-color: #00af00\">218,112,0…</span> │ transformer_laye… │\n",
       "│ (<span style=\"color: #0087ff; text-decoration-color: #0087ff\">MistralTransforme…</span> │ <span style=\"color: #00af00; text-decoration-color: #00af00\">4096</span>)             │            │ padding_mask[<span style=\"color: #00af00; text-decoration-color: #00af00\">0</span>][<span style=\"color: #00af00; text-decoration-color: #00af00\">…</span> │\n",
       "├─────────────────────┼───────────────────┼────────────┼───────────────────┤\n",
       "│ transformer_layer_… │ (<span style=\"color: #00d7ff; text-decoration-color: #00d7ff\">None</span>, <span style=\"color: #00d7ff; text-decoration-color: #00d7ff\">None</span>,      │ <span style=\"color: #00af00; text-decoration-color: #00af00\">218,112,0…</span> │ transformer_laye… │\n",
       "│ (<span style=\"color: #0087ff; text-decoration-color: #0087ff\">MistralTransforme…</span> │ <span style=\"color: #00af00; text-decoration-color: #00af00\">4096</span>)             │            │ padding_mask[<span style=\"color: #00af00; text-decoration-color: #00af00\">0</span>][<span style=\"color: #00af00; text-decoration-color: #00af00\">…</span> │\n",
       "├─────────────────────┼───────────────────┼────────────┼───────────────────┤\n",
       "│ transformer_layer_… │ (<span style=\"color: #00d7ff; text-decoration-color: #00d7ff\">None</span>, <span style=\"color: #00d7ff; text-decoration-color: #00d7ff\">None</span>,      │ <span style=\"color: #00af00; text-decoration-color: #00af00\">218,112,0…</span> │ transformer_laye… │\n",
       "│ (<span style=\"color: #0087ff; text-decoration-color: #0087ff\">MistralTransforme…</span> │ <span style=\"color: #00af00; text-decoration-color: #00af00\">4096</span>)             │            │ padding_mask[<span style=\"color: #00af00; text-decoration-color: #00af00\">0</span>][<span style=\"color: #00af00; text-decoration-color: #00af00\">…</span> │\n",
       "├─────────────────────┼───────────────────┼────────────┼───────────────────┤\n",
       "│ transformer_layer_… │ (<span style=\"color: #00d7ff; text-decoration-color: #00d7ff\">None</span>, <span style=\"color: #00d7ff; text-decoration-color: #00d7ff\">None</span>,      │ <span style=\"color: #00af00; text-decoration-color: #00af00\">218,112,0…</span> │ transformer_laye… │\n",
       "│ (<span style=\"color: #0087ff; text-decoration-color: #0087ff\">MistralTransforme…</span> │ <span style=\"color: #00af00; text-decoration-color: #00af00\">4096</span>)             │            │ padding_mask[<span style=\"color: #00af00; text-decoration-color: #00af00\">0</span>][<span style=\"color: #00af00; text-decoration-color: #00af00\">…</span> │\n",
       "├─────────────────────┼───────────────────┼────────────┼───────────────────┤\n",
       "│ transformer_layer_… │ (<span style=\"color: #00d7ff; text-decoration-color: #00d7ff\">None</span>, <span style=\"color: #00d7ff; text-decoration-color: #00d7ff\">None</span>,      │ <span style=\"color: #00af00; text-decoration-color: #00af00\">218,112,0…</span> │ transformer_laye… │\n",
       "│ (<span style=\"color: #0087ff; text-decoration-color: #0087ff\">MistralTransforme…</span> │ <span style=\"color: #00af00; text-decoration-color: #00af00\">4096</span>)             │            │ padding_mask[<span style=\"color: #00af00; text-decoration-color: #00af00\">0</span>][<span style=\"color: #00af00; text-decoration-color: #00af00\">…</span> │\n",
       "├─────────────────────┼───────────────────┼────────────┼───────────────────┤\n",
       "│ transformer_layer_… │ (<span style=\"color: #00d7ff; text-decoration-color: #00d7ff\">None</span>, <span style=\"color: #00d7ff; text-decoration-color: #00d7ff\">None</span>,      │ <span style=\"color: #00af00; text-decoration-color: #00af00\">218,112,0…</span> │ transformer_laye… │\n",
       "│ (<span style=\"color: #0087ff; text-decoration-color: #0087ff\">MistralTransforme…</span> │ <span style=\"color: #00af00; text-decoration-color: #00af00\">4096</span>)             │            │ padding_mask[<span style=\"color: #00af00; text-decoration-color: #00af00\">0</span>][<span style=\"color: #00af00; text-decoration-color: #00af00\">…</span> │\n",
       "├─────────────────────┼───────────────────┼────────────┼───────────────────┤\n",
       "│ transformer_layer_… │ (<span style=\"color: #00d7ff; text-decoration-color: #00d7ff\">None</span>, <span style=\"color: #00d7ff; text-decoration-color: #00d7ff\">None</span>,      │ <span style=\"color: #00af00; text-decoration-color: #00af00\">218,112,0…</span> │ transformer_laye… │\n",
       "│ (<span style=\"color: #0087ff; text-decoration-color: #0087ff\">MistralTransforme…</span> │ <span style=\"color: #00af00; text-decoration-color: #00af00\">4096</span>)             │            │ padding_mask[<span style=\"color: #00af00; text-decoration-color: #00af00\">0</span>][<span style=\"color: #00af00; text-decoration-color: #00af00\">…</span> │\n",
       "├─────────────────────┼───────────────────┼────────────┼───────────────────┤\n",
       "│ transformer_layer_… │ (<span style=\"color: #00d7ff; text-decoration-color: #00d7ff\">None</span>, <span style=\"color: #00d7ff; text-decoration-color: #00d7ff\">None</span>,      │ <span style=\"color: #00af00; text-decoration-color: #00af00\">218,112,0…</span> │ transformer_laye… │\n",
       "│ (<span style=\"color: #0087ff; text-decoration-color: #0087ff\">MistralTransforme…</span> │ <span style=\"color: #00af00; text-decoration-color: #00af00\">4096</span>)             │            │ padding_mask[<span style=\"color: #00af00; text-decoration-color: #00af00\">0</span>][<span style=\"color: #00af00; text-decoration-color: #00af00\">…</span> │\n",
       "├─────────────────────┼───────────────────┼────────────┼───────────────────┤\n",
       "│ transformer_layer_… │ (<span style=\"color: #00d7ff; text-decoration-color: #00d7ff\">None</span>, <span style=\"color: #00d7ff; text-decoration-color: #00d7ff\">None</span>,      │ <span style=\"color: #00af00; text-decoration-color: #00af00\">218,112,0…</span> │ transformer_laye… │\n",
       "│ (<span style=\"color: #0087ff; text-decoration-color: #0087ff\">MistralTransforme…</span> │ <span style=\"color: #00af00; text-decoration-color: #00af00\">4096</span>)             │            │ padding_mask[<span style=\"color: #00af00; text-decoration-color: #00af00\">0</span>][<span style=\"color: #00af00; text-decoration-color: #00af00\">…</span> │\n",
       "├─────────────────────┼───────────────────┼────────────┼───────────────────┤\n",
       "│ transformer_layer_… │ (<span style=\"color: #00d7ff; text-decoration-color: #00d7ff\">None</span>, <span style=\"color: #00d7ff; text-decoration-color: #00d7ff\">None</span>,      │ <span style=\"color: #00af00; text-decoration-color: #00af00\">218,112,0…</span> │ transformer_laye… │\n",
       "│ (<span style=\"color: #0087ff; text-decoration-color: #0087ff\">MistralTransforme…</span> │ <span style=\"color: #00af00; text-decoration-color: #00af00\">4096</span>)             │            │ padding_mask[<span style=\"color: #00af00; text-decoration-color: #00af00\">0</span>][<span style=\"color: #00af00; text-decoration-color: #00af00\">…</span> │\n",
       "├─────────────────────┼───────────────────┼────────────┼───────────────────┤\n",
       "│ transformer_layer_… │ (<span style=\"color: #00d7ff; text-decoration-color: #00d7ff\">None</span>, <span style=\"color: #00d7ff; text-decoration-color: #00d7ff\">None</span>,      │ <span style=\"color: #00af00; text-decoration-color: #00af00\">218,112,0…</span> │ transformer_laye… │\n",
       "│ (<span style=\"color: #0087ff; text-decoration-color: #0087ff\">MistralTransforme…</span> │ <span style=\"color: #00af00; text-decoration-color: #00af00\">4096</span>)             │            │ padding_mask[<span style=\"color: #00af00; text-decoration-color: #00af00\">0</span>][<span style=\"color: #00af00; text-decoration-color: #00af00\">…</span> │\n",
       "├─────────────────────┼───────────────────┼────────────┼───────────────────┤\n",
       "│ sequence_output_la… │ (<span style=\"color: #00d7ff; text-decoration-color: #00d7ff\">None</span>, <span style=\"color: #00d7ff; text-decoration-color: #00d7ff\">None</span>,      │      <span style=\"color: #00af00; text-decoration-color: #00af00\">4,096</span> │ transformer_laye… │\n",
       "│ (<span style=\"color: #0087ff; text-decoration-color: #0087ff\">MistralLayerNorma…</span> │ <span style=\"color: #00af00; text-decoration-color: #00af00\">4096</span>)             │            │                   │\n",
       "└─────────────────────┴───────────────────┴────────────┴───────────────────┘\n",
       "</pre>\n"
      ],
      "text/plain": [
       "┏━━━━━━━━━━━━━━━━━━━━━┳━━━━━━━━━━━━━━━━━━━┳━━━━━━━━━━━━┳━━━━━━━━━━━━━━━━━━━┓\n",
       "┃\u001b[1m \u001b[0m\u001b[1mLayer (type)       \u001b[0m\u001b[1m \u001b[0m┃\u001b[1m \u001b[0m\u001b[1mOutput Shape     \u001b[0m\u001b[1m \u001b[0m┃\u001b[1m \u001b[0m\u001b[1m   Param #\u001b[0m\u001b[1m \u001b[0m┃\u001b[1m \u001b[0m\u001b[1mConnected to     \u001b[0m\u001b[1m \u001b[0m┃\n",
       "┡━━━━━━━━━━━━━━━━━━━━━╇━━━━━━━━━━━━━━━━━━━╇━━━━━━━━━━━━╇━━━━━━━━━━━━━━━━━━━┩\n",
       "│ token_ids           │ (\u001b[38;5;45mNone\u001b[0m, \u001b[38;5;45mNone\u001b[0m)      │          \u001b[38;5;34m0\u001b[0m │ -                 │\n",
       "│ (\u001b[38;5;33mInputLayer\u001b[0m)        │                   │            │                   │\n",
       "├─────────────────────┼───────────────────┼────────────┼───────────────────┤\n",
       "│ token_embedding     │ (\u001b[38;5;45mNone\u001b[0m, \u001b[38;5;45mNone\u001b[0m,      │ \u001b[38;5;34m262,144,0…\u001b[0m │ token_ids[\u001b[38;5;34m0\u001b[0m][\u001b[38;5;34m0\u001b[0m]   │\n",
       "│ (\u001b[38;5;33mReversibleEmbeddi…\u001b[0m │ \u001b[38;5;34m32000\u001b[0m)            │            │                   │\n",
       "├─────────────────────┼───────────────────┼────────────┼───────────────────┤\n",
       "│ padding_mask        │ (\u001b[38;5;45mNone\u001b[0m, \u001b[38;5;45mNone\u001b[0m)      │          \u001b[38;5;34m0\u001b[0m │ -                 │\n",
       "│ (\u001b[38;5;33mInputLayer\u001b[0m)        │                   │            │                   │\n",
       "├─────────────────────┼───────────────────┼────────────┼───────────────────┤\n",
       "│ transformer_layer_0 │ (\u001b[38;5;45mNone\u001b[0m, \u001b[38;5;45mNone\u001b[0m,      │ \u001b[38;5;34m218,112,0…\u001b[0m │ token_embedding[\u001b[38;5;34m…\u001b[0m │\n",
       "│ (\u001b[38;5;33mMistralTransforme…\u001b[0m │ \u001b[38;5;34m4096\u001b[0m)             │            │ padding_mask[\u001b[38;5;34m0\u001b[0m][\u001b[38;5;34m…\u001b[0m │\n",
       "├─────────────────────┼───────────────────┼────────────┼───────────────────┤\n",
       "│ transformer_layer_1 │ (\u001b[38;5;45mNone\u001b[0m, \u001b[38;5;45mNone\u001b[0m,      │ \u001b[38;5;34m218,112,0…\u001b[0m │ transformer_laye… │\n",
       "│ (\u001b[38;5;33mMistralTransforme…\u001b[0m │ \u001b[38;5;34m4096\u001b[0m)             │            │ padding_mask[\u001b[38;5;34m0\u001b[0m][\u001b[38;5;34m…\u001b[0m │\n",
       "├─────────────────────┼───────────────────┼────────────┼───────────────────┤\n",
       "│ transformer_layer_2 │ (\u001b[38;5;45mNone\u001b[0m, \u001b[38;5;45mNone\u001b[0m,      │ \u001b[38;5;34m218,112,0…\u001b[0m │ transformer_laye… │\n",
       "│ (\u001b[38;5;33mMistralTransforme…\u001b[0m │ \u001b[38;5;34m4096\u001b[0m)             │            │ padding_mask[\u001b[38;5;34m0\u001b[0m][\u001b[38;5;34m…\u001b[0m │\n",
       "├─────────────────────┼───────────────────┼────────────┼───────────────────┤\n",
       "│ transformer_layer_3 │ (\u001b[38;5;45mNone\u001b[0m, \u001b[38;5;45mNone\u001b[0m,      │ \u001b[38;5;34m218,112,0…\u001b[0m │ transformer_laye… │\n",
       "│ (\u001b[38;5;33mMistralTransforme…\u001b[0m │ \u001b[38;5;34m4096\u001b[0m)             │            │ padding_mask[\u001b[38;5;34m0\u001b[0m][\u001b[38;5;34m…\u001b[0m │\n",
       "├─────────────────────┼───────────────────┼────────────┼───────────────────┤\n",
       "│ transformer_layer_4 │ (\u001b[38;5;45mNone\u001b[0m, \u001b[38;5;45mNone\u001b[0m,      │ \u001b[38;5;34m218,112,0…\u001b[0m │ transformer_laye… │\n",
       "│ (\u001b[38;5;33mMistralTransforme…\u001b[0m │ \u001b[38;5;34m4096\u001b[0m)             │            │ padding_mask[\u001b[38;5;34m0\u001b[0m][\u001b[38;5;34m…\u001b[0m │\n",
       "├─────────────────────┼───────────────────┼────────────┼───────────────────┤\n",
       "│ transformer_layer_5 │ (\u001b[38;5;45mNone\u001b[0m, \u001b[38;5;45mNone\u001b[0m,      │ \u001b[38;5;34m218,112,0…\u001b[0m │ transformer_laye… │\n",
       "│ (\u001b[38;5;33mMistralTransforme…\u001b[0m │ \u001b[38;5;34m4096\u001b[0m)             │            │ padding_mask[\u001b[38;5;34m0\u001b[0m][\u001b[38;5;34m…\u001b[0m │\n",
       "├─────────────────────┼───────────────────┼────────────┼───────────────────┤\n",
       "│ transformer_layer_6 │ (\u001b[38;5;45mNone\u001b[0m, \u001b[38;5;45mNone\u001b[0m,      │ \u001b[38;5;34m218,112,0…\u001b[0m │ transformer_laye… │\n",
       "│ (\u001b[38;5;33mMistralTransforme…\u001b[0m │ \u001b[38;5;34m4096\u001b[0m)             │            │ padding_mask[\u001b[38;5;34m0\u001b[0m][\u001b[38;5;34m…\u001b[0m │\n",
       "├─────────────────────┼───────────────────┼────────────┼───────────────────┤\n",
       "│ transformer_layer_7 │ (\u001b[38;5;45mNone\u001b[0m, \u001b[38;5;45mNone\u001b[0m,      │ \u001b[38;5;34m218,112,0…\u001b[0m │ transformer_laye… │\n",
       "│ (\u001b[38;5;33mMistralTransforme…\u001b[0m │ \u001b[38;5;34m4096\u001b[0m)             │            │ padding_mask[\u001b[38;5;34m0\u001b[0m][\u001b[38;5;34m…\u001b[0m │\n",
       "├─────────────────────┼───────────────────┼────────────┼───────────────────┤\n",
       "│ transformer_layer_8 │ (\u001b[38;5;45mNone\u001b[0m, \u001b[38;5;45mNone\u001b[0m,      │ \u001b[38;5;34m218,112,0…\u001b[0m │ transformer_laye… │\n",
       "│ (\u001b[38;5;33mMistralTransforme…\u001b[0m │ \u001b[38;5;34m4096\u001b[0m)             │            │ padding_mask[\u001b[38;5;34m0\u001b[0m][\u001b[38;5;34m…\u001b[0m │\n",
       "├─────────────────────┼───────────────────┼────────────┼───────────────────┤\n",
       "│ transformer_layer_9 │ (\u001b[38;5;45mNone\u001b[0m, \u001b[38;5;45mNone\u001b[0m,      │ \u001b[38;5;34m218,112,0…\u001b[0m │ transformer_laye… │\n",
       "│ (\u001b[38;5;33mMistralTransforme…\u001b[0m │ \u001b[38;5;34m4096\u001b[0m)             │            │ padding_mask[\u001b[38;5;34m0\u001b[0m][\u001b[38;5;34m…\u001b[0m │\n",
       "├─────────────────────┼───────────────────┼────────────┼───────────────────┤\n",
       "│ transformer_layer_… │ (\u001b[38;5;45mNone\u001b[0m, \u001b[38;5;45mNone\u001b[0m,      │ \u001b[38;5;34m218,112,0…\u001b[0m │ transformer_laye… │\n",
       "│ (\u001b[38;5;33mMistralTransforme…\u001b[0m │ \u001b[38;5;34m4096\u001b[0m)             │            │ padding_mask[\u001b[38;5;34m0\u001b[0m][\u001b[38;5;34m…\u001b[0m │\n",
       "├─────────────────────┼───────────────────┼────────────┼───────────────────┤\n",
       "│ transformer_layer_… │ (\u001b[38;5;45mNone\u001b[0m, \u001b[38;5;45mNone\u001b[0m,      │ \u001b[38;5;34m218,112,0…\u001b[0m │ transformer_laye… │\n",
       "│ (\u001b[38;5;33mMistralTransforme…\u001b[0m │ \u001b[38;5;34m4096\u001b[0m)             │            │ padding_mask[\u001b[38;5;34m0\u001b[0m][\u001b[38;5;34m…\u001b[0m │\n",
       "├─────────────────────┼───────────────────┼────────────┼───────────────────┤\n",
       "│ transformer_layer_… │ (\u001b[38;5;45mNone\u001b[0m, \u001b[38;5;45mNone\u001b[0m,      │ \u001b[38;5;34m218,112,0…\u001b[0m │ transformer_laye… │\n",
       "│ (\u001b[38;5;33mMistralTransforme…\u001b[0m │ \u001b[38;5;34m4096\u001b[0m)             │            │ padding_mask[\u001b[38;5;34m0\u001b[0m][\u001b[38;5;34m…\u001b[0m │\n",
       "├─────────────────────┼───────────────────┼────────────┼───────────────────┤\n",
       "│ transformer_layer_… │ (\u001b[38;5;45mNone\u001b[0m, \u001b[38;5;45mNone\u001b[0m,      │ \u001b[38;5;34m218,112,0…\u001b[0m │ transformer_laye… │\n",
       "│ (\u001b[38;5;33mMistralTransforme…\u001b[0m │ \u001b[38;5;34m4096\u001b[0m)             │            │ padding_mask[\u001b[38;5;34m0\u001b[0m][\u001b[38;5;34m…\u001b[0m │\n",
       "├─────────────────────┼───────────────────┼────────────┼───────────────────┤\n",
       "│ transformer_layer_… │ (\u001b[38;5;45mNone\u001b[0m, \u001b[38;5;45mNone\u001b[0m,      │ \u001b[38;5;34m218,112,0…\u001b[0m │ transformer_laye… │\n",
       "│ (\u001b[38;5;33mMistralTransforme…\u001b[0m │ \u001b[38;5;34m4096\u001b[0m)             │            │ padding_mask[\u001b[38;5;34m0\u001b[0m][\u001b[38;5;34m…\u001b[0m │\n",
       "├─────────────────────┼───────────────────┼────────────┼───────────────────┤\n",
       "│ transformer_layer_… │ (\u001b[38;5;45mNone\u001b[0m, \u001b[38;5;45mNone\u001b[0m,      │ \u001b[38;5;34m218,112,0…\u001b[0m │ transformer_laye… │\n",
       "│ (\u001b[38;5;33mMistralTransforme…\u001b[0m │ \u001b[38;5;34m4096\u001b[0m)             │            │ padding_mask[\u001b[38;5;34m0\u001b[0m][\u001b[38;5;34m…\u001b[0m │\n",
       "├─────────────────────┼───────────────────┼────────────┼───────────────────┤\n",
       "│ transformer_layer_… │ (\u001b[38;5;45mNone\u001b[0m, \u001b[38;5;45mNone\u001b[0m,      │ \u001b[38;5;34m218,112,0…\u001b[0m │ transformer_laye… │\n",
       "│ (\u001b[38;5;33mMistralTransforme…\u001b[0m │ \u001b[38;5;34m4096\u001b[0m)             │            │ padding_mask[\u001b[38;5;34m0\u001b[0m][\u001b[38;5;34m…\u001b[0m │\n",
       "├─────────────────────┼───────────────────┼────────────┼───────────────────┤\n",
       "│ transformer_layer_… │ (\u001b[38;5;45mNone\u001b[0m, \u001b[38;5;45mNone\u001b[0m,      │ \u001b[38;5;34m218,112,0…\u001b[0m │ transformer_laye… │\n",
       "│ (\u001b[38;5;33mMistralTransforme…\u001b[0m │ \u001b[38;5;34m4096\u001b[0m)             │            │ padding_mask[\u001b[38;5;34m0\u001b[0m][\u001b[38;5;34m…\u001b[0m │\n",
       "├─────────────────────┼───────────────────┼────────────┼───────────────────┤\n",
       "│ transformer_layer_… │ (\u001b[38;5;45mNone\u001b[0m, \u001b[38;5;45mNone\u001b[0m,      │ \u001b[38;5;34m218,112,0…\u001b[0m │ transformer_laye… │\n",
       "│ (\u001b[38;5;33mMistralTransforme…\u001b[0m │ \u001b[38;5;34m4096\u001b[0m)             │            │ padding_mask[\u001b[38;5;34m0\u001b[0m][\u001b[38;5;34m…\u001b[0m │\n",
       "├─────────────────────┼───────────────────┼────────────┼───────────────────┤\n",
       "│ transformer_layer_… │ (\u001b[38;5;45mNone\u001b[0m, \u001b[38;5;45mNone\u001b[0m,      │ \u001b[38;5;34m218,112,0…\u001b[0m │ transformer_laye… │\n",
       "│ (\u001b[38;5;33mMistralTransforme…\u001b[0m │ \u001b[38;5;34m4096\u001b[0m)             │            │ padding_mask[\u001b[38;5;34m0\u001b[0m][\u001b[38;5;34m…\u001b[0m │\n",
       "├─────────────────────┼───────────────────┼────────────┼───────────────────┤\n",
       "│ transformer_layer_… │ (\u001b[38;5;45mNone\u001b[0m, \u001b[38;5;45mNone\u001b[0m,      │ \u001b[38;5;34m218,112,0…\u001b[0m │ transformer_laye… │\n",
       "│ (\u001b[38;5;33mMistralTransforme…\u001b[0m │ \u001b[38;5;34m4096\u001b[0m)             │            │ padding_mask[\u001b[38;5;34m0\u001b[0m][\u001b[38;5;34m…\u001b[0m │\n",
       "├─────────────────────┼───────────────────┼────────────┼───────────────────┤\n",
       "│ transformer_layer_… │ (\u001b[38;5;45mNone\u001b[0m, \u001b[38;5;45mNone\u001b[0m,      │ \u001b[38;5;34m218,112,0…\u001b[0m │ transformer_laye… │\n",
       "│ (\u001b[38;5;33mMistralTransforme…\u001b[0m │ \u001b[38;5;34m4096\u001b[0m)             │            │ padding_mask[\u001b[38;5;34m0\u001b[0m][\u001b[38;5;34m…\u001b[0m │\n",
       "├─────────────────────┼───────────────────┼────────────┼───────────────────┤\n",
       "│ transformer_layer_… │ (\u001b[38;5;45mNone\u001b[0m, \u001b[38;5;45mNone\u001b[0m,      │ \u001b[38;5;34m218,112,0…\u001b[0m │ transformer_laye… │\n",
       "│ (\u001b[38;5;33mMistralTransforme…\u001b[0m │ \u001b[38;5;34m4096\u001b[0m)             │            │ padding_mask[\u001b[38;5;34m0\u001b[0m][\u001b[38;5;34m…\u001b[0m │\n",
       "├─────────────────────┼───────────────────┼────────────┼───────────────────┤\n",
       "│ transformer_layer_… │ (\u001b[38;5;45mNone\u001b[0m, \u001b[38;5;45mNone\u001b[0m,      │ \u001b[38;5;34m218,112,0…\u001b[0m │ transformer_laye… │\n",
       "│ (\u001b[38;5;33mMistralTransforme…\u001b[0m │ \u001b[38;5;34m4096\u001b[0m)             │            │ padding_mask[\u001b[38;5;34m0\u001b[0m][\u001b[38;5;34m…\u001b[0m │\n",
       "├─────────────────────┼───────────────────┼────────────┼───────────────────┤\n",
       "│ transformer_layer_… │ (\u001b[38;5;45mNone\u001b[0m, \u001b[38;5;45mNone\u001b[0m,      │ \u001b[38;5;34m218,112,0…\u001b[0m │ transformer_laye… │\n",
       "│ (\u001b[38;5;33mMistralTransforme…\u001b[0m │ \u001b[38;5;34m4096\u001b[0m)             │            │ padding_mask[\u001b[38;5;34m0\u001b[0m][\u001b[38;5;34m…\u001b[0m │\n",
       "├─────────────────────┼───────────────────┼────────────┼───────────────────┤\n",
       "│ transformer_layer_… │ (\u001b[38;5;45mNone\u001b[0m, \u001b[38;5;45mNone\u001b[0m,      │ \u001b[38;5;34m218,112,0…\u001b[0m │ transformer_laye… │\n",
       "│ (\u001b[38;5;33mMistralTransforme…\u001b[0m │ \u001b[38;5;34m4096\u001b[0m)             │            │ padding_mask[\u001b[38;5;34m0\u001b[0m][\u001b[38;5;34m…\u001b[0m │\n",
       "├─────────────────────┼───────────────────┼────────────┼───────────────────┤\n",
       "│ transformer_layer_… │ (\u001b[38;5;45mNone\u001b[0m, \u001b[38;5;45mNone\u001b[0m,      │ \u001b[38;5;34m218,112,0…\u001b[0m │ transformer_laye… │\n",
       "│ (\u001b[38;5;33mMistralTransforme…\u001b[0m │ \u001b[38;5;34m4096\u001b[0m)             │            │ padding_mask[\u001b[38;5;34m0\u001b[0m][\u001b[38;5;34m…\u001b[0m │\n",
       "├─────────────────────┼───────────────────┼────────────┼───────────────────┤\n",
       "│ transformer_layer_… │ (\u001b[38;5;45mNone\u001b[0m, \u001b[38;5;45mNone\u001b[0m,      │ \u001b[38;5;34m218,112,0…\u001b[0m │ transformer_laye… │\n",
       "│ (\u001b[38;5;33mMistralTransforme…\u001b[0m │ \u001b[38;5;34m4096\u001b[0m)             │            │ padding_mask[\u001b[38;5;34m0\u001b[0m][\u001b[38;5;34m…\u001b[0m │\n",
       "├─────────────────────┼───────────────────┼────────────┼───────────────────┤\n",
       "│ transformer_layer_… │ (\u001b[38;5;45mNone\u001b[0m, \u001b[38;5;45mNone\u001b[0m,      │ \u001b[38;5;34m218,112,0…\u001b[0m │ transformer_laye… │\n",
       "│ (\u001b[38;5;33mMistralTransforme…\u001b[0m │ \u001b[38;5;34m4096\u001b[0m)             │            │ padding_mask[\u001b[38;5;34m0\u001b[0m][\u001b[38;5;34m…\u001b[0m │\n",
       "├─────────────────────┼───────────────────┼────────────┼───────────────────┤\n",
       "│ transformer_layer_… │ (\u001b[38;5;45mNone\u001b[0m, \u001b[38;5;45mNone\u001b[0m,      │ \u001b[38;5;34m218,112,0…\u001b[0m │ transformer_laye… │\n",
       "│ (\u001b[38;5;33mMistralTransforme…\u001b[0m │ \u001b[38;5;34m4096\u001b[0m)             │            │ padding_mask[\u001b[38;5;34m0\u001b[0m][\u001b[38;5;34m…\u001b[0m │\n",
       "├─────────────────────┼───────────────────┼────────────┼───────────────────┤\n",
       "│ transformer_layer_… │ (\u001b[38;5;45mNone\u001b[0m, \u001b[38;5;45mNone\u001b[0m,      │ \u001b[38;5;34m218,112,0…\u001b[0m │ transformer_laye… │\n",
       "│ (\u001b[38;5;33mMistralTransforme…\u001b[0m │ \u001b[38;5;34m4096\u001b[0m)             │            │ padding_mask[\u001b[38;5;34m0\u001b[0m][\u001b[38;5;34m…\u001b[0m │\n",
       "├─────────────────────┼───────────────────┼────────────┼───────────────────┤\n",
       "│ transformer_layer_… │ (\u001b[38;5;45mNone\u001b[0m, \u001b[38;5;45mNone\u001b[0m,      │ \u001b[38;5;34m218,112,0…\u001b[0m │ transformer_laye… │\n",
       "│ (\u001b[38;5;33mMistralTransforme…\u001b[0m │ \u001b[38;5;34m4096\u001b[0m)             │            │ padding_mask[\u001b[38;5;34m0\u001b[0m][\u001b[38;5;34m…\u001b[0m │\n",
       "├─────────────────────┼───────────────────┼────────────┼───────────────────┤\n",
       "│ sequence_output_la… │ (\u001b[38;5;45mNone\u001b[0m, \u001b[38;5;45mNone\u001b[0m,      │      \u001b[38;5;34m4,096\u001b[0m │ transformer_laye… │\n",
       "│ (\u001b[38;5;33mMistralLayerNorma…\u001b[0m │ \u001b[38;5;34m4096\u001b[0m)             │            │                   │\n",
       "└─────────────────────┴───────────────────┴────────────┴───────────────────┘\n"
      ]
     },
     "metadata": {},
     "output_type": "display_data"
    },
    {
     "data": {
      "text/html": [
       "<pre style=\"white-space:pre;overflow-x:auto;line-height:normal;font-family:Menlo,'DejaVu Sans Mono',consolas,'Courier New',monospace\"><span style=\"font-weight: bold\"> Total params: </span><span style=\"color: #00af00; text-decoration-color: #00af00\">7,241,732,096</span> (13.49 GB)\n",
       "</pre>\n"
      ],
      "text/plain": [
       "\u001b[1m Total params: \u001b[0m\u001b[38;5;34m7,241,732,096\u001b[0m (13.49 GB)\n"
      ]
     },
     "metadata": {},
     "output_type": "display_data"
    },
    {
     "data": {
      "text/html": [
       "<pre style=\"white-space:pre;overflow-x:auto;line-height:normal;font-family:Menlo,'DejaVu Sans Mono',consolas,'Courier New',monospace\"><span style=\"font-weight: bold\"> Trainable params: </span><span style=\"color: #00af00; text-decoration-color: #00af00\">7,241,732,096</span> (13.49 GB)\n",
       "</pre>\n"
      ],
      "text/plain": [
       "\u001b[1m Trainable params: \u001b[0m\u001b[38;5;34m7,241,732,096\u001b[0m (13.49 GB)\n"
      ]
     },
     "metadata": {},
     "output_type": "display_data"
    },
    {
     "data": {
      "text/html": [
       "<pre style=\"white-space:pre;overflow-x:auto;line-height:normal;font-family:Menlo,'DejaVu Sans Mono',consolas,'Courier New',monospace\"><span style=\"font-weight: bold\"> Non-trainable params: </span><span style=\"color: #00af00; text-decoration-color: #00af00\">0</span> (0.00 B)\n",
       "</pre>\n"
      ],
      "text/plain": [
       "\u001b[1m Non-trainable params: \u001b[0m\u001b[38;5;34m0\u001b[0m (0.00 B)\n"
      ]
     },
     "metadata": {},
     "output_type": "display_data"
    }
   ],
   "source": [
    "mistral_lm.backbone.summary()"
   ]
  },
  {
   "cell_type": "markdown",
   "id": "5cbad6b2-cb0a-4d9b-8bbe-e8642a515820",
   "metadata": {},
   "source": [
    "We can use `generate` to generate text that follows a specific prompt:"
   ]
  },
  {
   "cell_type": "code",
   "execution_count": 5,
   "id": "ae065fc8-ac71-4949-8869-b89a340535ef",
   "metadata": {},
   "outputs": [
    {
     "name": "stdout",
     "output_type": "stream",
     "text": [
      "Keras 3.0 is a powerful deep learning library that is built on top of the popular TensorFlow backend. The library provides an easy-to-use and intuitive interface for building deep learning models, and it includes many advanced features and tools for training, evaluating, and optimizing neural networks.\n",
      "\n",
      "Some of the key features of Keras 3.0 include:\n",
      "\n",
      "1. Sequential Model API: Keras 3.0 has a powerful and flexible Sequential Model API that allows users to easily build complex neural networks. The Sequential Model API provides a simple and consistent interface for specifying the layers, activations, and optimizers in a model, and it automatically handles the wiring and connections between them.\n",
      "2. Model Layers: Keras includes a wide range of custom model layers, including Convolutional Neural Networks (CNNs), Recurrent Neural Networks (RNNs), and many other\n"
     ]
    }
   ],
   "source": [
    "print(mistral_lm.generate(\"Keras 3.0 is a\", max_length=200))"
   ]
  },
  {
   "cell_type": "markdown",
   "id": "139f0619-19c1-4d46-ad3d-bd3272db0a72",
   "metadata": {},
   "source": [
    "----\n",
    "\n",
    "Or, since we have downloaded the `instruct` model, we can give it **direct instructions** with specific tokens `\"[INST] - [/INST]\"`. This would allow us to create a chatbot, for example:"
   ]
  },
  {
   "cell_type": "code",
   "execution_count": 4,
   "id": "68f4ce27-a8fa-4db5-a3c1-15f7ea4f8254",
   "metadata": {},
   "outputs": [
    {
     "name": "stdout",
     "output_type": "stream",
     "text": [
      "[INST] Give me your best brownie recipe [/INST] Here is a recipe for chewy and fudgy brownies:\n",
      "\n",
      "Ingredients:\n",
      "\n",
      "* 1 cup (225g) unsalted butter, at room temperature\n",
      "* 3/4 cup (170g) granulated sugar\n",
      "* 1 1/2 cups (312g) packed light-brown sugar\n",
      "* 2 teaspoons vanilla extract\n",
      "* 4 large eggs\n",
      "* 3/4 cup (170g) all-purpose flour\n",
      "* 3/8 teaspoon baking powder\n",
      "* 1/2 teaspoon baking soda\n",
      "* 1/4 teaspoon salt\n",
      "* 3/4 cup (170g) unsweetened cocoa powder\n",
      "* 1 cup (225g) semisweet and/or milk chocolate chips\n",
      "\n",
      "Instructions:\n",
      "\n",
      "1. Preheat your oven to 350°F (180°C). Line a 9-inch (23cm) baking pan with parchment paper and grease it well with cooking spray or butter.\n",
      "2. In a large bowl, cream the butter, brown sugar, and granulated sugar together using an electric mixer until light and fluffy. This will take about 3-4 minutes.\n",
      "3. Add in the vanilla extract, eggs, and cocoa powder, and mix until well combined.\n",
      "4. Add in the flour, baking powder, baking soda, and salt, and mix until the dry ingredients are fully incorporated.\n",
      "5. Fold in the chocolate chips until they are evenly distributed in the batter.\n",
      "6. Pour the batter into the prepared baking pan, using a spatula to spread it out evenly.\n",
      "7. Bake for 25-30 minutes, or until a toothpick inserted into the center comes out with a few moist crumbs.\n",
      "8. Let the brownies cool in the pan for a few minutes before transferring them to a wire rack to cool completely.\n",
      "\n",
      "Enjoy your delicious and chewy brownies!\n"
     ]
    }
   ],
   "source": [
    "print(mistral_lm.generate(\"[INST] Give me your best brownie recipe [/INST]\", max_length=500))"
   ]
  },
  {
   "cell_type": "markdown",
   "id": "d9bdd5dc-9a54-419a-8f3f-007090666ea4",
   "metadata": {},
   "source": [
    "----\n",
    "\n",
    "However, we can see that all instructions are treated as independent, and that the model provides no *conversational memory*:"
   ]
  },
  {
   "cell_type": "code",
   "execution_count": 4,
   "id": "a01d2968-a598-4ae5-9164-9e3684d462e9",
   "metadata": {},
   "outputs": [
    {
     "name": "stdout",
     "output_type": "stream",
     "text": [
      "[INST] I don't have vanilla extract, please update the recipe with another ingredient [/INST] Sure! Here are some substitutions for vanilla extract that you can use in a recipe:\n",
      "- 1 tablespoon of vanilla extract can be substituted with 1 teaspoon of vanilla powder or vanilla bean paste\n",
      "- 1 tablespoon of vanilla extract can also be substituted with 1 teaspoon of almond extract or coconut extract\n",
      "- If you want to make your own vanilla extract, you can steep 2 tablespoons of vanilla beans in 1 cup of vodka or whiskey for at least 4 weeks. Once it's ready, you can use it as a substitute for regular vanilla extract in equal amounts.\n"
     ]
    }
   ],
   "source": [
    "print(mistral_lm.generate(\"[INST] I don't have vanilla extract, please update the recipe with another ingredient [/INST]\", max_length=500))"
   ]
  },
  {
   "cell_type": "code",
   "execution_count": 5,
   "id": "70feb42f-70f9-4d9a-bd8a-59efc08ccda5",
   "metadata": {},
   "outputs": [
    {
     "name": "stdout",
     "output_type": "stream",
     "text": [
      "[INST] But please, put the full recipe again [/INST] Sure! Here's the recipe for a classic Caesar salad with garlic croutons:\n",
      "\n",
      "Garlic Croutons:\n",
      "\n",
      "* 1 baguette, sliced into 1-inch pieces\n",
      "* 3 cloves garlic, minced\n",
      "* 3 tablespoons olive oil\n",
      "* 1 teaspoon salt\n",
      "* 1/2 teaspoon black pepper\n",
      "\n",
      "Caesar Salad:\n",
      "\n",
      "* 1 baguette, sliced into 1-inch pieces\n",
      "* 3 cloves garlic, minced\n",
      "* 3 tablespoons olive oil\n",
      "* 1 teaspoon salt\n",
      "* 1/2 teaspoon black pepper\n",
      "* 1 cup chopped romaine lettuce\n",
      "* 1/2 cup chopped parsley\n",
      "* 1/2 cup shaved parmesan cheese\n",
      "* 1 cup croutons\n",
      "* 1/2 cup mayonnaise\n",
      "* 2 tablespoons Dijon mustard\n",
      "* 2 egg yolks\n",
      "* 1 tablespoon lemon juice\n",
      "* 1 teaspoon Worcestershire sauce\n",
      "* 1/2 teaspoon salt\n",
      "* 1/4 teaspoon black pepper\n",
      "\n",
      "To make the garlic croutons, preheat the oven to 375°F. In a bowl, toss the sliced baguette with minced garlic, olive oil, salt, and pepper until the bread is evenly coated. Spread the bread out in a single layer on a baking sheet and bake for 8-10 minutes, or until the bread is golden brown and crispy. Once the bread is done, let it cool and then break it into bite-sized pieces.\n",
      "\n",
      "To make the Caesar salad, in a large bowl, combine the chopped romaine lettuce, chopped parsley, shaved parmesan cheese, and croutons. In a separate bowl, whisk together the mayonnaise, Dijon mustard, egg yolks, lemon juice, Worcestershire sauce, salt, and pepper until the dressing is smooth and well combined. Pour the dressing over the lettuce mixture and toss until everything is evenly coated. Serve the salad immediately, topped with freshly grated parmesan cheese and additional croutons if\n"
     ]
    }
   ],
   "source": [
    "print(mistral_lm.generate(\"[INST] But please, put the full recipe again [/INST]\", max_length=500))"
   ]
  },
  {
   "cell_type": "markdown",
   "id": "fa129c7e-e7aa-4eb9-be5e-4b51cc93dcbd",
   "metadata": {},
   "source": [
    "----\n",
    "### Using individual components from large models\n",
    "\n",
    "We may also directly use some components of the trained model, such as the `Tokenizer` to convert strings to arrays of numbers:"
   ]
  },
  {
   "cell_type": "code",
   "execution_count": 6,
   "id": "f5db434f-97f0-4570-980c-27feb1e6f570",
   "metadata": {},
   "outputs": [
    {
     "name": "stdout",
     "output_type": "stream",
     "text": [
      "[  415  2936  9060   285  1142 14949 28723]\n",
      "[[415, 2936, 9060, 285, 1142, 14949, 28723], [415, 285, 1142, 18283, 28723]]\n"
     ]
    },
    {
     "data": {
      "text/plain": [
       "'The quick brown fox jumped.'"
      ]
     },
     "execution_count": 6,
     "metadata": {},
     "output_type": "execute_result"
    }
   ],
   "source": [
    "tokenizer = keras_hub.models.MistralTokenizer.from_preset(\"/opt/tljh/common/mistral_instruct_7b_en\")\n",
    "print(tokenizer(\"The quick brown fox jumped.\"))\n",
    "\n",
    "# Batched input.\n",
    "print(tokenizer([\"The quick brown fox jumped.\", \"The fox slept.\"]))\n",
    "\n",
    "# Detokenization.\n",
    "tokenizer.detokenize(tokenizer(\"The quick brown fox jumped.\"))"
   ]
  },
  {
   "cell_type": "markdown",
   "id": "3fe6265e-59f5-4e08-8def-af192c1d4bb3",
   "metadata": {},
   "source": [
    "Another, more interesting use case is exploiting the `Embeddings` of the model:\n",
    " - Embeddings can be seen as functions that **convert a token to a vector in a high-dimensional space**.\n",
    " - This high-dimensional space preserves the **semantic meaning** the model gives to each token.\n",
    " - Extremely useful for many natural language processing tasks (classification, sentiment analysis, etc.)\n",
    "\n",
    "For this, we need to directly use the backbone:"
   ]
  },
  {
   "cell_type": "code",
   "execution_count": 7,
   "id": "31c36114-b082-4b61-a38d-86e4222c5c5c",
   "metadata": {},
   "outputs": [],
   "source": [
    "backbone = mistral_lm.backbone"
   ]
  },
  {
   "cell_type": "code",
   "execution_count": 8,
   "id": "898390db-be2d-4c1f-8592-02447d622cc4",
   "metadata": {},
   "outputs": [
    {
     "data": {
      "text/plain": [
       "[(('The', 'the'), Array(0.363281, dtype=bfloat16)),\n",
       " (('feeling', 'feelings'), Array(0.322266, dtype=bfloat16)),\n",
       " (('tired', 'exhausted'), Array(0.273438, dtype=bfloat16)),\n",
       " (('My', 'your'), Array(0.255859, dtype=bfloat16)),\n",
       " (('and', 'to'), Array(0.238281, dtype=bfloat16)),\n",
       " (('The', 'My'), Array(0.209961, dtype=bfloat16)),\n",
       " (('the', 'your'), Array(0.201172, dtype=bfloat16)),\n",
       " (('My', 'I'), Array(0.198242, dtype=bfloat16)),\n",
       " (('and', 'of'), Array(0.177734, dtype=bfloat16)),\n",
       " (('got', 'want'), Array(0.15625, dtype=bfloat16)),\n",
       " (('through', 'to'), Array(0.15625, dtype=bfloat16)),\n",
       " (('got', 'ran'), Array(0.137695, dtype=bfloat16)),\n",
       " (('through', 'of'), Array(0.128906, dtype=bfloat16)),\n",
       " (('jumped', 'ran'), Array(0.125977, dtype=bfloat16)),\n",
       " (('until', 'to'), Array(0.114746, dtype=bfloat16))]"
      ]
     },
     "metadata": {},
     "output_type": "display_data"
    }
   ],
   "source": [
    "#We define three different sentences, and compare the embeddings making a \n",
    "#ranking of pairs of words with embeddings similarity.\n",
    "from optax.losses import cosine_similarity\n",
    "sentences = [\"The quick brown fox jumped and got tired\", \n",
    "             \"My dog ran through the yard until feeling exhausted\", \n",
    "             \"I don't want to be aware of your love feelings\"]\n",
    "tokenizations = [tokenizer(s) for s in sentences]\n",
    "embeddings = [backbone.token_embedding(tk) for tk in tokenizations]\n",
    "similarities = {}\n",
    "for i in range(len(sentences)):\n",
    "    for j in range(len(tokenizations[i])):\n",
    "        ref = embeddings[i][j]\n",
    "        for k in range(i+1, len(sentences)):            \n",
    "            for n in range(len(tokenizations[k])):\n",
    "                similarities[(tokenizer.detokenize([tokenizations[i][j]]), \n",
    "                              tokenizer.detokenize([tokenizations[k][n]]))] = cosine_similarity(ref, embeddings[k][n])\n",
    "sorted_similarities = dict(sorted(similarities.items(), key=lambda item: item[1], reverse=True))\n",
    "display(list(sorted_similarities.items())[:15])"
   ]
  },
  {
   "cell_type": "markdown",
   "id": "3a8a34eb-d66a-47a2-be16-7e8bdc98b94d",
   "metadata": {},
   "source": [
    "We may also measure the similarity between sentences as the average similarity between tokens:"
   ]
  },
  {
   "cell_type": "code",
   "execution_count": 9,
   "id": "e782721c-7beb-4bb0-9fca-db74774502db",
   "metadata": {},
   "outputs": [
    {
     "data": {
      "text/plain": [
       "{(0, 1): Array(0.0424805, dtype=bfloat16),\n",
       " (0, 2): Array(0.0361328, dtype=bfloat16),\n",
       " (1, 2): Array(0.0388184, dtype=bfloat16)}"
      ]
     },
     "execution_count": 9,
     "metadata": {},
     "output_type": "execute_result"
    }
   ],
   "source": [
    "similarities = {}\n",
    "for i in range(len(sentences)):\n",
    "    for j in range(i+1, len(sentences)):\n",
    "        #Distances between sentences i and j\n",
    "        dists = []\n",
    "        for k in range(len(tokenizations[i])):\n",
    "            for n in range(len(tokenizations[j])):\n",
    "                dists.append(cosine_similarity(embeddings[i][k], embeddings[j][n]))\n",
    "        similarities[(i,j)] = jnp.mean(jnp.array(dists))\n",
    "similarities"
   ]
  },
  {
   "cell_type": "markdown",
   "id": "2e0e4250-df68-48fd-aec9-ca7a3e134ba0",
   "metadata": {},
   "source": [
    "Before moving on to simpler tasks, let's restart the kernel to free GPU memory and resources:"
   ]
  },
  {
   "cell_type": "code",
   "execution_count": null,
   "id": "116d6af9-1294-422b-9f7c-8633adb78526",
   "metadata": {},
   "outputs": [],
   "source": [
    "#Restart the kernel\n",
    "import os\n",
    "os._exit(00)"
   ]
  },
  {
   "cell_type": "code",
   "execution_count": 1,
   "id": "226f2dc2-a5b6-42f2-8969-dad6d1458719",
   "metadata": {},
   "outputs": [],
   "source": [
    "import os\n",
    "os.environ[\"KERAS_BACKEND\"] = \"jax\"\n",
    "#os.environ[\"JAX_PLATFORMS\"] = \"cpu\"\n",
    "os.environ[\"XLA_PYTHON_CLIENT_PREALLOCATE\"]=\"false\"\n",
    "os.environ[\"CUDA_VISIBLE_DEVICES\"]=\"1\"\n",
    "\n",
    "import keras\n",
    "import numpy as np\n",
    "import pandas as pd\n",
    "import matplotlib.pyplot as plt\n",
    "from sklearn.metrics import confusion_matrix, classification_report"
   ]
  },
  {
   "cell_type": "markdown",
   "id": "192b0ad1-3983-4240-84d0-7556c168aa3e",
   "metadata": {},
   "source": [
    "## 2. Transfer learning and fine-tuning\n",
    "\n",
    "Transfer learning consists of **taking features learned on one problem, and leveraging them on a new, similar problem**.\n",
    " - Usually helps in tasks where your dataset has too little data to train a full-scale model from scratch.\n",
    "\n",
    "Conceptually, transfer learning involves:\n",
    "\n",
    " 1. Take layers from a previously trained model.\n",
    " 2. Freeze them, so as to avoid destroying any of the information they contain during future training rounds.\n",
    " 3. Add some new, trainable layers on top of the frozen layers. They will learn to turn the old features into predictions on a new dataset.\n",
    " 4. Train the new layers on your dataset.\n",
    "\n",
    "<img width=\"60%\" src=\"https://www.researchgate.net/publication/354803048/figure/fig5/AS:1117058628620290@1643338939664/Representation-of-transfer-learning-between-two-neural-network-models_W640.jpg\" style=\"margin:auto\"/>\n",
    "\n",
    "A last, optional step, is **fine-tuning**, which consists of unfreezing the entire model you obtained above and **re-training** it on the new data **with a very low learning rate**. This can potentially achieve meaningful improvements, by incrementally adapting the pretrained features to the new data.\n",
    "\n",
    "The **key functionality** for transfer learning & fine-tuning in Keras is the `trainable` API:\n",
    " - `Layers` and `Models` have a `trainable` boolean attribute that can be changed programmatically.\n",
    " - Setting `layer.trainable` to `False` moves all the layer's weights from trainable to non-trainable. This is called \"freezing\" the layer.\n",
    "\n",
    "### The typical transfer-learning workflow in Keras\n",
    "\n",
    "#### 1. Instantiate a base model and load pre-trained weights into it.\n",
    "\n",
    "```python\n",
    "base_model = keras.applications.Xception(\n",
    "    weights='imagenet',  # Load weights pre-trained on ImageNet.\n",
    "    input_shape=(72, 72, 3),\n",
    "    include_top=False)  # Do not include the ImageNet classifier at the top.\n",
    "```\n",
    "\n",
    "#### 2. Freeze all layers in the base model by setting `trainable = False`.\n",
    "\n",
    "\n",
    "```python\n",
    "base_model.trainable = False\n",
    "```\n",
    "\n",
    "#### 3. Create a new model on top of the output of one (or several) layers from the base model.\n",
    "\n",
    "```python\n",
    "inputs = keras.Input(shape=(72, 72, 3))\n",
    "# We make sure that the base_model is running in inference mode here,\n",
    "# by passing `training=False`. This is important for fine-tuning.\n",
    "x = base_model(inputs, training=False)\n",
    "x = keras.layers.GlobalAveragePooling2D()(x)\n",
    "# A Dense classifier with a single unit (binary classification)\n",
    "outputs = keras.layers.Dense(1, activation=\"sigmoid\")(x)\n",
    "model = keras.Model(inputs, outputs)\n",
    "```\n",
    "\n",
    "#### 4. Train your new model on your new dataset.\n",
    "\n",
    "```python\n",
    "model.compile(optimizer=keras.optimizers.Adam(),\n",
    "              loss=keras.losses.BinaryCrossentropy(),\n",
    "              metrics=[keras.metrics.BinaryAccuracy()])\n",
    "model.fit(new_dataset, epochs=5, callbacks=..., validation_data=...)\n",
    "```\n",
    "\n",
    "📌 __Example__: Based on an [Xception](https://keras.io/api/applications/xception/) network pre-trained on the ImageNet dataset, train a new one that learns how to distinguish cats from dogs on the CIFAR10 dataset.\n",
    "\n",
    " - First, we need to make sure that the target data fits the requirements of the base model. Checking the documentation of Xception, we see that:\n",
    "     - It assumes an image size of 299x299 pixels. This size can be modified, but cannot be smaller than 71x71.\n",
    "     - Each pixel has a value between -1 and +1 for each channel.\n",
    "\n",
    "Since CIFAR10 is composed of 32x32 images, with each pixel in range [0-255], we need some preprocessing. Also, we have to remove all other classes apart from \"cats\" and \"dogs\":\n"
   ]
  },
  {
   "cell_type": "code",
   "execution_count": 2,
   "id": "77391ae0-b55c-40c8-927a-e4f759a221ea",
   "metadata": {},
   "outputs": [
    {
     "name": "stdout",
     "output_type": "stream",
     "text": [
      "(10000, 72, 72, 3)\n"
     ]
    }
   ],
   "source": [
    "(x_train, y_train), (x_test, y_test) = keras.datasets.cifar10.load_data()\n",
    "#Cat is class 3, and dogs class 5 in the original dataset\n",
    "idx_train = np.where(np.logical_or(y_train==3,y_train==5))[0]\n",
    "idx_test = np.where(np.logical_or(y_test==3,y_test==5))[0]\n",
    "x_train, y_train = x_train[idx_train], y_train[idx_train]\n",
    "x_test, y_test = x_test[idx_test], y_test[idx_test]\n",
    "#Convert labels to 0-1 (dogs-cats)\n",
    "y_train = (y_train==3).astype(int)\n",
    "y_test = (y_test==3).astype(int)\n",
    "#Set fixed image size (72x72) and pixel range to [-1, 1]\n",
    "resize = keras.layers.Resizing(72, 72, data_format='channels_last')\n",
    "rescale = keras.layers.Rescaling(scale=1 / 127.5, offset=-1)\n",
    "x_train = resize(rescale(x_train))\n",
    "x_test = resize(rescale(x_test))\n",
    "print(x_train.shape)"
   ]
  },
  {
   "cell_type": "markdown",
   "id": "df579051-7b9d-4dfd-846b-5ec31df94f6d",
   "metadata": {},
   "source": [
    "Now let's built a model that follows the blueprint we've explained earlier.\n",
    "\n",
    "👉 __Note that__:\n",
    " - We make sure to pass `training=False` when calling the base model, so that it runs in inference mode, so that batchnorm statistics don't get updated even after we unfreeze the base model for fine-tuning."
   ]
  },
  {
   "cell_type": "code",
   "execution_count": 3,
   "id": "a19946af-e351-4542-b31d-b6d0d93e1bc4",
   "metadata": {},
   "outputs": [
    {
     "data": {
      "text/html": [
       "<pre style=\"white-space:pre;overflow-x:auto;line-height:normal;font-family:Menlo,'DejaVu Sans Mono',consolas,'Courier New',monospace\"><span style=\"font-weight: bold\">Model: \"functional\"</span>\n",
       "</pre>\n"
      ],
      "text/plain": [
       "\u001b[1mModel: \"functional\"\u001b[0m\n"
      ]
     },
     "metadata": {},
     "output_type": "display_data"
    },
    {
     "data": {
      "text/html": [
       "<pre style=\"white-space:pre;overflow-x:auto;line-height:normal;font-family:Menlo,'DejaVu Sans Mono',consolas,'Courier New',monospace\">┏━━━━━━━━━━━━━━━━━━━━━━━━━━━━━┳━━━━━━━━━━━━━━━━━━━━━━━┳━━━━━━━━━━━━┳━━━━━━━┓\n",
       "┃<span style=\"font-weight: bold\"> Layer (type)                </span>┃<span style=\"font-weight: bold\"> Output Shape          </span>┃<span style=\"font-weight: bold\">    Param # </span>┃<span style=\"font-weight: bold\"> Trai… </span>┃\n",
       "┡━━━━━━━━━━━━━━━━━━━━━━━━━━━━━╇━━━━━━━━━━━━━━━━━━━━━━━╇━━━━━━━━━━━━╇━━━━━━━┩\n",
       "│ input_layer_1 (<span style=\"color: #0087ff; text-decoration-color: #0087ff\">InputLayer</span>)  │ (<span style=\"color: #00d7ff; text-decoration-color: #00d7ff\">None</span>, <span style=\"color: #00af00; text-decoration-color: #00af00\">72</span>, <span style=\"color: #00af00; text-decoration-color: #00af00\">72</span>, <span style=\"color: #00af00; text-decoration-color: #00af00\">3</span>)     │          <span style=\"color: #00af00; text-decoration-color: #00af00\">0</span> │   <span style=\"font-weight: bold\">-</span>   │\n",
       "├─────────────────────────────┼───────────────────────┼────────────┼───────┤\n",
       "│ xception (<span style=\"color: #0087ff; text-decoration-color: #0087ff\">Functional</span>)       │ (<span style=\"color: #00d7ff; text-decoration-color: #00d7ff\">None</span>, <span style=\"color: #00af00; text-decoration-color: #00af00\">3</span>, <span style=\"color: #00af00; text-decoration-color: #00af00\">3</span>, <span style=\"color: #00af00; text-decoration-color: #00af00\">2048</span>)    │ <span style=\"color: #00af00; text-decoration-color: #00af00\">20,861,480</span> │   <span style=\"color: #ff0000; text-decoration-color: #ff0000; font-weight: bold\">N</span>   │\n",
       "├─────────────────────────────┼───────────────────────┼────────────┼───────┤\n",
       "│ global_average_pooling2d    │ (<span style=\"color: #00d7ff; text-decoration-color: #00d7ff\">None</span>, <span style=\"color: #00af00; text-decoration-color: #00af00\">2048</span>)          │          <span style=\"color: #00af00; text-decoration-color: #00af00\">0</span> │   <span style=\"font-weight: bold\">-</span>   │\n",
       "│ (<span style=\"color: #0087ff; text-decoration-color: #0087ff\">GlobalAveragePooling2D</span>)    │                       │            │       │\n",
       "├─────────────────────────────┼───────────────────────┼────────────┼───────┤\n",
       "│ dropout (<span style=\"color: #0087ff; text-decoration-color: #0087ff\">Dropout</span>)           │ (<span style=\"color: #00d7ff; text-decoration-color: #00d7ff\">None</span>, <span style=\"color: #00af00; text-decoration-color: #00af00\">2048</span>)          │          <span style=\"color: #00af00; text-decoration-color: #00af00\">0</span> │   <span style=\"font-weight: bold\">-</span>   │\n",
       "├─────────────────────────────┼───────────────────────┼────────────┼───────┤\n",
       "│ dense (<span style=\"color: #0087ff; text-decoration-color: #0087ff\">Dense</span>)               │ (<span style=\"color: #00d7ff; text-decoration-color: #00d7ff\">None</span>, <span style=\"color: #00af00; text-decoration-color: #00af00\">1</span>)             │      <span style=\"color: #00af00; text-decoration-color: #00af00\">2,049</span> │   <span style=\"color: #00af00; text-decoration-color: #00af00; font-weight: bold\">Y</span>   │\n",
       "└─────────────────────────────┴───────────────────────┴────────────┴───────┘\n",
       "</pre>\n"
      ],
      "text/plain": [
       "┏━━━━━━━━━━━━━━━━━━━━━━━━━━━━━┳━━━━━━━━━━━━━━━━━━━━━━━┳━━━━━━━━━━━━┳━━━━━━━┓\n",
       "┃\u001b[1m \u001b[0m\u001b[1mLayer (type)               \u001b[0m\u001b[1m \u001b[0m┃\u001b[1m \u001b[0m\u001b[1mOutput Shape         \u001b[0m\u001b[1m \u001b[0m┃\u001b[1m \u001b[0m\u001b[1m   Param #\u001b[0m\u001b[1m \u001b[0m┃\u001b[1m \u001b[0m\u001b[1mTrai…\u001b[0m\u001b[1m \u001b[0m┃\n",
       "┡━━━━━━━━━━━━━━━━━━━━━━━━━━━━━╇━━━━━━━━━━━━━━━━━━━━━━━╇━━━━━━━━━━━━╇━━━━━━━┩\n",
       "│ input_layer_1 (\u001b[38;5;33mInputLayer\u001b[0m)  │ (\u001b[38;5;45mNone\u001b[0m, \u001b[38;5;34m72\u001b[0m, \u001b[38;5;34m72\u001b[0m, \u001b[38;5;34m3\u001b[0m)     │          \u001b[38;5;34m0\u001b[0m │   \u001b[1m-\u001b[0m   │\n",
       "├─────────────────────────────┼───────────────────────┼────────────┼───────┤\n",
       "│ xception (\u001b[38;5;33mFunctional\u001b[0m)       │ (\u001b[38;5;45mNone\u001b[0m, \u001b[38;5;34m3\u001b[0m, \u001b[38;5;34m3\u001b[0m, \u001b[38;5;34m2048\u001b[0m)    │ \u001b[38;5;34m20,861,480\u001b[0m │   \u001b[1;91mN\u001b[0m   │\n",
       "├─────────────────────────────┼───────────────────────┼────────────┼───────┤\n",
       "│ global_average_pooling2d    │ (\u001b[38;5;45mNone\u001b[0m, \u001b[38;5;34m2048\u001b[0m)          │          \u001b[38;5;34m0\u001b[0m │   \u001b[1m-\u001b[0m   │\n",
       "│ (\u001b[38;5;33mGlobalAveragePooling2D\u001b[0m)    │                       │            │       │\n",
       "├─────────────────────────────┼───────────────────────┼────────────┼───────┤\n",
       "│ dropout (\u001b[38;5;33mDropout\u001b[0m)           │ (\u001b[38;5;45mNone\u001b[0m, \u001b[38;5;34m2048\u001b[0m)          │          \u001b[38;5;34m0\u001b[0m │   \u001b[1m-\u001b[0m   │\n",
       "├─────────────────────────────┼───────────────────────┼────────────┼───────┤\n",
       "│ dense (\u001b[38;5;33mDense\u001b[0m)               │ (\u001b[38;5;45mNone\u001b[0m, \u001b[38;5;34m1\u001b[0m)             │      \u001b[38;5;34m2,049\u001b[0m │   \u001b[1;38;5;34mY\u001b[0m   │\n",
       "└─────────────────────────────┴───────────────────────┴────────────┴───────┘\n"
      ]
     },
     "metadata": {},
     "output_type": "display_data"
    },
    {
     "data": {
      "text/html": [
       "<pre style=\"white-space:pre;overflow-x:auto;line-height:normal;font-family:Menlo,'DejaVu Sans Mono',consolas,'Courier New',monospace\"><span style=\"font-weight: bold\"> Total params: </span><span style=\"color: #00af00; text-decoration-color: #00af00\">20,863,529</span> (79.59 MB)\n",
       "</pre>\n"
      ],
      "text/plain": [
       "\u001b[1m Total params: \u001b[0m\u001b[38;5;34m20,863,529\u001b[0m (79.59 MB)\n"
      ]
     },
     "metadata": {},
     "output_type": "display_data"
    },
    {
     "data": {
      "text/html": [
       "<pre style=\"white-space:pre;overflow-x:auto;line-height:normal;font-family:Menlo,'DejaVu Sans Mono',consolas,'Courier New',monospace\"><span style=\"font-weight: bold\"> Trainable params: </span><span style=\"color: #00af00; text-decoration-color: #00af00\">2,049</span> (8.00 KB)\n",
       "</pre>\n"
      ],
      "text/plain": [
       "\u001b[1m Trainable params: \u001b[0m\u001b[38;5;34m2,049\u001b[0m (8.00 KB)\n"
      ]
     },
     "metadata": {},
     "output_type": "display_data"
    },
    {
     "data": {
      "text/html": [
       "<pre style=\"white-space:pre;overflow-x:auto;line-height:normal;font-family:Menlo,'DejaVu Sans Mono',consolas,'Courier New',monospace\"><span style=\"font-weight: bold\"> Non-trainable params: </span><span style=\"color: #00af00; text-decoration-color: #00af00\">20,861,480</span> (79.58 MB)\n",
       "</pre>\n"
      ],
      "text/plain": [
       "\u001b[1m Non-trainable params: \u001b[0m\u001b[38;5;34m20,861,480\u001b[0m (79.58 MB)\n"
      ]
     },
     "metadata": {},
     "output_type": "display_data"
    }
   ],
   "source": [
    "base_model = keras.applications.Xception(\n",
    "    weights=\"imagenet\",  # Load weights pre-trained on ImageNet.\n",
    "    input_shape=(72, 72, 3),\n",
    "    include_top=False) # Do not include the ImageNet classifier at the top.\n",
    "\n",
    "# Freeze the base_model\n",
    "base_model.trainable = False\n",
    "\n",
    "# Create new model on top\n",
    "inputs = keras.Input(shape=(72, 72, 3))\n",
    "\n",
    "# The base model contains batchnorm layers. We want to keep them in inference mode\n",
    "# when we unfreeze the base model for fine-tuning, so we make sure that the\n",
    "# base_model is running in inference mode here.\n",
    "x = base_model(inputs, training=False)\n",
    "x = keras.layers.GlobalAveragePooling2D()(x)\n",
    "x = keras.layers.Dropout(0.2)(x)  # Regularize with dropout\n",
    "outputs = keras.layers.Dense(1, activation='sigmoid')(x)\n",
    "model = keras.Model(inputs, outputs)\n",
    "\n",
    "model.summary(show_trainable=True)"
   ]
  },
  {
   "cell_type": "markdown",
   "id": "d41f26a8-29d0-4ece-9bef-f93ffcac39af",
   "metadata": {},
   "source": [
    " - Training of the top layer (the classifier for the new classes)."
   ]
  },
  {
   "cell_type": "code",
   "execution_count": 4,
   "id": "1126c900-0f76-4e5d-84f2-1290b0f0b63b",
   "metadata": {},
   "outputs": [
    {
     "name": "stdout",
     "output_type": "stream",
     "text": [
      "Fitting the top layer of the model\n",
      "Epoch 1/5\n",
      "\u001b[1m250/250\u001b[0m \u001b[32m━━━━━━━━━━━━━━━━━━━━\u001b[0m\u001b[37m\u001b[0m \u001b[1m9s\u001b[0m 26ms/step - binary_accuracy: 0.6971 - loss: 0.5721 - val_binary_accuracy: 0.7815 - val_loss: 0.4563\n",
      "Epoch 2/5\n",
      "\u001b[1m250/250\u001b[0m \u001b[32m━━━━━━━━━━━━━━━━━━━━\u001b[0m\u001b[37m\u001b[0m \u001b[1m2s\u001b[0m 4ms/step - binary_accuracy: 0.8010 - loss: 0.4301 - val_binary_accuracy: 0.7920 - val_loss: 0.4386\n",
      "Epoch 3/5\n",
      "\u001b[1m250/250\u001b[0m \u001b[32m━━━━━━━━━━━━━━━━━━━━\u001b[0m\u001b[37m\u001b[0m \u001b[1m1s\u001b[0m 4ms/step - binary_accuracy: 0.8056 - loss: 0.4133 - val_binary_accuracy: 0.7965 - val_loss: 0.4391\n",
      "Epoch 4/5\n",
      "\u001b[1m250/250\u001b[0m \u001b[32m━━━━━━━━━━━━━━━━━━━━\u001b[0m\u001b[37m\u001b[0m \u001b[1m1s\u001b[0m 4ms/step - binary_accuracy: 0.8050 - loss: 0.4102 - val_binary_accuracy: 0.8020 - val_loss: 0.4457\n",
      "Epoch 5/5\n",
      "\u001b[1m250/250\u001b[0m \u001b[32m━━━━━━━━━━━━━━━━━━━━\u001b[0m\u001b[37m\u001b[0m \u001b[1m1s\u001b[0m 4ms/step - binary_accuracy: 0.8112 - loss: 0.4024 - val_binary_accuracy: 0.7910 - val_loss: 0.4408\n",
      "Test dataset evaluation after Transfer Learning\n",
      "\u001b[1m63/63\u001b[0m \u001b[32m━━━━━━━━━━━━━━━━━━━━\u001b[0m\u001b[37m\u001b[0m \u001b[1m3s\u001b[0m 21ms/step\n"
     ]
    },
    {
     "data": {
      "text/html": [
       "<div>\n",
       "<style scoped>\n",
       "    .dataframe tbody tr th:only-of-type {\n",
       "        vertical-align: middle;\n",
       "    }\n",
       "\n",
       "    .dataframe tbody tr th {\n",
       "        vertical-align: top;\n",
       "    }\n",
       "\n",
       "    .dataframe thead th {\n",
       "        text-align: right;\n",
       "    }\n",
       "</style>\n",
       "<table border=\"1\" class=\"dataframe\">\n",
       "  <thead>\n",
       "    <tr style=\"text-align: right;\">\n",
       "      <th></th>\n",
       "      <th>Pred 0</th>\n",
       "      <th>Pred 1</th>\n",
       "    </tr>\n",
       "  </thead>\n",
       "  <tbody>\n",
       "    <tr>\n",
       "      <th>True 0</th>\n",
       "      <td>812</td>\n",
       "      <td>188</td>\n",
       "    </tr>\n",
       "    <tr>\n",
       "      <th>True 1</th>\n",
       "      <td>201</td>\n",
       "      <td>799</td>\n",
       "    </tr>\n",
       "  </tbody>\n",
       "</table>\n",
       "</div>"
      ],
      "text/plain": [
       "        Pred 0  Pred 1\n",
       "True 0     812     188\n",
       "True 1     201     799"
      ]
     },
     "metadata": {},
     "output_type": "display_data"
    },
    {
     "data": {
      "text/html": [
       "<div>\n",
       "<style scoped>\n",
       "    .dataframe tbody tr th:only-of-type {\n",
       "        vertical-align: middle;\n",
       "    }\n",
       "\n",
       "    .dataframe tbody tr th {\n",
       "        vertical-align: top;\n",
       "    }\n",
       "\n",
       "    .dataframe thead th {\n",
       "        text-align: right;\n",
       "    }\n",
       "</style>\n",
       "<table border=\"1\" class=\"dataframe\">\n",
       "  <thead>\n",
       "    <tr style=\"text-align: right;\">\n",
       "      <th></th>\n",
       "      <th>precision</th>\n",
       "      <th>recall</th>\n",
       "      <th>f1-score</th>\n",
       "      <th>support</th>\n",
       "    </tr>\n",
       "  </thead>\n",
       "  <tbody>\n",
       "    <tr>\n",
       "      <th>0</th>\n",
       "      <td>0.80</td>\n",
       "      <td>0.81</td>\n",
       "      <td>0.81</td>\n",
       "      <td>1000.00</td>\n",
       "    </tr>\n",
       "    <tr>\n",
       "      <th>1</th>\n",
       "      <td>0.81</td>\n",
       "      <td>0.80</td>\n",
       "      <td>0.80</td>\n",
       "      <td>1000.00</td>\n",
       "    </tr>\n",
       "    <tr>\n",
       "      <th>accuracy</th>\n",
       "      <td>0.81</td>\n",
       "      <td>0.81</td>\n",
       "      <td>0.81</td>\n",
       "      <td>0.81</td>\n",
       "    </tr>\n",
       "    <tr>\n",
       "      <th>macro avg</th>\n",
       "      <td>0.81</td>\n",
       "      <td>0.81</td>\n",
       "      <td>0.81</td>\n",
       "      <td>2000.00</td>\n",
       "    </tr>\n",
       "    <tr>\n",
       "      <th>weighted avg</th>\n",
       "      <td>0.81</td>\n",
       "      <td>0.81</td>\n",
       "      <td>0.81</td>\n",
       "      <td>2000.00</td>\n",
       "    </tr>\n",
       "  </tbody>\n",
       "</table>\n",
       "</div>"
      ],
      "text/plain": [
       "              precision  recall  f1-score  support\n",
       "0                  0.80    0.81      0.81  1000.00\n",
       "1                  0.81    0.80      0.80  1000.00\n",
       "accuracy           0.81    0.81      0.81     0.81\n",
       "macro avg          0.81    0.81      0.81  2000.00\n",
       "weighted avg       0.81    0.81      0.81  2000.00"
      ]
     },
     "metadata": {},
     "output_type": "display_data"
    }
   ],
   "source": [
    "model.compile(\n",
    "    optimizer=keras.optimizers.Adam(),\n",
    "    loss=keras.losses.BinaryCrossentropy(),\n",
    "    metrics=[keras.metrics.BinaryAccuracy()])\n",
    "\n",
    "print(\"Fitting the top layer of the model\")\n",
    "model.fit(x_train, y_train, epochs=5, validation_split=0.2)\n",
    "\n",
    "print(\"Test dataset evaluation after Transfer Learning\")\n",
    "y_pred = model.predict(x_test)>0.5\n",
    "cm = confusion_matrix(y_test, y_pred)\n",
    "cm_df = pd.DataFrame(cm, index=['True 0', 'True 1'], columns=['Pred 0', 'Pred 1'])\n",
    "display(cm_df)\n",
    "display(pd.DataFrame(classification_report(y_test, y_pred, output_dict=True)).transpose().round(2))"
   ]
  },
  {
   "cell_type": "code",
   "execution_count": 5,
   "id": "d3e43f28-3b0e-4692-bb5d-c289ba961afd",
   "metadata": {},
   "outputs": [],
   "source": [
    "#We save the model weights after transfer learning, in case we want to try\n",
    "#different rounds of fine-tuning.\n",
    "tl_weights = model.get_weights()"
   ]
  },
  {
   "cell_type": "markdown",
   "id": "6e5a7205-be55-47c2-9798-4003e0cbbee9",
   "metadata": {},
   "source": [
    "### Fine-tuning\n",
    "\n",
    "Once our model has converged on the new data, we can try to unfreeze all or part of the base model and retrain the whole model end-to-end with a very low learning rate.\n",
    "\n",
    "This is an optional last step that can potentially give you incremental improvements. It could also **potentially lead to quick overfitting** -- keep that in mind.\n",
    "\n",
    "It is critical to only do this step *after* the model with frozen layers has been trained to convergence:\n",
    " - Mixing randomly-initialized trainable layers with trainable layers that hold pre-trained features, the randomly-initialized layers will cause very large gradient updates during training.\n",
    " - This will destroy the pre-trained features.\n",
    "\n",
    "It's also critical to use a very low learning rate at this stage, because we are training a much larger model than in the first round of training, on a dataset that is typically small.\n",
    "\n",
    "As a result, we are at risk of overfitting very quickly if applying large weight updates. We only pursue **incremental adaption**\n",
    "\n",
    "This is how to implement fine-tuning of the whole base model:\n",
    "\n",
    "```python\n",
    "# Unfreeze the base model\n",
    "base_model.trainable = True\n",
    "\n",
    "# It's important to recompile the model after changing the the `trainable`\n",
    "# attribute of any inner layer, otherwise changes get ignored.\n",
    "model.compile(optimizer=keras.optimizers.Adam(1e-5),  # Very low learning rate\n",
    "              loss=keras.losses.BinaryCrossentropy(from_logits=True),\n",
    "              metrics=[keras.metrics.BinaryAccuracy()])\n",
    "\n",
    "# Train end-to-end. Be careful to stop before overfitting!\n",
    "model.fit(new_xtrain, new_ytrain, epochs=10, callbacks=..., validation_split=...)\n",
    "```\n",
    "\n",
    "**Important note about `compile()` and `trainable`**\n",
    "\n",
    "Calling `compile()` on a model is meant to \"freeze\" the behavior of that model.\n",
    " - The `trainable` attribute values at the time the model is compiled should be preserved throughout the lifetime of that model, until `compile` is called again.\n",
    " - If you change any `trainable` value, make sure to call `compile()` again!"
   ]
  },
  {
   "cell_type": "markdown",
   "id": "fce1a491-240c-4f80-af42-38a02b024826",
   "metadata": {},
   "source": [
    "#### 📋 Exercise 1\n",
    "\n",
    "Based on these instructions:\n",
    " - Complete the code below to implement fine-tuning on the model we just did transfer learning.\n",
    " - Play with different learning rates and number of epochs to see the overfitting effect."
   ]
  },
  {
   "cell_type": "code",
   "execution_count": 6,
   "id": "3fc8497c-a6c4-437a-9343-f8cf7b19e062",
   "metadata": {},
   "outputs": [
    {
     "data": {
      "text/html": [
       "<pre style=\"white-space:pre;overflow-x:auto;line-height:normal;font-family:Menlo,'DejaVu Sans Mono',consolas,'Courier New',monospace\"><span style=\"font-weight: bold\">Model: \"functional\"</span>\n",
       "</pre>\n"
      ],
      "text/plain": [
       "\u001b[1mModel: \"functional\"\u001b[0m\n"
      ]
     },
     "metadata": {},
     "output_type": "display_data"
    },
    {
     "data": {
      "text/html": [
       "<pre style=\"white-space:pre;overflow-x:auto;line-height:normal;font-family:Menlo,'DejaVu Sans Mono',consolas,'Courier New',monospace\">┏━━━━━━━━━━━━━━━━━━━━━━━━━━━━━┳━━━━━━━━━━━━━━━━━━━━━━━┳━━━━━━━━━━━━┳━━━━━━━┓\n",
       "┃<span style=\"font-weight: bold\"> Layer (type)                </span>┃<span style=\"font-weight: bold\"> Output Shape          </span>┃<span style=\"font-weight: bold\">    Param # </span>┃<span style=\"font-weight: bold\"> Trai… </span>┃\n",
       "┡━━━━━━━━━━━━━━━━━━━━━━━━━━━━━╇━━━━━━━━━━━━━━━━━━━━━━━╇━━━━━━━━━━━━╇━━━━━━━┩\n",
       "│ input_layer_1 (<span style=\"color: #0087ff; text-decoration-color: #0087ff\">InputLayer</span>)  │ (<span style=\"color: #00d7ff; text-decoration-color: #00d7ff\">None</span>, <span style=\"color: #00af00; text-decoration-color: #00af00\">72</span>, <span style=\"color: #00af00; text-decoration-color: #00af00\">72</span>, <span style=\"color: #00af00; text-decoration-color: #00af00\">3</span>)     │          <span style=\"color: #00af00; text-decoration-color: #00af00\">0</span> │   <span style=\"font-weight: bold\">-</span>   │\n",
       "├─────────────────────────────┼───────────────────────┼────────────┼───────┤\n",
       "│ xception (<span style=\"color: #0087ff; text-decoration-color: #0087ff\">Functional</span>)       │ (<span style=\"color: #00d7ff; text-decoration-color: #00d7ff\">None</span>, <span style=\"color: #00af00; text-decoration-color: #00af00\">3</span>, <span style=\"color: #00af00; text-decoration-color: #00af00\">3</span>, <span style=\"color: #00af00; text-decoration-color: #00af00\">2048</span>)    │ <span style=\"color: #00af00; text-decoration-color: #00af00\">20,861,480</span> │   <span style=\"color: #00af00; text-decoration-color: #00af00; font-weight: bold\">Y</span>   │\n",
       "├─────────────────────────────┼───────────────────────┼────────────┼───────┤\n",
       "│ global_average_pooling2d    │ (<span style=\"color: #00d7ff; text-decoration-color: #00d7ff\">None</span>, <span style=\"color: #00af00; text-decoration-color: #00af00\">2048</span>)          │          <span style=\"color: #00af00; text-decoration-color: #00af00\">0</span> │   <span style=\"font-weight: bold\">-</span>   │\n",
       "│ (<span style=\"color: #0087ff; text-decoration-color: #0087ff\">GlobalAveragePooling2D</span>)    │                       │            │       │\n",
       "├─────────────────────────────┼───────────────────────┼────────────┼───────┤\n",
       "│ dropout (<span style=\"color: #0087ff; text-decoration-color: #0087ff\">Dropout</span>)           │ (<span style=\"color: #00d7ff; text-decoration-color: #00d7ff\">None</span>, <span style=\"color: #00af00; text-decoration-color: #00af00\">2048</span>)          │          <span style=\"color: #00af00; text-decoration-color: #00af00\">0</span> │   <span style=\"font-weight: bold\">-</span>   │\n",
       "├─────────────────────────────┼───────────────────────┼────────────┼───────┤\n",
       "│ dense (<span style=\"color: #0087ff; text-decoration-color: #0087ff\">Dense</span>)               │ (<span style=\"color: #00d7ff; text-decoration-color: #00d7ff\">None</span>, <span style=\"color: #00af00; text-decoration-color: #00af00\">1</span>)             │      <span style=\"color: #00af00; text-decoration-color: #00af00\">2,049</span> │   <span style=\"color: #00af00; text-decoration-color: #00af00; font-weight: bold\">Y</span>   │\n",
       "└─────────────────────────────┴───────────────────────┴────────────┴───────┘\n",
       "</pre>\n"
      ],
      "text/plain": [
       "┏━━━━━━━━━━━━━━━━━━━━━━━━━━━━━┳━━━━━━━━━━━━━━━━━━━━━━━┳━━━━━━━━━━━━┳━━━━━━━┓\n",
       "┃\u001b[1m \u001b[0m\u001b[1mLayer (type)               \u001b[0m\u001b[1m \u001b[0m┃\u001b[1m \u001b[0m\u001b[1mOutput Shape         \u001b[0m\u001b[1m \u001b[0m┃\u001b[1m \u001b[0m\u001b[1m   Param #\u001b[0m\u001b[1m \u001b[0m┃\u001b[1m \u001b[0m\u001b[1mTrai…\u001b[0m\u001b[1m \u001b[0m┃\n",
       "┡━━━━━━━━━━━━━━━━━━━━━━━━━━━━━╇━━━━━━━━━━━━━━━━━━━━━━━╇━━━━━━━━━━━━╇━━━━━━━┩\n",
       "│ input_layer_1 (\u001b[38;5;33mInputLayer\u001b[0m)  │ (\u001b[38;5;45mNone\u001b[0m, \u001b[38;5;34m72\u001b[0m, \u001b[38;5;34m72\u001b[0m, \u001b[38;5;34m3\u001b[0m)     │          \u001b[38;5;34m0\u001b[0m │   \u001b[1m-\u001b[0m   │\n",
       "├─────────────────────────────┼───────────────────────┼────────────┼───────┤\n",
       "│ xception (\u001b[38;5;33mFunctional\u001b[0m)       │ (\u001b[38;5;45mNone\u001b[0m, \u001b[38;5;34m3\u001b[0m, \u001b[38;5;34m3\u001b[0m, \u001b[38;5;34m2048\u001b[0m)    │ \u001b[38;5;34m20,861,480\u001b[0m │   \u001b[1;38;5;34mY\u001b[0m   │\n",
       "├─────────────────────────────┼───────────────────────┼────────────┼───────┤\n",
       "│ global_average_pooling2d    │ (\u001b[38;5;45mNone\u001b[0m, \u001b[38;5;34m2048\u001b[0m)          │          \u001b[38;5;34m0\u001b[0m │   \u001b[1m-\u001b[0m   │\n",
       "│ (\u001b[38;5;33mGlobalAveragePooling2D\u001b[0m)    │                       │            │       │\n",
       "├─────────────────────────────┼───────────────────────┼────────────┼───────┤\n",
       "│ dropout (\u001b[38;5;33mDropout\u001b[0m)           │ (\u001b[38;5;45mNone\u001b[0m, \u001b[38;5;34m2048\u001b[0m)          │          \u001b[38;5;34m0\u001b[0m │   \u001b[1m-\u001b[0m   │\n",
       "├─────────────────────────────┼───────────────────────┼────────────┼───────┤\n",
       "│ dense (\u001b[38;5;33mDense\u001b[0m)               │ (\u001b[38;5;45mNone\u001b[0m, \u001b[38;5;34m1\u001b[0m)             │      \u001b[38;5;34m2,049\u001b[0m │   \u001b[1;38;5;34mY\u001b[0m   │\n",
       "└─────────────────────────────┴───────────────────────┴────────────┴───────┘\n"
      ]
     },
     "metadata": {},
     "output_type": "display_data"
    },
    {
     "data": {
      "text/html": [
       "<pre style=\"white-space:pre;overflow-x:auto;line-height:normal;font-family:Menlo,'DejaVu Sans Mono',consolas,'Courier New',monospace\"><span style=\"font-weight: bold\"> Total params: </span><span style=\"color: #00af00; text-decoration-color: #00af00\">20,867,629</span> (79.60 MB)\n",
       "</pre>\n"
      ],
      "text/plain": [
       "\u001b[1m Total params: \u001b[0m\u001b[38;5;34m20,867,629\u001b[0m (79.60 MB)\n"
      ]
     },
     "metadata": {},
     "output_type": "display_data"
    },
    {
     "data": {
      "text/html": [
       "<pre style=\"white-space:pre;overflow-x:auto;line-height:normal;font-family:Menlo,'DejaVu Sans Mono',consolas,'Courier New',monospace\"><span style=\"font-weight: bold\"> Trainable params: </span><span style=\"color: #00af00; text-decoration-color: #00af00\">20,809,001</span> (79.38 MB)\n",
       "</pre>\n"
      ],
      "text/plain": [
       "\u001b[1m Trainable params: \u001b[0m\u001b[38;5;34m20,809,001\u001b[0m (79.38 MB)\n"
      ]
     },
     "metadata": {},
     "output_type": "display_data"
    },
    {
     "data": {
      "text/html": [
       "<pre style=\"white-space:pre;overflow-x:auto;line-height:normal;font-family:Menlo,'DejaVu Sans Mono',consolas,'Courier New',monospace\"><span style=\"font-weight: bold\"> Non-trainable params: </span><span style=\"color: #00af00; text-decoration-color: #00af00\">54,528</span> (213.00 KB)\n",
       "</pre>\n"
      ],
      "text/plain": [
       "\u001b[1m Non-trainable params: \u001b[0m\u001b[38;5;34m54,528\u001b[0m (213.00 KB)\n"
      ]
     },
     "metadata": {},
     "output_type": "display_data"
    },
    {
     "data": {
      "text/html": [
       "<pre style=\"white-space:pre;overflow-x:auto;line-height:normal;font-family:Menlo,'DejaVu Sans Mono',consolas,'Courier New',monospace\"><span style=\"font-weight: bold\"> Optimizer params: </span><span style=\"color: #00af00; text-decoration-color: #00af00\">4,100</span> (16.02 KB)\n",
       "</pre>\n"
      ],
      "text/plain": [
       "\u001b[1m Optimizer params: \u001b[0m\u001b[38;5;34m4,100\u001b[0m (16.02 KB)\n"
      ]
     },
     "metadata": {},
     "output_type": "display_data"
    },
    {
     "name": "stdout",
     "output_type": "stream",
     "text": [
      "Fitting the end-to-end model\n",
      "Epoch 1/10\n",
      "\u001b[1m250/250\u001b[0m \u001b[32m━━━━━━━━━━━━━━━━━━━━\u001b[0m\u001b[37m\u001b[0m \u001b[1m28s\u001b[0m 65ms/step - binary_accuracy: 0.6876 - loss: 0.5959 - val_binary_accuracy: 0.7725 - val_loss: 0.5030\n",
      "Epoch 2/10\n",
      "\u001b[1m250/250\u001b[0m \u001b[32m━━━━━━━━━━━━━━━━━━━━\u001b[0m\u001b[37m\u001b[0m \u001b[1m12s\u001b[0m 10ms/step - binary_accuracy: 0.8032 - loss: 0.4529 - val_binary_accuracy: 0.7975 - val_loss: 0.4320\n",
      "Epoch 3/10\n",
      "\u001b[1m250/250\u001b[0m \u001b[32m━━━━━━━━━━━━━━━━━━━━\u001b[0m\u001b[37m\u001b[0m \u001b[1m3s\u001b[0m 10ms/step - binary_accuracy: 0.8507 - loss: 0.3554 - val_binary_accuracy: 0.8150 - val_loss: 0.4032\n",
      "Epoch 4/10\n",
      "\u001b[1m250/250\u001b[0m \u001b[32m━━━━━━━━━━━━━━━━━━━━\u001b[0m\u001b[37m\u001b[0m \u001b[1m3s\u001b[0m 10ms/step - binary_accuracy: 0.8720 - loss: 0.2905 - val_binary_accuracy: 0.8260 - val_loss: 0.3919\n",
      "Epoch 5/10\n",
      "\u001b[1m250/250\u001b[0m \u001b[32m━━━━━━━━━━━━━━━━━━━━\u001b[0m\u001b[37m\u001b[0m \u001b[1m3s\u001b[0m 10ms/step - binary_accuracy: 0.8935 - loss: 0.2458 - val_binary_accuracy: 0.8375 - val_loss: 0.3821\n",
      "Epoch 6/10\n",
      "\u001b[1m250/250\u001b[0m \u001b[32m━━━━━━━━━━━━━━━━━━━━\u001b[0m\u001b[37m\u001b[0m \u001b[1m3s\u001b[0m 10ms/step - binary_accuracy: 0.9087 - loss: 0.2046 - val_binary_accuracy: 0.8420 - val_loss: 0.3808\n",
      "Epoch 7/10\n",
      "\u001b[1m250/250\u001b[0m \u001b[32m━━━━━━━━━━━━━━━━━━━━\u001b[0m\u001b[37m\u001b[0m \u001b[1m3s\u001b[0m 10ms/step - binary_accuracy: 0.9306 - loss: 0.1705 - val_binary_accuracy: 0.8435 - val_loss: 0.3840\n",
      "Epoch 8/10\n",
      "\u001b[1m250/250\u001b[0m \u001b[32m━━━━━━━━━━━━━━━━━━━━\u001b[0m\u001b[37m\u001b[0m \u001b[1m3s\u001b[0m 10ms/step - binary_accuracy: 0.9388 - loss: 0.1439 - val_binary_accuracy: 0.8480 - val_loss: 0.3812\n",
      "Epoch 9/10\n",
      "\u001b[1m250/250\u001b[0m \u001b[32m━━━━━━━━━━━━━━━━━━━━\u001b[0m\u001b[37m\u001b[0m \u001b[1m3s\u001b[0m 10ms/step - binary_accuracy: 0.9578 - loss: 0.1121 - val_binary_accuracy: 0.8480 - val_loss: 0.3915\n",
      "Epoch 10/10\n",
      "\u001b[1m250/250\u001b[0m \u001b[32m━━━━━━━━━━━━━━━━━━━━\u001b[0m\u001b[37m\u001b[0m \u001b[1m3s\u001b[0m 10ms/step - binary_accuracy: 0.9638 - loss: 0.0944 - val_binary_accuracy: 0.8505 - val_loss: 0.4028\n"
     ]
    },
    {
     "data": {
      "text/plain": [
       "<keras.src.callbacks.history.History at 0x7f8fe074ce60>"
      ]
     },
     "execution_count": 6,
     "metadata": {},
     "output_type": "execute_result"
    }
   ],
   "source": [
    "# First, we restore the weights after transfer learning, so different fine-tuning rounds\n",
    "# don't affect each other.\n",
    "model.set_weights(tl_weights)\n",
    "# Unfreeze the base_model. Note that it keeps running in inference mode\n",
    "# since we passed `training=False` when creating it. This means that\n",
    "# the batchnorm layers will not update their batch statistics.\n",
    "# This prevents the batchnorm layers from undoing all the training\n",
    "# we've done so far.\n",
    "base_model.trainable = True\n",
    "model.summary(show_trainable=True)\n",
    "\n",
    "model.compile(\n",
    "    optimizer=keras.optimizers.Adam(1e-5),  # Low learning rate\n",
    "    loss=keras.losses.BinaryCrossentropy(),\n",
    "    metrics=[keras.metrics.BinaryAccuracy()],\n",
    ")\n",
    "\n",
    "print(\"Fitting the end-to-end model\")\n",
    "model.fit(x_train, y_train, epochs=10, validation_split=0.2)"
   ]
  },
  {
   "cell_type": "markdown",
   "id": "7c3a197f-d96e-49d1-be19-2ef61b768afe",
   "metadata": {},
   "source": [
    "Finally, we evaluate the fine-tuned model and assess the potential improvement."
   ]
  },
  {
   "cell_type": "code",
   "execution_count": 7,
   "id": "b6b6944c-288a-4ee6-8f5c-f39406e503dd",
   "metadata": {},
   "outputs": [
    {
     "name": "stdout",
     "output_type": "stream",
     "text": [
      "Test dataset evaluation after fine-tuning\n",
      "\u001b[1m63/63\u001b[0m \u001b[32m━━━━━━━━━━━━━━━━━━━━\u001b[0m\u001b[37m\u001b[0m \u001b[1m2s\u001b[0m 21ms/step\n"
     ]
    },
    {
     "data": {
      "text/html": [
       "<div>\n",
       "<style scoped>\n",
       "    .dataframe tbody tr th:only-of-type {\n",
       "        vertical-align: middle;\n",
       "    }\n",
       "\n",
       "    .dataframe tbody tr th {\n",
       "        vertical-align: top;\n",
       "    }\n",
       "\n",
       "    .dataframe thead th {\n",
       "        text-align: right;\n",
       "    }\n",
       "</style>\n",
       "<table border=\"1\" class=\"dataframe\">\n",
       "  <thead>\n",
       "    <tr style=\"text-align: right;\">\n",
       "      <th></th>\n",
       "      <th>Pred 0</th>\n",
       "      <th>Pred 1</th>\n",
       "    </tr>\n",
       "  </thead>\n",
       "  <tbody>\n",
       "    <tr>\n",
       "      <th>True 0</th>\n",
       "      <td>843</td>\n",
       "      <td>157</td>\n",
       "    </tr>\n",
       "    <tr>\n",
       "      <th>True 1</th>\n",
       "      <td>124</td>\n",
       "      <td>876</td>\n",
       "    </tr>\n",
       "  </tbody>\n",
       "</table>\n",
       "</div>"
      ],
      "text/plain": [
       "        Pred 0  Pred 1\n",
       "True 0     843     157\n",
       "True 1     124     876"
      ]
     },
     "metadata": {},
     "output_type": "display_data"
    },
    {
     "data": {
      "text/html": [
       "<div>\n",
       "<style scoped>\n",
       "    .dataframe tbody tr th:only-of-type {\n",
       "        vertical-align: middle;\n",
       "    }\n",
       "\n",
       "    .dataframe tbody tr th {\n",
       "        vertical-align: top;\n",
       "    }\n",
       "\n",
       "    .dataframe thead th {\n",
       "        text-align: right;\n",
       "    }\n",
       "</style>\n",
       "<table border=\"1\" class=\"dataframe\">\n",
       "  <thead>\n",
       "    <tr style=\"text-align: right;\">\n",
       "      <th></th>\n",
       "      <th>precision</th>\n",
       "      <th>recall</th>\n",
       "      <th>f1-score</th>\n",
       "      <th>support</th>\n",
       "    </tr>\n",
       "  </thead>\n",
       "  <tbody>\n",
       "    <tr>\n",
       "      <th>0</th>\n",
       "      <td>0.87</td>\n",
       "      <td>0.84</td>\n",
       "      <td>0.86</td>\n",
       "      <td>1000.00</td>\n",
       "    </tr>\n",
       "    <tr>\n",
       "      <th>1</th>\n",
       "      <td>0.85</td>\n",
       "      <td>0.88</td>\n",
       "      <td>0.86</td>\n",
       "      <td>1000.00</td>\n",
       "    </tr>\n",
       "    <tr>\n",
       "      <th>accuracy</th>\n",
       "      <td>0.86</td>\n",
       "      <td>0.86</td>\n",
       "      <td>0.86</td>\n",
       "      <td>0.86</td>\n",
       "    </tr>\n",
       "    <tr>\n",
       "      <th>macro avg</th>\n",
       "      <td>0.86</td>\n",
       "      <td>0.86</td>\n",
       "      <td>0.86</td>\n",
       "      <td>2000.00</td>\n",
       "    </tr>\n",
       "    <tr>\n",
       "      <th>weighted avg</th>\n",
       "      <td>0.86</td>\n",
       "      <td>0.86</td>\n",
       "      <td>0.86</td>\n",
       "      <td>2000.00</td>\n",
       "    </tr>\n",
       "  </tbody>\n",
       "</table>\n",
       "</div>"
      ],
      "text/plain": [
       "              precision  recall  f1-score  support\n",
       "0                  0.87    0.84      0.86  1000.00\n",
       "1                  0.85    0.88      0.86  1000.00\n",
       "accuracy           0.86    0.86      0.86     0.86\n",
       "macro avg          0.86    0.86      0.86  2000.00\n",
       "weighted avg       0.86    0.86      0.86  2000.00"
      ]
     },
     "metadata": {},
     "output_type": "display_data"
    }
   ],
   "source": [
    "print(\"Test dataset evaluation after fine-tuning\")\n",
    "y_pred = model.predict(x_test)>0.5\n",
    "cm = confusion_matrix(y_test, y_pred)\n",
    "cm_df = pd.DataFrame(cm, index=['True 0', 'True 1'], columns=['Pred 0', 'Pred 1'])\n",
    "display(cm_df)\n",
    "display(pd.DataFrame(classification_report(y_test, y_pred, output_dict=True)).transpose().round(2))"
   ]
  },
  {
   "cell_type": "markdown",
   "id": "ba5a48f2-8aa5-46ee-be0d-3afdd818cbe7",
   "metadata": {},
   "source": [
    "## 3. Knowledge distillation\n",
    "\n",
    "Knowledge distillation is a technique for training a model solving the same task as another model, but:\n",
    " - The new model should be significantly smaller.\n",
    " - It may use less input data, or simplified data (e.g. fewer channels, lower resolution, etc.).\n",
    "\n",
    "These two models are known as *Teacher* and *Student*. The objective is to **extract explicit knowledge from the teacher** and inject it to the student.\n",
    "\n",
    "<img width=\"80%\" src=\"https://i0.wp.com/neptune.ai/wp-content/uploads/2022/10/Knowledge-Distillation_1.png\" style=\"margin:auto\"/>"
   ]
  },
  {
   "cell_type": "markdown",
   "id": "6ab0674d-dfc9-41be-a7d2-43a9209e5bbc",
   "metadata": {},
   "source": [
    "----\n",
    "\n",
    "The most typical approach to knowledge distillation for classification is through the use of **soft labels**:\n",
    " - Classical (hard) labels are **the same for all samples** from the same class. No matter how different or similar they really are from other classes.\n",
    " - Soft labels give a **probability to each class**, explicitly stating how \"far\" or \"close\" each sample is from other classes.\n",
    " - Usually, **soft labels cannot be provided by experts**. Too expensive and prone to inconsistencies.\n",
    "\n",
    "<img width=\"80%\" src=\"assets/soft_labels.png\" style=\"margin:auto\"/>\n",
    "\n",
    "----\n",
    "\n",
    "However, this poses some **challenges on data management**:\n",
    " - Reliable soft labels come from the *testing set* of the Teacher model.\n",
    " - Thus, the Teacher and the Student **should not use the same training data**.\n",
    "\n",
    "#### 💡 Open discussion:\n",
    "\n",
    "How can we use a dataset for training a teacher and a student model while maximizing the number of available samples for each of them?"
   ]
  },
  {
   "cell_type": "markdown",
   "id": "1dd82cc4-ebb9-4f2a-90dc-76b064e854cf",
   "metadata": {},
   "source": [
    "### 📌 Creating a reduced model for CIFAR10\n",
    "\n",
    "We will illustrate the use of knowledge distillation with the CIFAR10 dataset (32x32 color images from 10 classes).\n",
    " - The objective is to develop a tiny classifier, with very few parameters.\n",
    " - Also, the classifier will work with even smaller images (16x16), to add an aditional level of efficiency.\n",
    "\n",
    "The first step is to load the dataset and prepare the data for training the teacher and the student."
   ]
  },
  {
   "cell_type": "code",
   "execution_count": 8,
   "id": "7826e76e-8364-4ec2-b4e2-f2cf3096a69f",
   "metadata": {},
   "outputs": [],
   "source": [
    "# Load the data and split it between train and test sets\n",
    "(x_train, y_train), (x_test, y_test) = keras.datasets.cifar10.load_data()\n",
    "\n",
    "# Scale images to the [0, 1] range\n",
    "x_train = x_train.astype(\"float32\") / 255\n",
    "x_test = x_test.astype(\"float32\") / 255\n",
    "#For the student model, we create a reduced version of the images (just 16x16px)\n",
    "resize = keras.layers.Resizing(16, 16, data_format='channels_last')\n",
    "x_train_st = resize(x_train)\n",
    "x_test_st = resize(x_test)"
   ]
  },
  {
   "cell_type": "code",
   "execution_count": 9,
   "id": "ebd3e3d6-ca9a-43c1-bf9f-d8ae31510857",
   "metadata": {},
   "outputs": [
    {
     "data": {
      "text/html": [
       "<pre style=\"white-space:pre;overflow-x:auto;line-height:normal;font-family:Menlo,'DejaVu Sans Mono',consolas,'Courier New',monospace\"><span style=\"font-weight: bold\">Model: \"Teacher\"</span>\n",
       "</pre>\n"
      ],
      "text/plain": [
       "\u001b[1mModel: \"Teacher\"\u001b[0m\n"
      ]
     },
     "metadata": {},
     "output_type": "display_data"
    },
    {
     "data": {
      "text/html": [
       "<pre style=\"white-space:pre;overflow-x:auto;line-height:normal;font-family:Menlo,'DejaVu Sans Mono',consolas,'Courier New',monospace\">┏━━━━━━━━━━━━━━━━━━━━━━━━━━━━━━━━━┳━━━━━━━━━━━━━━━━━━━━━━━━┳━━━━━━━━━━━━━━━┓\n",
       "┃<span style=\"font-weight: bold\"> Layer (type)                    </span>┃<span style=\"font-weight: bold\"> Output Shape           </span>┃<span style=\"font-weight: bold\">       Param # </span>┃\n",
       "┡━━━━━━━━━━━━━━━━━━━━━━━━━━━━━━━━━╇━━━━━━━━━━━━━━━━━━━━━━━━╇━━━━━━━━━━━━━━━┩\n",
       "│ conv2d_4 (<span style=\"color: #0087ff; text-decoration-color: #0087ff\">Conv2D</span>)               │ (<span style=\"color: #00d7ff; text-decoration-color: #00d7ff\">None</span>, <span style=\"color: #00af00; text-decoration-color: #00af00\">30</span>, <span style=\"color: #00af00; text-decoration-color: #00af00\">30</span>, <span style=\"color: #00af00; text-decoration-color: #00af00\">64</span>)     │         <span style=\"color: #00af00; text-decoration-color: #00af00\">1,792</span> │\n",
       "├─────────────────────────────────┼────────────────────────┼───────────────┤\n",
       "│ conv2d_5 (<span style=\"color: #0087ff; text-decoration-color: #0087ff\">Conv2D</span>)               │ (<span style=\"color: #00d7ff; text-decoration-color: #00d7ff\">None</span>, <span style=\"color: #00af00; text-decoration-color: #00af00\">28</span>, <span style=\"color: #00af00; text-decoration-color: #00af00\">28</span>, <span style=\"color: #00af00; text-decoration-color: #00af00\">64</span>)     │        <span style=\"color: #00af00; text-decoration-color: #00af00\">36,928</span> │\n",
       "├─────────────────────────────────┼────────────────────────┼───────────────┤\n",
       "│ max_pooling2d (<span style=\"color: #0087ff; text-decoration-color: #0087ff\">MaxPooling2D</span>)    │ (<span style=\"color: #00d7ff; text-decoration-color: #00d7ff\">None</span>, <span style=\"color: #00af00; text-decoration-color: #00af00\">14</span>, <span style=\"color: #00af00; text-decoration-color: #00af00\">14</span>, <span style=\"color: #00af00; text-decoration-color: #00af00\">64</span>)     │             <span style=\"color: #00af00; text-decoration-color: #00af00\">0</span> │\n",
       "├─────────────────────────────────┼────────────────────────┼───────────────┤\n",
       "│ conv2d_6 (<span style=\"color: #0087ff; text-decoration-color: #0087ff\">Conv2D</span>)               │ (<span style=\"color: #00d7ff; text-decoration-color: #00d7ff\">None</span>, <span style=\"color: #00af00; text-decoration-color: #00af00\">12</span>, <span style=\"color: #00af00; text-decoration-color: #00af00\">12</span>, <span style=\"color: #00af00; text-decoration-color: #00af00\">128</span>)    │        <span style=\"color: #00af00; text-decoration-color: #00af00\">73,856</span> │\n",
       "├─────────────────────────────────┼────────────────────────┼───────────────┤\n",
       "│ conv2d_7 (<span style=\"color: #0087ff; text-decoration-color: #0087ff\">Conv2D</span>)               │ (<span style=\"color: #00d7ff; text-decoration-color: #00d7ff\">None</span>, <span style=\"color: #00af00; text-decoration-color: #00af00\">10</span>, <span style=\"color: #00af00; text-decoration-color: #00af00\">10</span>, <span style=\"color: #00af00; text-decoration-color: #00af00\">128</span>)    │       <span style=\"color: #00af00; text-decoration-color: #00af00\">147,584</span> │\n",
       "├─────────────────────────────────┼────────────────────────┼───────────────┤\n",
       "│ global_average_pooling2d_1      │ (<span style=\"color: #00d7ff; text-decoration-color: #00d7ff\">None</span>, <span style=\"color: #00af00; text-decoration-color: #00af00\">128</span>)            │             <span style=\"color: #00af00; text-decoration-color: #00af00\">0</span> │\n",
       "│ (<span style=\"color: #0087ff; text-decoration-color: #0087ff\">GlobalAveragePooling2D</span>)        │                        │               │\n",
       "├─────────────────────────────────┼────────────────────────┼───────────────┤\n",
       "│ dropout_1 (<span style=\"color: #0087ff; text-decoration-color: #0087ff\">Dropout</span>)             │ (<span style=\"color: #00d7ff; text-decoration-color: #00d7ff\">None</span>, <span style=\"color: #00af00; text-decoration-color: #00af00\">128</span>)            │             <span style=\"color: #00af00; text-decoration-color: #00af00\">0</span> │\n",
       "├─────────────────────────────────┼────────────────────────┼───────────────┤\n",
       "│ dense_1 (<span style=\"color: #0087ff; text-decoration-color: #0087ff\">Dense</span>)                 │ (<span style=\"color: #00d7ff; text-decoration-color: #00d7ff\">None</span>, <span style=\"color: #00af00; text-decoration-color: #00af00\">10</span>)             │         <span style=\"color: #00af00; text-decoration-color: #00af00\">1,290</span> │\n",
       "└─────────────────────────────────┴────────────────────────┴───────────────┘\n",
       "</pre>\n"
      ],
      "text/plain": [
       "┏━━━━━━━━━━━━━━━━━━━━━━━━━━━━━━━━━┳━━━━━━━━━━━━━━━━━━━━━━━━┳━━━━━━━━━━━━━━━┓\n",
       "┃\u001b[1m \u001b[0m\u001b[1mLayer (type)                   \u001b[0m\u001b[1m \u001b[0m┃\u001b[1m \u001b[0m\u001b[1mOutput Shape          \u001b[0m\u001b[1m \u001b[0m┃\u001b[1m \u001b[0m\u001b[1m      Param #\u001b[0m\u001b[1m \u001b[0m┃\n",
       "┡━━━━━━━━━━━━━━━━━━━━━━━━━━━━━━━━━╇━━━━━━━━━━━━━━━━━━━━━━━━╇━━━━━━━━━━━━━━━┩\n",
       "│ conv2d_4 (\u001b[38;5;33mConv2D\u001b[0m)               │ (\u001b[38;5;45mNone\u001b[0m, \u001b[38;5;34m30\u001b[0m, \u001b[38;5;34m30\u001b[0m, \u001b[38;5;34m64\u001b[0m)     │         \u001b[38;5;34m1,792\u001b[0m │\n",
       "├─────────────────────────────────┼────────────────────────┼───────────────┤\n",
       "│ conv2d_5 (\u001b[38;5;33mConv2D\u001b[0m)               │ (\u001b[38;5;45mNone\u001b[0m, \u001b[38;5;34m28\u001b[0m, \u001b[38;5;34m28\u001b[0m, \u001b[38;5;34m64\u001b[0m)     │        \u001b[38;5;34m36,928\u001b[0m │\n",
       "├─────────────────────────────────┼────────────────────────┼───────────────┤\n",
       "│ max_pooling2d (\u001b[38;5;33mMaxPooling2D\u001b[0m)    │ (\u001b[38;5;45mNone\u001b[0m, \u001b[38;5;34m14\u001b[0m, \u001b[38;5;34m14\u001b[0m, \u001b[38;5;34m64\u001b[0m)     │             \u001b[38;5;34m0\u001b[0m │\n",
       "├─────────────────────────────────┼────────────────────────┼───────────────┤\n",
       "│ conv2d_6 (\u001b[38;5;33mConv2D\u001b[0m)               │ (\u001b[38;5;45mNone\u001b[0m, \u001b[38;5;34m12\u001b[0m, \u001b[38;5;34m12\u001b[0m, \u001b[38;5;34m128\u001b[0m)    │        \u001b[38;5;34m73,856\u001b[0m │\n",
       "├─────────────────────────────────┼────────────────────────┼───────────────┤\n",
       "│ conv2d_7 (\u001b[38;5;33mConv2D\u001b[0m)               │ (\u001b[38;5;45mNone\u001b[0m, \u001b[38;5;34m10\u001b[0m, \u001b[38;5;34m10\u001b[0m, \u001b[38;5;34m128\u001b[0m)    │       \u001b[38;5;34m147,584\u001b[0m │\n",
       "├─────────────────────────────────┼────────────────────────┼───────────────┤\n",
       "│ global_average_pooling2d_1      │ (\u001b[38;5;45mNone\u001b[0m, \u001b[38;5;34m128\u001b[0m)            │             \u001b[38;5;34m0\u001b[0m │\n",
       "│ (\u001b[38;5;33mGlobalAveragePooling2D\u001b[0m)        │                        │               │\n",
       "├─────────────────────────────────┼────────────────────────┼───────────────┤\n",
       "│ dropout_1 (\u001b[38;5;33mDropout\u001b[0m)             │ (\u001b[38;5;45mNone\u001b[0m, \u001b[38;5;34m128\u001b[0m)            │             \u001b[38;5;34m0\u001b[0m │\n",
       "├─────────────────────────────────┼────────────────────────┼───────────────┤\n",
       "│ dense_1 (\u001b[38;5;33mDense\u001b[0m)                 │ (\u001b[38;5;45mNone\u001b[0m, \u001b[38;5;34m10\u001b[0m)             │         \u001b[38;5;34m1,290\u001b[0m │\n",
       "└─────────────────────────────────┴────────────────────────┴───────────────┘\n"
      ]
     },
     "metadata": {},
     "output_type": "display_data"
    },
    {
     "data": {
      "text/html": [
       "<pre style=\"white-space:pre;overflow-x:auto;line-height:normal;font-family:Menlo,'DejaVu Sans Mono',consolas,'Courier New',monospace\"><span style=\"font-weight: bold\"> Total params: </span><span style=\"color: #00af00; text-decoration-color: #00af00\">261,450</span> (1021.29 KB)\n",
       "</pre>\n"
      ],
      "text/plain": [
       "\u001b[1m Total params: \u001b[0m\u001b[38;5;34m261,450\u001b[0m (1021.29 KB)\n"
      ]
     },
     "metadata": {},
     "output_type": "display_data"
    },
    {
     "data": {
      "text/html": [
       "<pre style=\"white-space:pre;overflow-x:auto;line-height:normal;font-family:Menlo,'DejaVu Sans Mono',consolas,'Courier New',monospace\"><span style=\"font-weight: bold\"> Trainable params: </span><span style=\"color: #00af00; text-decoration-color: #00af00\">261,450</span> (1021.29 KB)\n",
       "</pre>\n"
      ],
      "text/plain": [
       "\u001b[1m Trainable params: \u001b[0m\u001b[38;5;34m261,450\u001b[0m (1021.29 KB)\n"
      ]
     },
     "metadata": {},
     "output_type": "display_data"
    },
    {
     "data": {
      "text/html": [
       "<pre style=\"white-space:pre;overflow-x:auto;line-height:normal;font-family:Menlo,'DejaVu Sans Mono',consolas,'Courier New',monospace\"><span style=\"font-weight: bold\"> Non-trainable params: </span><span style=\"color: #00af00; text-decoration-color: #00af00\">0</span> (0.00 B)\n",
       "</pre>\n"
      ],
      "text/plain": [
       "\u001b[1m Non-trainable params: \u001b[0m\u001b[38;5;34m0\u001b[0m (0.00 B)\n"
      ]
     },
     "metadata": {},
     "output_type": "display_data"
    }
   ],
   "source": [
    "# Model parameters\n",
    "num_classes = len(np.unique(y_train))\n",
    "input_shape_teacher = x_train[0].shape\n",
    "\n",
    "def get_teacher_model():\n",
    "    return keras.Sequential(\n",
    "            [\n",
    "                keras.layers.Input(shape=input_shape_teacher),\n",
    "                keras.layers.Conv2D(64, kernel_size=(3, 3), activation=\"relu\"),\n",
    "                keras.layers.Conv2D(64, kernel_size=(3, 3), activation=\"relu\"),\n",
    "                keras.layers.MaxPooling2D(pool_size=(2, 2)),\n",
    "                keras.layers.Conv2D(128, kernel_size=(3, 3), activation=\"relu\"),\n",
    "                keras.layers.Conv2D(128, kernel_size=(3, 3), activation=\"relu\"),\n",
    "                keras.layers.GlobalAveragePooling2D(),\n",
    "                keras.layers.Dropout(0.5),\n",
    "                keras.layers.Dense(num_classes, activation=\"softmax\"),\n",
    "            ], name=\"Teacher\")\n",
    "\n",
    "get_teacher_model().summary()"
   ]
  },
  {
   "cell_type": "code",
   "execution_count": 10,
   "id": "44aeacaf-29d6-4afd-9e39-b54f18790002",
   "metadata": {},
   "outputs": [
    {
     "data": {
      "text/html": [
       "<pre style=\"white-space:pre;overflow-x:auto;line-height:normal;font-family:Menlo,'DejaVu Sans Mono',consolas,'Courier New',monospace\"><span style=\"font-weight: bold\">Model: \"Student\"</span>\n",
       "</pre>\n"
      ],
      "text/plain": [
       "\u001b[1mModel: \"Student\"\u001b[0m\n"
      ]
     },
     "metadata": {},
     "output_type": "display_data"
    },
    {
     "data": {
      "text/html": [
       "<pre style=\"white-space:pre;overflow-x:auto;line-height:normal;font-family:Menlo,'DejaVu Sans Mono',consolas,'Courier New',monospace\">┏━━━━━━━━━━━━━━━━━━━━━━━━━━━━━━━━━┳━━━━━━━━━━━━━━━━━━━━━━━━┳━━━━━━━━━━━━━━━┓\n",
       "┃<span style=\"font-weight: bold\"> Layer (type)                    </span>┃<span style=\"font-weight: bold\"> Output Shape           </span>┃<span style=\"font-weight: bold\">       Param # </span>┃\n",
       "┡━━━━━━━━━━━━━━━━━━━━━━━━━━━━━━━━━╇━━━━━━━━━━━━━━━━━━━━━━━━╇━━━━━━━━━━━━━━━┩\n",
       "│ conv2d_8 (<span style=\"color: #0087ff; text-decoration-color: #0087ff\">Conv2D</span>)               │ (<span style=\"color: #00d7ff; text-decoration-color: #00d7ff\">None</span>, <span style=\"color: #00af00; text-decoration-color: #00af00\">14</span>, <span style=\"color: #00af00; text-decoration-color: #00af00\">14</span>, <span style=\"color: #00af00; text-decoration-color: #00af00\">64</span>)     │         <span style=\"color: #00af00; text-decoration-color: #00af00\">1,792</span> │\n",
       "├─────────────────────────────────┼────────────────────────┼───────────────┤\n",
       "│ global_average_pooling2d_2      │ (<span style=\"color: #00d7ff; text-decoration-color: #00d7ff\">None</span>, <span style=\"color: #00af00; text-decoration-color: #00af00\">64</span>)             │             <span style=\"color: #00af00; text-decoration-color: #00af00\">0</span> │\n",
       "│ (<span style=\"color: #0087ff; text-decoration-color: #0087ff\">GlobalAveragePooling2D</span>)        │                        │               │\n",
       "├─────────────────────────────────┼────────────────────────┼───────────────┤\n",
       "│ dropout_2 (<span style=\"color: #0087ff; text-decoration-color: #0087ff\">Dropout</span>)             │ (<span style=\"color: #00d7ff; text-decoration-color: #00d7ff\">None</span>, <span style=\"color: #00af00; text-decoration-color: #00af00\">64</span>)             │             <span style=\"color: #00af00; text-decoration-color: #00af00\">0</span> │\n",
       "├─────────────────────────────────┼────────────────────────┼───────────────┤\n",
       "│ dense_2 (<span style=\"color: #0087ff; text-decoration-color: #0087ff\">Dense</span>)                 │ (<span style=\"color: #00d7ff; text-decoration-color: #00d7ff\">None</span>, <span style=\"color: #00af00; text-decoration-color: #00af00\">10</span>)             │           <span style=\"color: #00af00; text-decoration-color: #00af00\">650</span> │\n",
       "└─────────────────────────────────┴────────────────────────┴───────────────┘\n",
       "</pre>\n"
      ],
      "text/plain": [
       "┏━━━━━━━━━━━━━━━━━━━━━━━━━━━━━━━━━┳━━━━━━━━━━━━━━━━━━━━━━━━┳━━━━━━━━━━━━━━━┓\n",
       "┃\u001b[1m \u001b[0m\u001b[1mLayer (type)                   \u001b[0m\u001b[1m \u001b[0m┃\u001b[1m \u001b[0m\u001b[1mOutput Shape          \u001b[0m\u001b[1m \u001b[0m┃\u001b[1m \u001b[0m\u001b[1m      Param #\u001b[0m\u001b[1m \u001b[0m┃\n",
       "┡━━━━━━━━━━━━━━━━━━━━━━━━━━━━━━━━━╇━━━━━━━━━━━━━━━━━━━━━━━━╇━━━━━━━━━━━━━━━┩\n",
       "│ conv2d_8 (\u001b[38;5;33mConv2D\u001b[0m)               │ (\u001b[38;5;45mNone\u001b[0m, \u001b[38;5;34m14\u001b[0m, \u001b[38;5;34m14\u001b[0m, \u001b[38;5;34m64\u001b[0m)     │         \u001b[38;5;34m1,792\u001b[0m │\n",
       "├─────────────────────────────────┼────────────────────────┼───────────────┤\n",
       "│ global_average_pooling2d_2      │ (\u001b[38;5;45mNone\u001b[0m, \u001b[38;5;34m64\u001b[0m)             │             \u001b[38;5;34m0\u001b[0m │\n",
       "│ (\u001b[38;5;33mGlobalAveragePooling2D\u001b[0m)        │                        │               │\n",
       "├─────────────────────────────────┼────────────────────────┼───────────────┤\n",
       "│ dropout_2 (\u001b[38;5;33mDropout\u001b[0m)             │ (\u001b[38;5;45mNone\u001b[0m, \u001b[38;5;34m64\u001b[0m)             │             \u001b[38;5;34m0\u001b[0m │\n",
       "├─────────────────────────────────┼────────────────────────┼───────────────┤\n",
       "│ dense_2 (\u001b[38;5;33mDense\u001b[0m)                 │ (\u001b[38;5;45mNone\u001b[0m, \u001b[38;5;34m10\u001b[0m)             │           \u001b[38;5;34m650\u001b[0m │\n",
       "└─────────────────────────────────┴────────────────────────┴───────────────┘\n"
      ]
     },
     "metadata": {},
     "output_type": "display_data"
    },
    {
     "data": {
      "text/html": [
       "<pre style=\"white-space:pre;overflow-x:auto;line-height:normal;font-family:Menlo,'DejaVu Sans Mono',consolas,'Courier New',monospace\"><span style=\"font-weight: bold\"> Total params: </span><span style=\"color: #00af00; text-decoration-color: #00af00\">2,442</span> (9.54 KB)\n",
       "</pre>\n"
      ],
      "text/plain": [
       "\u001b[1m Total params: \u001b[0m\u001b[38;5;34m2,442\u001b[0m (9.54 KB)\n"
      ]
     },
     "metadata": {},
     "output_type": "display_data"
    },
    {
     "data": {
      "text/html": [
       "<pre style=\"white-space:pre;overflow-x:auto;line-height:normal;font-family:Menlo,'DejaVu Sans Mono',consolas,'Courier New',monospace\"><span style=\"font-weight: bold\"> Trainable params: </span><span style=\"color: #00af00; text-decoration-color: #00af00\">2,442</span> (9.54 KB)\n",
       "</pre>\n"
      ],
      "text/plain": [
       "\u001b[1m Trainable params: \u001b[0m\u001b[38;5;34m2,442\u001b[0m (9.54 KB)\n"
      ]
     },
     "metadata": {},
     "output_type": "display_data"
    },
    {
     "data": {
      "text/html": [
       "<pre style=\"white-space:pre;overflow-x:auto;line-height:normal;font-family:Menlo,'DejaVu Sans Mono',consolas,'Courier New',monospace\"><span style=\"font-weight: bold\"> Non-trainable params: </span><span style=\"color: #00af00; text-decoration-color: #00af00\">0</span> (0.00 B)\n",
       "</pre>\n"
      ],
      "text/plain": [
       "\u001b[1m Non-trainable params: \u001b[0m\u001b[38;5;34m0\u001b[0m (0.00 B)\n"
      ]
     },
     "metadata": {},
     "output_type": "display_data"
    }
   ],
   "source": [
    "input_shape_student = x_train_st[0].shape\n",
    "\n",
    "def get_student_model():\n",
    "    return keras.Sequential(\n",
    "        [\n",
    "            keras.layers.Input(shape=input_shape_student),        \n",
    "            keras.layers.Conv2D(64, kernel_size=(3, 3), activation=\"relu\"),\n",
    "            keras.layers.GlobalAveragePooling2D(),\n",
    "            keras.layers.Dropout(0.5),\n",
    "            keras.layers.Dense(num_classes, activation=\"softmax\"),\n",
    "        ], name=\"Student\")\n",
    "    \n",
    "get_student_model().summary()"
   ]
  },
  {
   "cell_type": "code",
   "execution_count": 11,
   "id": "ccc1b838-b490-4788-a32a-b6d67f87e818",
   "metadata": {
    "scrolled": true
   },
   "outputs": [
    {
     "name": "stdout",
     "output_type": "stream",
     "text": [
      "Epoch 1/20\n",
      "\u001b[1m333/333\u001b[0m \u001b[32m━━━━━━━━━━━━━━━━━━━━\u001b[0m\u001b[37m\u001b[0m \u001b[1m8s\u001b[0m 18ms/step - accuracy: 0.2194 - loss: 2.0233 - val_accuracy: 0.3992 - val_loss: 1.6039\n",
      "Epoch 2/20\n",
      "\u001b[1m333/333\u001b[0m \u001b[32m━━━━━━━━━━━━━━━━━━━━\u001b[0m\u001b[37m\u001b[0m \u001b[1m2s\u001b[0m 2ms/step - accuracy: 0.3797 - loss: 1.6530 - val_accuracy: 0.3959 - val_loss: 1.7372\n",
      "Epoch 3/20\n",
      "\u001b[1m333/333\u001b[0m \u001b[32m━━━━━━━━━━━━━━━━━━━━\u001b[0m\u001b[37m\u001b[0m \u001b[1m1s\u001b[0m 2ms/step - accuracy: 0.4414 - loss: 1.5333 - val_accuracy: 0.5217 - val_loss: 1.3542\n",
      "Epoch 4/20\n",
      "\u001b[1m333/333\u001b[0m \u001b[32m━━━━━━━━━━━━━━━━━━━━\u001b[0m\u001b[37m\u001b[0m \u001b[1m1s\u001b[0m 2ms/step - accuracy: 0.4837 - loss: 1.4140 - val_accuracy: 0.5337 - val_loss: 1.2924\n",
      "Epoch 5/20\n",
      "\u001b[1m333/333\u001b[0m \u001b[32m━━━━━━━━━━━━━━━━━━━━\u001b[0m\u001b[37m\u001b[0m \u001b[1m1s\u001b[0m 2ms/step - accuracy: 0.5167 - loss: 1.3432 - val_accuracy: 0.5551 - val_loss: 1.2030\n",
      "Epoch 6/20\n",
      "\u001b[1m333/333\u001b[0m \u001b[32m━━━━━━━━━━━━━━━━━━━━\u001b[0m\u001b[37m\u001b[0m \u001b[1m1s\u001b[0m 2ms/step - accuracy: 0.5408 - loss: 1.2747 - val_accuracy: 0.4983 - val_loss: 1.3800\n",
      "Epoch 7/20\n",
      "\u001b[1m333/333\u001b[0m \u001b[32m━━━━━━━━━━━━━━━━━━━━\u001b[0m\u001b[37m\u001b[0m \u001b[1m1s\u001b[0m 2ms/step - accuracy: 0.5399 - loss: 1.2916 - val_accuracy: 0.5908 - val_loss: 1.1504\n",
      "Epoch 8/20\n",
      "\u001b[1m333/333\u001b[0m \u001b[32m━━━━━━━━━━━━━━━━━━━━\u001b[0m\u001b[37m\u001b[0m \u001b[1m1s\u001b[0m 2ms/step - accuracy: 0.5724 - loss: 1.1911 - val_accuracy: 0.5868 - val_loss: 1.2152\n",
      "Epoch 9/20\n",
      "\u001b[1m333/333\u001b[0m \u001b[32m━━━━━━━━━━━━━━━━━━━━\u001b[0m\u001b[37m\u001b[0m \u001b[1m1s\u001b[0m 2ms/step - accuracy: 0.5831 - loss: 1.1670 - val_accuracy: 0.6355 - val_loss: 1.0270\n",
      "Epoch 10/20\n",
      "\u001b[1m333/333\u001b[0m \u001b[32m━━━━━━━━━━━━━━━━━━━━\u001b[0m\u001b[37m\u001b[0m \u001b[1m1s\u001b[0m 2ms/step - accuracy: 0.6076 - loss: 1.1091 - val_accuracy: 0.5524 - val_loss: 1.3784\n",
      "Epoch 11/20\n",
      "\u001b[1m333/333\u001b[0m \u001b[32m━━━━━━━━━━━━━━━━━━━━\u001b[0m\u001b[37m\u001b[0m \u001b[1m1s\u001b[0m 2ms/step - accuracy: 0.6107 - loss: 1.1071 - val_accuracy: 0.6115 - val_loss: 1.1000\n",
      "Epoch 12/20\n",
      "\u001b[1m333/333\u001b[0m \u001b[32m━━━━━━━━━━━━━━━━━━━━\u001b[0m\u001b[37m\u001b[0m \u001b[1m1s\u001b[0m 2ms/step - accuracy: 0.6241 - loss: 1.0687 - val_accuracy: 0.6667 - val_loss: 0.9594\n",
      "Epoch 13/20\n",
      "\u001b[1m333/333\u001b[0m \u001b[32m━━━━━━━━━━━━━━━━━━━━\u001b[0m\u001b[37m\u001b[0m \u001b[1m1s\u001b[0m 2ms/step - accuracy: 0.6350 - loss: 1.0307 - val_accuracy: 0.6223 - val_loss: 1.0588\n",
      "Epoch 14/20\n",
      "\u001b[1m333/333\u001b[0m \u001b[32m━━━━━━━━━━━━━━━━━━━━\u001b[0m\u001b[37m\u001b[0m \u001b[1m1s\u001b[0m 2ms/step - accuracy: 0.6496 - loss: 0.9974 - val_accuracy: 0.6880 - val_loss: 0.8827\n",
      "Epoch 15/20\n",
      "\u001b[1m333/333\u001b[0m \u001b[32m━━━━━━━━━━━━━━━━━━━━\u001b[0m\u001b[37m\u001b[0m \u001b[1m1s\u001b[0m 2ms/step - accuracy: 0.6582 - loss: 0.9551 - val_accuracy: 0.7003 - val_loss: 0.8591\n",
      "Epoch 16/20\n",
      "\u001b[1m333/333\u001b[0m \u001b[32m━━━━━━━━━━━━━━━━━━━━\u001b[0m\u001b[37m\u001b[0m \u001b[1m1s\u001b[0m 2ms/step - accuracy: 0.6648 - loss: 0.9479 - val_accuracy: 0.7020 - val_loss: 0.8575\n",
      "Epoch 17/20\n",
      "\u001b[1m333/333\u001b[0m \u001b[32m━━━━━━━━━━━━━━━━━━━━\u001b[0m\u001b[37m\u001b[0m \u001b[1m1s\u001b[0m 2ms/step - accuracy: 0.6723 - loss: 0.9335 - val_accuracy: 0.7068 - val_loss: 0.8323\n",
      "Epoch 18/20\n",
      "\u001b[1m333/333\u001b[0m \u001b[32m━━━━━━━━━━━━━━━━━━━━\u001b[0m\u001b[37m\u001b[0m \u001b[1m1s\u001b[0m 2ms/step - accuracy: 0.6833 - loss: 0.8983 - val_accuracy: 0.7120 - val_loss: 0.8242\n",
      "Epoch 19/20\n",
      "\u001b[1m333/333\u001b[0m \u001b[32m━━━━━━━━━━━━━━━━━━━━\u001b[0m\u001b[37m\u001b[0m \u001b[1m1s\u001b[0m 2ms/step - accuracy: 0.6854 - loss: 0.8954 - val_accuracy: 0.7088 - val_loss: 0.8324\n",
      "Epoch 20/20\n",
      "\u001b[1m333/333\u001b[0m \u001b[32m━━━━━━━━━━━━━━━━━━━━\u001b[0m\u001b[37m\u001b[0m \u001b[1m1s\u001b[0m 2ms/step - accuracy: 0.6913 - loss: 0.8748 - val_accuracy: 0.7243 - val_loss: 0.7927\n",
      "\u001b[1m313/313\u001b[0m \u001b[32m━━━━━━━━━━━━━━━━━━━━\u001b[0m\u001b[37m\u001b[0m \u001b[1m2s\u001b[0m 4ms/step - accuracy: 0.7095 - loss: 0.7965\n"
     ]
    },
    {
     "data": {
      "text/plain": [
       "[0.8060051202774048, 0.7116000056266785]"
      ]
     },
     "execution_count": 11,
     "metadata": {},
     "output_type": "execute_result"
    }
   ],
   "source": [
    "#Independent training/evaluation of both models\n",
    "teacher_model = get_teacher_model()\n",
    "teacher_model.compile(optimizer='adam',\n",
    "                      loss=keras.losses.SparseCategoricalCrossentropy(),\n",
    "                      metrics=['accuracy'])\n",
    "history_teacher = teacher_model.fit(x_train, y_train, batch_size=128, \n",
    "                                    epochs=20, validation_split=0.15)\n",
    "teacher_model.evaluate(x_test, y_test)"
   ]
  },
  {
   "cell_type": "code",
   "execution_count": 12,
   "id": "8975bcfc-b111-4b56-9074-38169adea2d9",
   "metadata": {},
   "outputs": [
    {
     "name": "stdout",
     "output_type": "stream",
     "text": [
      "Epoch 1/30\n",
      "\u001b[1m333/333\u001b[0m \u001b[32m━━━━━━━━━━━━━━━━━━━━\u001b[0m\u001b[37m\u001b[0m \u001b[1m5s\u001b[0m 11ms/step - accuracy: 0.1295 - loss: 2.2721 - val_accuracy: 0.2233 - val_loss: 2.1479\n",
      "Epoch 2/30\n",
      "\u001b[1m333/333\u001b[0m \u001b[32m━━━━━━━━━━━━━━━━━━━━\u001b[0m\u001b[37m\u001b[0m \u001b[1m2s\u001b[0m 1ms/step - accuracy: 0.1943 - loss: 2.1396 - val_accuracy: 0.2484 - val_loss: 2.0784\n",
      "Epoch 3/30\n",
      "\u001b[1m333/333\u001b[0m \u001b[32m━━━━━━━━━━━━━━━━━━━━\u001b[0m\u001b[37m\u001b[0m \u001b[1m0s\u001b[0m 1ms/step - accuracy: 0.2158 - loss: 2.0844 - val_accuracy: 0.2403 - val_loss: 2.0404\n",
      "Epoch 4/30\n",
      "\u001b[1m333/333\u001b[0m \u001b[32m━━━━━━━━━━━━━━━━━━━━\u001b[0m\u001b[37m\u001b[0m \u001b[1m0s\u001b[0m 1ms/step - accuracy: 0.2256 - loss: 2.0498 - val_accuracy: 0.2673 - val_loss: 1.9962\n",
      "Epoch 5/30\n",
      "\u001b[1m333/333\u001b[0m \u001b[32m━━━━━━━━━━━━━━━━━━━━\u001b[0m\u001b[37m\u001b[0m \u001b[1m0s\u001b[0m 1ms/step - accuracy: 0.2407 - loss: 2.0228 - val_accuracy: 0.2688 - val_loss: 1.9732\n",
      "Epoch 6/30\n",
      "\u001b[1m333/333\u001b[0m \u001b[32m━━━━━━━━━━━━━━━━━━━━\u001b[0m\u001b[37m\u001b[0m \u001b[1m0s\u001b[0m 1ms/step - accuracy: 0.2570 - loss: 2.0018 - val_accuracy: 0.2899 - val_loss: 1.9495\n",
      "Epoch 7/30\n",
      "\u001b[1m333/333\u001b[0m \u001b[32m━━━━━━━━━━━━━━━━━━━━\u001b[0m\u001b[37m\u001b[0m \u001b[1m0s\u001b[0m 1ms/step - accuracy: 0.2665 - loss: 1.9781 - val_accuracy: 0.3115 - val_loss: 1.9220\n",
      "Epoch 8/30\n",
      "\u001b[1m333/333\u001b[0m \u001b[32m━━━━━━━━━━━━━━━━━━━━\u001b[0m\u001b[37m\u001b[0m \u001b[1m0s\u001b[0m 1ms/step - accuracy: 0.2674 - loss: 1.9638 - val_accuracy: 0.3080 - val_loss: 1.9118\n",
      "Epoch 9/30\n",
      "\u001b[1m333/333\u001b[0m \u001b[32m━━━━━━━━━━━━━━━━━━━━\u001b[0m\u001b[37m\u001b[0m \u001b[1m0s\u001b[0m 1ms/step - accuracy: 0.2730 - loss: 1.9520 - val_accuracy: 0.3085 - val_loss: 1.8924\n",
      "Epoch 10/30\n",
      "\u001b[1m333/333\u001b[0m \u001b[32m━━━━━━━━━━━━━━━━━━━━\u001b[0m\u001b[37m\u001b[0m \u001b[1m0s\u001b[0m 1ms/step - accuracy: 0.2751 - loss: 1.9475 - val_accuracy: 0.3101 - val_loss: 1.8859\n",
      "Epoch 11/30\n",
      "\u001b[1m333/333\u001b[0m \u001b[32m━━━━━━━━━━━━━━━━━━━━\u001b[0m\u001b[37m\u001b[0m \u001b[1m0s\u001b[0m 1ms/step - accuracy: 0.2778 - loss: 1.9365 - val_accuracy: 0.3229 - val_loss: 1.8744\n",
      "Epoch 12/30\n",
      "\u001b[1m333/333\u001b[0m \u001b[32m━━━━━━━━━━━━━━━━━━━━\u001b[0m\u001b[37m\u001b[0m \u001b[1m0s\u001b[0m 1ms/step - accuracy: 0.2804 - loss: 1.9280 - val_accuracy: 0.3295 - val_loss: 1.8631\n",
      "Epoch 13/30\n",
      "\u001b[1m333/333\u001b[0m \u001b[32m━━━━━━━━━━━━━━━━━━━━\u001b[0m\u001b[37m\u001b[0m \u001b[1m0s\u001b[0m 1ms/step - accuracy: 0.2829 - loss: 1.9244 - val_accuracy: 0.3293 - val_loss: 1.8562\n",
      "Epoch 14/30\n",
      "\u001b[1m333/333\u001b[0m \u001b[32m━━━━━━━━━━━━━━━━━━━━\u001b[0m\u001b[37m\u001b[0m \u001b[1m0s\u001b[0m 1ms/step - accuracy: 0.2879 - loss: 1.9110 - val_accuracy: 0.3263 - val_loss: 1.8549\n",
      "Epoch 15/30\n",
      "\u001b[1m333/333\u001b[0m \u001b[32m━━━━━━━━━━━━━━━━━━━━\u001b[0m\u001b[37m\u001b[0m \u001b[1m0s\u001b[0m 1ms/step - accuracy: 0.2789 - loss: 1.9159 - val_accuracy: 0.3312 - val_loss: 1.8493\n",
      "Epoch 16/30\n",
      "\u001b[1m333/333\u001b[0m \u001b[32m━━━━━━━━━━━━━━━━━━━━\u001b[0m\u001b[37m\u001b[0m \u001b[1m0s\u001b[0m 1ms/step - accuracy: 0.2863 - loss: 1.9125 - val_accuracy: 0.3365 - val_loss: 1.8436\n",
      "Epoch 17/30\n",
      "\u001b[1m333/333\u001b[0m \u001b[32m━━━━━━━━━━━━━━━━━━━━\u001b[0m\u001b[37m\u001b[0m \u001b[1m0s\u001b[0m 1ms/step - accuracy: 0.2882 - loss: 1.9149 - val_accuracy: 0.3296 - val_loss: 1.8406\n",
      "Epoch 18/30\n",
      "\u001b[1m333/333\u001b[0m \u001b[32m━━━━━━━━━━━━━━━━━━━━\u001b[0m\u001b[37m\u001b[0m \u001b[1m0s\u001b[0m 1ms/step - accuracy: 0.2926 - loss: 1.9059 - val_accuracy: 0.3295 - val_loss: 1.8370\n",
      "Epoch 19/30\n",
      "\u001b[1m333/333\u001b[0m \u001b[32m━━━━━━━━━━━━━━━━━━━━\u001b[0m\u001b[37m\u001b[0m \u001b[1m0s\u001b[0m 1ms/step - accuracy: 0.2915 - loss: 1.8954 - val_accuracy: 0.3281 - val_loss: 1.8367\n",
      "Epoch 20/30\n",
      "\u001b[1m333/333\u001b[0m \u001b[32m━━━━━━━━━━━━━━━━━━━━\u001b[0m\u001b[37m\u001b[0m \u001b[1m0s\u001b[0m 1ms/step - accuracy: 0.2920 - loss: 1.9011 - val_accuracy: 0.3312 - val_loss: 1.8283\n",
      "Epoch 21/30\n",
      "\u001b[1m333/333\u001b[0m \u001b[32m━━━━━━━━━━━━━━━━━━━━\u001b[0m\u001b[37m\u001b[0m \u001b[1m0s\u001b[0m 1ms/step - accuracy: 0.2914 - loss: 1.8969 - val_accuracy: 0.3361 - val_loss: 1.8260\n",
      "Epoch 22/30\n",
      "\u001b[1m333/333\u001b[0m \u001b[32m━━━━━━━━━━━━━━━━━━━━\u001b[0m\u001b[37m\u001b[0m \u001b[1m0s\u001b[0m 1ms/step - accuracy: 0.2916 - loss: 1.8996 - val_accuracy: 0.3201 - val_loss: 1.8342\n",
      "Epoch 23/30\n",
      "\u001b[1m333/333\u001b[0m \u001b[32m━━━━━━━━━━━━━━━━━━━━\u001b[0m\u001b[37m\u001b[0m \u001b[1m0s\u001b[0m 1ms/step - accuracy: 0.2973 - loss: 1.8933 - val_accuracy: 0.3297 - val_loss: 1.8285\n",
      "Epoch 24/30\n",
      "\u001b[1m333/333\u001b[0m \u001b[32m━━━━━━━━━━━━━━━━━━━━\u001b[0m\u001b[37m\u001b[0m \u001b[1m0s\u001b[0m 1ms/step - accuracy: 0.2994 - loss: 1.8967 - val_accuracy: 0.3380 - val_loss: 1.8213\n",
      "Epoch 25/30\n",
      "\u001b[1m333/333\u001b[0m \u001b[32m━━━━━━━━━━━━━━━━━━━━\u001b[0m\u001b[37m\u001b[0m \u001b[1m0s\u001b[0m 1ms/step - accuracy: 0.2895 - loss: 1.8980 - val_accuracy: 0.3365 - val_loss: 1.8140\n",
      "Epoch 26/30\n",
      "\u001b[1m333/333\u001b[0m \u001b[32m━━━━━━━━━━━━━━━━━━━━\u001b[0m\u001b[37m\u001b[0m \u001b[1m0s\u001b[0m 1ms/step - accuracy: 0.2947 - loss: 1.8920 - val_accuracy: 0.3292 - val_loss: 1.8144\n",
      "Epoch 27/30\n",
      "\u001b[1m333/333\u001b[0m \u001b[32m━━━━━━━━━━━━━━━━━━━━\u001b[0m\u001b[37m\u001b[0m \u001b[1m0s\u001b[0m 1ms/step - accuracy: 0.2951 - loss: 1.8820 - val_accuracy: 0.3343 - val_loss: 1.8116\n",
      "Epoch 28/30\n",
      "\u001b[1m333/333\u001b[0m \u001b[32m━━━━━━━━━━━━━━━━━━━━\u001b[0m\u001b[37m\u001b[0m \u001b[1m0s\u001b[0m 1ms/step - accuracy: 0.2947 - loss: 1.8889 - val_accuracy: 0.3329 - val_loss: 1.8140\n",
      "Epoch 29/30\n",
      "\u001b[1m333/333\u001b[0m \u001b[32m━━━━━━━━━━━━━━━━━━━━\u001b[0m\u001b[37m\u001b[0m \u001b[1m0s\u001b[0m 1ms/step - accuracy: 0.2992 - loss: 1.8831 - val_accuracy: 0.3381 - val_loss: 1.8087\n",
      "Epoch 30/30\n",
      "\u001b[1m333/333\u001b[0m \u001b[32m━━━━━━━━━━━━━━━━━━━━\u001b[0m\u001b[37m\u001b[0m \u001b[1m0s\u001b[0m 1ms/step - accuracy: 0.2954 - loss: 1.8871 - val_accuracy: 0.3385 - val_loss: 1.8089\n",
      "\u001b[1m313/313\u001b[0m \u001b[32m━━━━━━━━━━━━━━━━━━━━\u001b[0m\u001b[37m\u001b[0m \u001b[1m2s\u001b[0m 3ms/step - accuracy: 0.3525 - loss: 1.8027\n"
     ]
    },
    {
     "data": {
      "text/plain": [
       "[1.8011714220046997, 0.34940001368522644]"
      ]
     },
     "execution_count": 12,
     "metadata": {},
     "output_type": "execute_result"
    }
   ],
   "source": [
    "#Independent training/evaluation of both models\n",
    "student_model = get_student_model()\n",
    "student_model.compile(optimizer='adam',\n",
    "                      loss=keras.losses.SparseCategoricalCrossentropy(),\n",
    "                      metrics=['accuracy'])\n",
    "history_student = student_model.fit(x_train_st, y_train, batch_size=128, \n",
    "                                    epochs=30, validation_split=0.15)\n",
    "student_model.evaluate(x_test_st, y_test)"
   ]
  },
  {
   "cell_type": "markdown",
   "id": "c67be036-4b53-45a1-9c15-1039ce23bf2e",
   "metadata": {},
   "source": [
    "If we have the opportunity to train both the teacher and student models, it is possible to **not sacrifice** part of the training data in knowledge distillation **using cross-validation**.\n",
    "\n",
    " - We train as many teacher models as cross-validation folds, and each of them generates the soft labels for part of the training set (the ones corresponding to the fold test set).\n",
    "\n",
    "<img width=\"60%\" src=\"https://scikit-learn.org/stable/_images/grid_search_cross_validation.png\" style=\"margin:auto\" />\n",
    "\n",
    "#### 📋 Exercise 2\n",
    "\n",
    " - Using k-fold cross-validation, generate soft labels for the full training set.\n",
    " - Visualize the distribution of the soft labels, to check how they indeed encode some uncertainty in the classification."
   ]
  },
  {
   "cell_type": "code",
   "execution_count": 13,
   "id": "1407a61e-1b3e-421a-87e6-97ad8d608fb3",
   "metadata": {},
   "outputs": [],
   "source": [
    "from sklearn.model_selection import KFold\n",
    "from sklearn.metrics import accuracy_score\n",
    "from tqdm import tqdm"
   ]
  },
  {
   "cell_type": "code",
   "execution_count": 14,
   "id": "10728d39-2330-4204-b247-9fcee0a24442",
   "metadata": {},
   "outputs": [
    {
     "name": "stdout",
     "output_type": "stream",
     "text": [
      "\u001b[1m1563/1563\u001b[0m \u001b[32m━━━━━━━━━━━━━━━━━━━━\u001b[0m\u001b[37m\u001b[0m \u001b[1m1s\u001b[0m 714us/step\n"
     ]
    },
    {
     "name": "stderr",
     "output_type": "stream",
     "text": [
      "  0%|          | 0/5 [00:00<?, ?it/s]"
     ]
    },
    {
     "name": "stdout",
     "output_type": "stream",
     "text": [
      "\u001b[1m313/313\u001b[0m \u001b[32m━━━━━━━━━━━━━━━━━━━━\u001b[0m\u001b[37m\u001b[0m \u001b[1m1s\u001b[0m 1ms/step    \n",
      "\u001b[1m313/313\u001b[0m \u001b[32m━━━━━━━━━━━━━━━━━━━━\u001b[0m\u001b[37m\u001b[0m \u001b[1m2s\u001b[0m 4ms/step - accuracy: 0.7335 - loss: 0.7901\n"
     ]
    },
    {
     "name": "stderr",
     "output_type": "stream",
     "text": [
      " 20%|██        | 1/5 [00:19<01:18, 19.74s/it]"
     ]
    },
    {
     "name": "stdout",
     "output_type": "stream",
     "text": [
      "[0.7938253879547119, 0.729900062084198]\n",
      "\u001b[1m313/313\u001b[0m \u001b[32m━━━━━━━━━━━━━━━━━━━━\u001b[0m\u001b[37m\u001b[0m \u001b[1m1s\u001b[0m 1ms/step    \n",
      "\u001b[1m313/313\u001b[0m \u001b[32m━━━━━━━━━━━━━━━━━━━━\u001b[0m\u001b[37m\u001b[0m \u001b[1m2s\u001b[0m 4ms/step - accuracy: 0.7077 - loss: 0.8506\n"
     ]
    },
    {
     "name": "stderr",
     "output_type": "stream",
     "text": [
      " 40%|████      | 2/5 [00:39<00:58, 19.50s/it]"
     ]
    },
    {
     "name": "stdout",
     "output_type": "stream",
     "text": [
      "[0.8429996371269226, 0.7101000547409058]\n",
      "\u001b[1m313/313\u001b[0m \u001b[32m━━━━━━━━━━━━━━━━━━━━\u001b[0m\u001b[37m\u001b[0m \u001b[1m1s\u001b[0m 1ms/step  \n",
      "\u001b[1m313/313\u001b[0m \u001b[32m━━━━━━━━━━━━━━━━━━━━\u001b[0m\u001b[37m\u001b[0m \u001b[1m2s\u001b[0m 4ms/step - accuracy: 0.7194 - loss: 0.8216\n"
     ]
    },
    {
     "name": "stderr",
     "output_type": "stream",
     "text": [
      " 60%|██████    | 3/5 [00:58<00:39, 19.51s/it]"
     ]
    },
    {
     "name": "stdout",
     "output_type": "stream",
     "text": [
      "[0.8166283369064331, 0.7153000235557556]\n",
      "\u001b[1m313/313\u001b[0m \u001b[32m━━━━━━━━━━━━━━━━━━━━\u001b[0m\u001b[37m\u001b[0m \u001b[1m1s\u001b[0m 1ms/step  \n",
      "\u001b[1m313/313\u001b[0m \u001b[32m━━━━━━━━━━━━━━━━━━━━\u001b[0m\u001b[37m\u001b[0m \u001b[1m2s\u001b[0m 4ms/step - accuracy: 0.7115 - loss: 0.8301\n"
     ]
    },
    {
     "name": "stderr",
     "output_type": "stream",
     "text": [
      " 80%|████████  | 4/5 [01:18<00:19, 19.72s/it]"
     ]
    },
    {
     "name": "stdout",
     "output_type": "stream",
     "text": [
      "[0.83193039894104, 0.7161000370979309]\n",
      "\u001b[1m313/313\u001b[0m \u001b[32m━━━━━━━━━━━━━━━━━━━━\u001b[0m\u001b[37m\u001b[0m \u001b[1m1s\u001b[0m 1ms/step  \n",
      "\u001b[1m313/313\u001b[0m \u001b[32m━━━━━━━━━━━━━━━━━━━━\u001b[0m\u001b[37m\u001b[0m \u001b[1m2s\u001b[0m 4ms/step - accuracy: 0.7222 - loss: 0.8111\n"
     ]
    },
    {
     "name": "stderr",
     "output_type": "stream",
     "text": [
      "100%|██████████| 5/5 [01:38<00:00, 19.64s/it]"
     ]
    },
    {
     "name": "stdout",
     "output_type": "stream",
     "text": [
      "[0.80824214220047, 0.7205000519752502]\n"
     ]
    },
    {
     "name": "stderr",
     "output_type": "stream",
     "text": [
      "\n"
     ]
    }
   ],
   "source": [
    "#Complete the code to solve exercise 2\n",
    "nfolds = 5\n",
    "kfold = KFold(nfolds, shuffle=True)\n",
    "soft_labels = np.zeros_like(teacher_model.predict(x_train))\n",
    "for i, (train_index, test_index) in tqdm(enumerate(kfold.split(x_train)), total=nfolds):\n",
    "    fold_x_train, fold_y_train = x_train[train_index], y_train[train_index]\n",
    "    fold_x_test, fold_y_test = x_train[test_index], y_train[test_index]\n",
    "    #We train a new teacher model for each fold\n",
    "    teacher = get_teacher_model()\n",
    "    teacher.compile(optimizer='adam',\n",
    "                    loss=keras.losses.SparseCategoricalCrossentropy(),\n",
    "                    metrics=['accuracy'])\n",
    "    teacher.fit(fold_x_train, fold_y_train, batch_size=128, epochs=20, verbose=0)\n",
    "    soft_labels[test_index] = teacher.predict(fold_x_test)\n",
    "    print(teacher.evaluate(fold_x_test, fold_y_test))"
   ]
  },
  {
   "cell_type": "code",
   "execution_count": 15,
   "id": "062febbb-2562-4351-ab07-132b22bd68d5",
   "metadata": {},
   "outputs": [
    {
     "data": {
      "text/plain": [
       "<Axes: ylabel='Density'>"
      ]
     },
     "execution_count": 15,
     "metadata": {},
     "output_type": "execute_result"
    },
    {
     "data": {
      "image/png": "[encoded data removed]",
      "text/plain": [
       "<Figure size 640x480 with 1 Axes>"
      ]
     },
     "metadata": {},
     "output_type": "display_data"
    }
   ],
   "source": [
    "import seaborn as sns\n",
    "sns.set_theme()\n",
    "sns.kdeplot(soft_labels, fill=True)"
   ]
  },
  {
   "cell_type": "markdown",
   "id": "43430e2f-17df-4e9d-b88a-19da79d0993e",
   "metadata": {},
   "source": [
    "----\n",
    "\n",
    "Now that we have the soft labels for the whole training set, we train a new student model with these labels and assess the training performance compared with the original student.\n",
    " - 👉 Note that we use `CategoricalCrossentropy` as a loss, rather than `SparseCategoricalCrossEntropy`. The reason is that now the labels are probabilities, not integers.\n"
   ]
  },
  {
   "cell_type": "code",
   "execution_count": 16,
   "id": "3bd0c9f6-8b98-4430-8402-a9689b2248c4",
   "metadata": {},
   "outputs": [
    {
     "name": "stdout",
     "output_type": "stream",
     "text": [
      "Epoch 1/30\n",
      "\u001b[1m333/333\u001b[0m \u001b[32m━━━━━━━━━━━━━━━━━━━━\u001b[0m\u001b[37m\u001b[0m \u001b[1m5s\u001b[0m 10ms/step - accuracy: 0.1405 - loss: 2.2700 - val_accuracy: 0.2239 - val_loss: 2.1278\n",
      "Epoch 2/30\n",
      "\u001b[1m333/333\u001b[0m \u001b[32m━━━━━━━━━━━━━━━━━━━━\u001b[0m\u001b[37m\u001b[0m \u001b[1m2s\u001b[0m 1ms/step - accuracy: 0.2152 - loss: 2.1261 - val_accuracy: 0.2804 - val_loss: 2.0586\n",
      "Epoch 3/30\n",
      "\u001b[1m333/333\u001b[0m \u001b[32m━━━━━━━━━━━━━━━━━━━━\u001b[0m\u001b[37m\u001b[0m \u001b[1m0s\u001b[0m 1ms/step - accuracy: 0.2403 - loss: 2.0697 - val_accuracy: 0.3067 - val_loss: 2.0067\n",
      "Epoch 4/30\n",
      "\u001b[1m333/333\u001b[0m \u001b[32m━━━━━━━━━━━━━━━━━━━━\u001b[0m\u001b[37m\u001b[0m \u001b[1m0s\u001b[0m 1ms/step - accuracy: 0.2735 - loss: 2.0222 - val_accuracy: 0.3156 - val_loss: 1.9711\n",
      "Epoch 5/30\n",
      "\u001b[1m333/333\u001b[0m \u001b[32m━━━━━━━━━━━━━━━━━━━━\u001b[0m\u001b[37m\u001b[0m \u001b[1m0s\u001b[0m 1ms/step - accuracy: 0.2864 - loss: 1.9896 - val_accuracy: 0.3341 - val_loss: 1.9376\n",
      "Epoch 6/30\n",
      "\u001b[1m333/333\u001b[0m \u001b[32m━━━━━━━━━━━━━━━━━━━━\u001b[0m\u001b[37m\u001b[0m \u001b[1m0s\u001b[0m 1ms/step - accuracy: 0.2959 - loss: 1.9735 - val_accuracy: 0.3489 - val_loss: 1.9135\n",
      "Epoch 7/30\n",
      "\u001b[1m333/333\u001b[0m \u001b[32m━━━━━━━━━━━━━━━━━━━━\u001b[0m\u001b[37m\u001b[0m \u001b[1m0s\u001b[0m 1ms/step - accuracy: 0.3047 - loss: 1.9520 - val_accuracy: 0.3511 - val_loss: 1.8993\n",
      "Epoch 8/30\n",
      "\u001b[1m333/333\u001b[0m \u001b[32m━━━━━━━━━━━━━━━━━━━━\u001b[0m\u001b[37m\u001b[0m \u001b[1m0s\u001b[0m 1ms/step - accuracy: 0.3110 - loss: 1.9369 - val_accuracy: 0.3591 - val_loss: 1.8873\n",
      "Epoch 9/30\n",
      "\u001b[1m333/333\u001b[0m \u001b[32m━━━━━━━━━━━━━━━━━━━━\u001b[0m\u001b[37m\u001b[0m \u001b[1m0s\u001b[0m 1ms/step - accuracy: 0.3158 - loss: 1.9295 - val_accuracy: 0.3604 - val_loss: 1.8734\n",
      "Epoch 10/30\n",
      "\u001b[1m333/333\u001b[0m \u001b[32m━━━━━━━━━━━━━━━━━━━━\u001b[0m\u001b[37m\u001b[0m \u001b[1m0s\u001b[0m 1ms/step - accuracy: 0.3129 - loss: 1.9261 - val_accuracy: 0.3615 - val_loss: 1.8658\n",
      "Epoch 11/30\n",
      "\u001b[1m333/333\u001b[0m \u001b[32m━━━━━━━━━━━━━━━━━━━━\u001b[0m\u001b[37m\u001b[0m \u001b[1m0s\u001b[0m 1ms/step - accuracy: 0.3204 - loss: 1.9212 - val_accuracy: 0.3607 - val_loss: 1.8588\n",
      "Epoch 12/30\n",
      "\u001b[1m333/333\u001b[0m \u001b[32m━━━━━━━━━━━━━━━━━━━━\u001b[0m\u001b[37m\u001b[0m \u001b[1m0s\u001b[0m 1ms/step - accuracy: 0.3199 - loss: 1.9164 - val_accuracy: 0.3673 - val_loss: 1.8506\n",
      "Epoch 13/30\n",
      "\u001b[1m333/333\u001b[0m \u001b[32m━━━━━━━━━━━━━━━━━━━━\u001b[0m\u001b[37m\u001b[0m \u001b[1m0s\u001b[0m 1ms/step - accuracy: 0.3223 - loss: 1.9101 - val_accuracy: 0.3535 - val_loss: 1.8628\n",
      "Epoch 14/30\n",
      "\u001b[1m333/333\u001b[0m \u001b[32m━━━━━━━━━━━━━━━━━━━━\u001b[0m\u001b[37m\u001b[0m \u001b[1m0s\u001b[0m 1ms/step - accuracy: 0.3251 - loss: 1.9133 - val_accuracy: 0.3683 - val_loss: 1.8462\n",
      "Epoch 15/30\n",
      "\u001b[1m333/333\u001b[0m \u001b[32m━━━━━━━━━━━━━━━━━━━━\u001b[0m\u001b[37m\u001b[0m \u001b[1m0s\u001b[0m 1ms/step - accuracy: 0.3250 - loss: 1.9068 - val_accuracy: 0.3625 - val_loss: 1.8476\n",
      "Epoch 16/30\n",
      "\u001b[1m333/333\u001b[0m \u001b[32m━━━━━━━━━━━━━━━━━━━━\u001b[0m\u001b[37m\u001b[0m \u001b[1m0s\u001b[0m 1ms/step - accuracy: 0.3206 - loss: 1.9084 - val_accuracy: 0.3683 - val_loss: 1.8388\n",
      "Epoch 17/30\n",
      "\u001b[1m333/333\u001b[0m \u001b[32m━━━━━━━━━━━━━━━━━━━━\u001b[0m\u001b[37m\u001b[0m \u001b[1m0s\u001b[0m 1ms/step - accuracy: 0.3283 - loss: 1.9007 - val_accuracy: 0.3677 - val_loss: 1.8348\n",
      "Epoch 18/30\n",
      "\u001b[1m333/333\u001b[0m \u001b[32m━━━━━━━━━━━━━━━━━━━━\u001b[0m\u001b[37m\u001b[0m \u001b[1m0s\u001b[0m 1ms/step - accuracy: 0.3334 - loss: 1.8991 - val_accuracy: 0.3669 - val_loss: 1.8365\n",
      "Epoch 19/30\n",
      "\u001b[1m333/333\u001b[0m \u001b[32m━━━━━━━━━━━━━━━━━━━━\u001b[0m\u001b[37m\u001b[0m \u001b[1m0s\u001b[0m 1ms/step - accuracy: 0.3278 - loss: 1.8955 - val_accuracy: 0.3649 - val_loss: 1.8370\n",
      "Epoch 20/30\n",
      "\u001b[1m333/333\u001b[0m \u001b[32m━━━━━━━━━━━━━━━━━━━━\u001b[0m\u001b[37m\u001b[0m \u001b[1m0s\u001b[0m 1ms/step - accuracy: 0.3243 - loss: 1.8983 - val_accuracy: 0.3620 - val_loss: 1.8341\n",
      "Epoch 21/30\n",
      "\u001b[1m333/333\u001b[0m \u001b[32m━━━━━━━━━━━━━━━━━━━━\u001b[0m\u001b[37m\u001b[0m \u001b[1m0s\u001b[0m 1ms/step - accuracy: 0.3342 - loss: 1.8962 - val_accuracy: 0.3681 - val_loss: 1.8311\n",
      "Epoch 22/30\n",
      "\u001b[1m333/333\u001b[0m \u001b[32m━━━━━━━━━━━━━━━━━━━━\u001b[0m\u001b[37m\u001b[0m \u001b[1m0s\u001b[0m 1ms/step - accuracy: 0.3289 - loss: 1.8941 - val_accuracy: 0.3735 - val_loss: 1.8246\n",
      "Epoch 23/30\n",
      "\u001b[1m333/333\u001b[0m \u001b[32m━━━━━━━━━━━━━━━━━━━━\u001b[0m\u001b[37m\u001b[0m \u001b[1m0s\u001b[0m 1ms/step - accuracy: 0.3369 - loss: 1.8877 - val_accuracy: 0.3656 - val_loss: 1.8257\n",
      "Epoch 24/30\n",
      "\u001b[1m333/333\u001b[0m \u001b[32m━━━━━━━━━━━━━━━━━━━━\u001b[0m\u001b[37m\u001b[0m \u001b[1m0s\u001b[0m 1ms/step - accuracy: 0.3377 - loss: 1.8867 - val_accuracy: 0.3751 - val_loss: 1.8196\n",
      "Epoch 25/30\n",
      "\u001b[1m333/333\u001b[0m \u001b[32m━━━━━━━━━━━━━━━━━━━━\u001b[0m\u001b[37m\u001b[0m \u001b[1m0s\u001b[0m 1ms/step - accuracy: 0.3380 - loss: 1.8878 - val_accuracy: 0.3703 - val_loss: 1.8202\n",
      "Epoch 26/30\n",
      "\u001b[1m333/333\u001b[0m \u001b[32m━━━━━━━━━━━━━━━━━━━━\u001b[0m\u001b[37m\u001b[0m \u001b[1m0s\u001b[0m 1ms/step - accuracy: 0.3325 - loss: 1.8891 - val_accuracy: 0.3683 - val_loss: 1.8263\n",
      "Epoch 27/30\n",
      "\u001b[1m333/333\u001b[0m \u001b[32m━━━━━━━━━━━━━━━━━━━━\u001b[0m\u001b[37m\u001b[0m \u001b[1m0s\u001b[0m 1ms/step - accuracy: 0.3365 - loss: 1.8886 - val_accuracy: 0.3739 - val_loss: 1.8172\n",
      "Epoch 28/30\n",
      "\u001b[1m333/333\u001b[0m \u001b[32m━━━━━━━━━━━━━━━━━━━━\u001b[0m\u001b[37m\u001b[0m \u001b[1m0s\u001b[0m 1ms/step - accuracy: 0.3373 - loss: 1.8792 - val_accuracy: 0.3724 - val_loss: 1.8171\n",
      "Epoch 29/30\n",
      "\u001b[1m333/333\u001b[0m \u001b[32m━━━━━━━━━━━━━━━━━━━━\u001b[0m\u001b[37m\u001b[0m \u001b[1m0s\u001b[0m 1ms/step - accuracy: 0.3352 - loss: 1.8821 - val_accuracy: 0.3681 - val_loss: 1.8196\n",
      "Epoch 30/30\n",
      "\u001b[1m333/333\u001b[0m \u001b[32m━━━━━━━━━━━━━━━━━━━━\u001b[0m\u001b[37m\u001b[0m \u001b[1m0s\u001b[0m 1ms/step - accuracy: 0.3371 - loss: 1.8900 - val_accuracy: 0.3688 - val_loss: 1.8150\n"
     ]
    }
   ],
   "source": [
    "student_distilled = get_student_model()\n",
    "student_distilled.compile(optimizer='adam',\n",
    "                          loss=keras.losses.CategoricalCrossentropy(),\n",
    "                          metrics=['accuracy'])\n",
    "history_distilled = student_distilled.fit(x_train_st, soft_labels, batch_size=128, \n",
    "                                          epochs=30, validation_split=0.15)"
   ]
  },
  {
   "cell_type": "code",
   "execution_count": 17,
   "id": "604b4196-95c0-457b-ada7-0e4eefc840f6",
   "metadata": {},
   "outputs": [
    {
     "data": {
      "text/plain": [
       "<matplotlib.legend.Legend at 0x7f8f6c1ff740>"
      ]
     },
     "execution_count": 17,
     "metadata": {},
     "output_type": "execute_result"
    },
    {
     "data": {
      "image/png": "[encoded data removed]",
      "text/plain": [
       "<Figure size 640x480 with 1 Axes>"
      ]
     },
     "metadata": {},
     "output_type": "display_data"
    }
   ],
   "source": [
    "plt.plot(history_student.history['accuracy'], label='Student acc')\n",
    "plt.plot(history_student.history['val_accuracy'], label='Student val_acc')\n",
    "plt.plot(history_distilled.history['accuracy'], label='Distilled student acc')\n",
    "plt.plot(history_distilled.history['val_accuracy'], label='Distilled student val_acc')\n",
    "plt.legend()"
   ]
  },
  {
   "cell_type": "markdown",
   "id": "299d40cf-f830-4aa5-966d-418ce4b64512",
   "metadata": {},
   "source": [
    "### Increasing the uncertainty of teacher labels: Temperature\n",
    "\n",
    "A non-expected issue when applying knowledge distillation is if the **Teacher model is too good**, so that is highly *convinced* of the value of each label.\n",
    " - In these cases, soft labels are very similar to hard labels.\n",
    " - This makes impossible to extract any valuable knowledge from them.\n",
    "\n",
    "A strategy to address this kind of issue is by the use of a *Temperature* parameter that softens the probability distributions at the output. This is achieved by **reducing the magnitude** of the outputs before the activation function (e.g. [`sigmoid`](https://en.wikipedia.org/wiki/Logistic_function) or `softmax`).\n",
    "\n",
    "Mathematically, given a *logits* vector ($\\mathbf{z} = (z_1, z_2, \\ldots, z_n)$) and a temperature parameter ($T$), the temperature-scaled softmax activation is defined as:\n",
    "\n",
    "$$\n",
    "\\text{softmax}_T(z_i) = \\frac{e^{z_i / T}}{\\sum_{j} e^{z_j / T}}\n",
    "$$\n",
    "\n",
    "This can be easily implemented by just adding a `Lambda` layer to perform the division before applying the `Softmax` activation.\n",
    "\n",
    "----\n",
    "\n",
    "📌 Let's see an example using the Fashion MNIST dataset:"
   ]
  },
  {
   "cell_type": "code",
   "execution_count": 18,
   "id": "47eaf0fe-4bc5-4925-af61-603cda044eec",
   "metadata": {},
   "outputs": [],
   "source": [
    "# Load the data and split it between train and test sets\n",
    "(x_train, y_train), (x_test, y_test) = keras.datasets.fashion_mnist.load_data()\n",
    "\n",
    "# Scale images to the [0, 1] range\n",
    "x_train = x_train.astype(\"float32\") / 255\n",
    "x_test = x_test.astype(\"float32\") / 255\n",
    "#Expand dimensions for compatibility with Convolutional layers\n",
    "x_train = x_train[:,:,:,None]\n",
    "x_test = x_test[:,:,:,None]\n",
    "#For the student model, we create a reduced version of the images (just 14x14px)\n",
    "resize = keras.layers.Resizing(14, 14, data_format='channels_last')\n",
    "x_train_st = resize(x_train)\n",
    "x_test_st = resize(x_test)"
   ]
  },
  {
   "cell_type": "code",
   "execution_count": 19,
   "id": "3e737f36-22b0-40b5-bf48-71a576142b7c",
   "metadata": {},
   "outputs": [],
   "source": [
    "num_classes = len(np.unique(y_train))\n",
    "#Temperature parameter for additional softening of the soft labels\n",
    "T = 1.\n",
    "input_shape_teacher = x_train[0].shape\n",
    "input_shape_student = x_train_st[0].shape\n",
    "\n",
    "def get_teacher_model():\n",
    "    return keras.Sequential(\n",
    "            [\n",
    "                keras.layers.Input(shape=input_shape_teacher),\n",
    "                keras.layers.Conv2D(64, kernel_size=(3, 3), activation=\"relu\"),\n",
    "                keras.layers.Conv2D(64, kernel_size=(3, 3), activation=\"relu\"),\n",
    "                keras.layers.MaxPooling2D(pool_size=(2, 2)),\n",
    "                keras.layers.Conv2D(128, kernel_size=(3, 3), activation=\"relu\"),\n",
    "                keras.layers.Conv2D(128, kernel_size=(3, 3), activation=\"relu\"),\n",
    "                keras.layers.GlobalAveragePooling2D(),\n",
    "                keras.layers.Dropout(0.5),\n",
    "                keras.layers.Dense(num_classes),\n",
    "                #Apply the temperature parameter\n",
    "                keras.layers.Lambda(lambda x:x/T),\n",
    "                keras.layers.Softmax()\n",
    "            ], name=\"Teacher\")\n",
    "\n",
    "def get_student_model():\n",
    "    return keras.Sequential(\n",
    "        [\n",
    "            keras.layers.Input(shape=input_shape_student),        \n",
    "            keras.layers.Conv2D(64, kernel_size=(3, 3), activation=\"relu\"),\n",
    "            keras.layers.GlobalAveragePooling2D(),\n",
    "            keras.layers.Dropout(0.5),\n",
    "            keras.layers.Dense(num_classes, activation=\"softmax\"),\n",
    "        ], name=\"Student\")"
   ]
  },
  {
   "cell_type": "code",
   "execution_count": 20,
   "id": "7eebd725-027e-4faf-a986-01c5c631781c",
   "metadata": {},
   "outputs": [
    {
     "name": "stdout",
     "output_type": "stream",
     "text": [
      "\u001b[1m313/313\u001b[0m \u001b[32m━━━━━━━━━━━━━━━━━━━━\u001b[0m\u001b[37m\u001b[0m \u001b[1m2s\u001b[0m 4ms/step - accuracy: 0.9079 - loss: 0.2610\n"
     ]
    },
    {
     "data": {
      "text/plain": [
       "[0.259818434715271, 0.9062000513076782]"
      ]
     },
     "execution_count": 20,
     "metadata": {},
     "output_type": "execute_result"
    }
   ],
   "source": [
    "#General evaluation of the teacher model.\n",
    "teacher_model = get_teacher_model()\n",
    "teacher_model.compile(optimizer='adam',\n",
    "                      loss=keras.losses.SparseCategoricalCrossentropy(),\n",
    "                      metrics=['accuracy'])\n",
    "history_teacher = teacher_model.fit(x_train, y_train, batch_size=128, \n",
    "                                    epochs=20, validation_split=0.15, verbose=0)\n",
    "teacher_model.evaluate(x_test, y_test)"
   ]
  },
  {
   "cell_type": "code",
   "execution_count": 21,
   "id": "9a2c9d3c-67d1-4dff-922f-f64c091f23df",
   "metadata": {},
   "outputs": [
    {
     "name": "stdout",
     "output_type": "stream",
     "text": [
      "\u001b[1m1875/1875\u001b[0m \u001b[32m━━━━━━━━━━━━━━━━━━━━\u001b[0m\u001b[37m\u001b[0m \u001b[1m1s\u001b[0m 502us/step\n"
     ]
    },
    {
     "name": "stderr",
     "output_type": "stream",
     "text": [
      "  0%|          | 0/5 [00:00<?, ?it/s]"
     ]
    },
    {
     "name": "stdout",
     "output_type": "stream",
     "text": [
      "\u001b[1m375/375\u001b[0m \u001b[32m━━━━━━━━━━━━━━━━━━━━\u001b[0m\u001b[37m\u001b[0m \u001b[1m0s\u001b[0m 511us/step  \n",
      "\u001b[1m375/375\u001b[0m \u001b[32m━━━━━━━━━━━━━━━━━━━━\u001b[0m\u001b[37m\u001b[0m \u001b[1m1s\u001b[0m 2ms/step - accuracy: 0.8865 - loss: 0.3142\n"
     ]
    },
    {
     "name": "stderr",
     "output_type": "stream",
     "text": [
      " 20%|██        | 1/5 [00:10<00:43, 10.94s/it]"
     ]
    },
    {
     "name": "stdout",
     "output_type": "stream",
     "text": [
      "[0.3145979642868042, 0.8866666555404663]\n",
      "\u001b[1m375/375\u001b[0m \u001b[32m━━━━━━━━━━━━━━━━━━━━\u001b[0m\u001b[37m\u001b[0m \u001b[1m0s\u001b[0m 510us/step\n",
      "\u001b[1m375/375\u001b[0m \u001b[32m━━━━━━━━━━━━━━━━━━━━\u001b[0m\u001b[37m\u001b[0m \u001b[1m1s\u001b[0m 2ms/step - accuracy: 0.8893 - loss: 0.2961\n"
     ]
    },
    {
     "name": "stderr",
     "output_type": "stream",
     "text": [
      " 40%|████      | 2/5 [00:22<00:33, 11.07s/it]"
     ]
    },
    {
     "name": "stdout",
     "output_type": "stream",
     "text": [
      "[0.29849380254745483, 0.8887500166893005]\n",
      "\u001b[1m375/375\u001b[0m \u001b[32m━━━━━━━━━━━━━━━━━━━━\u001b[0m\u001b[37m\u001b[0m \u001b[1m0s\u001b[0m 504us/step\n",
      "\u001b[1m375/375\u001b[0m \u001b[32m━━━━━━━━━━━━━━━━━━━━\u001b[0m\u001b[37m\u001b[0m \u001b[1m1s\u001b[0m 2ms/step - accuracy: 0.8892 - loss: 0.2925\n"
     ]
    },
    {
     "name": "stderr",
     "output_type": "stream",
     "text": [
      " 60%|██████    | 3/5 [00:33<00:22, 11.07s/it]"
     ]
    },
    {
     "name": "stdout",
     "output_type": "stream",
     "text": [
      "[0.29575011134147644, 0.890666663646698]\n",
      "\u001b[1m375/375\u001b[0m \u001b[32m━━━━━━━━━━━━━━━━━━━━\u001b[0m\u001b[37m\u001b[0m \u001b[1m0s\u001b[0m 540us/step  \n",
      "\u001b[1m375/375\u001b[0m \u001b[32m━━━━━━━━━━━━━━━━━━━━\u001b[0m\u001b[37m\u001b[0m \u001b[1m1s\u001b[0m 2ms/step - accuracy: 0.8940 - loss: 0.2891\n"
     ]
    },
    {
     "name": "stderr",
     "output_type": "stream",
     "text": [
      " 80%|████████  | 4/5 [00:44<00:11, 11.36s/it]"
     ]
    },
    {
     "name": "stdout",
     "output_type": "stream",
     "text": [
      "[0.2858119606971741, 0.8976666331291199]\n",
      "\u001b[1m375/375\u001b[0m \u001b[32m━━━━━━━━━━━━━━━━━━━━\u001b[0m\u001b[37m\u001b[0m \u001b[1m0s\u001b[0m 483us/step  \n",
      "\u001b[1m375/375\u001b[0m \u001b[32m━━━━━━━━━━━━━━━━━━━━\u001b[0m\u001b[37m\u001b[0m \u001b[1m1s\u001b[0m 2ms/step - accuracy: 0.8958 - loss: 0.2932\n"
     ]
    },
    {
     "name": "stderr",
     "output_type": "stream",
     "text": [
      "100%|██████████| 5/5 [00:56<00:00, 11.23s/it]"
     ]
    },
    {
     "name": "stdout",
     "output_type": "stream",
     "text": [
      "[0.29728439450263977, 0.893833339214325]\n"
     ]
    },
    {
     "name": "stderr",
     "output_type": "stream",
     "text": [
      "\n"
     ]
    },
    {
     "data": {
      "text/plain": [
       "<Axes: ylabel='Density'>"
      ]
     },
     "execution_count": 21,
     "metadata": {},
     "output_type": "execute_result"
    },
    {
     "data": {
      "image/png": "[encoded data removed]",
      "text/plain": [
       "<Figure size 640x480 with 1 Axes>"
      ]
     },
     "metadata": {},
     "output_type": "display_data"
    }
   ],
   "source": [
    "#Creation of the soft labels\n",
    "nfolds = 5\n",
    "kfold = KFold(nfolds, shuffle=True)\n",
    "soft_labels = np.zeros_like(teacher_model.predict(x_train))\n",
    "for i, (train_index, test_index) in tqdm(enumerate(kfold.split(x_train)), total=nfolds):\n",
    "    fold_x_train, fold_y_train = x_train[train_index], y_train[train_index]\n",
    "    fold_x_test, fold_y_test = x_train[test_index], y_train[test_index]\n",
    "    #We train a new teacher model for each fold\n",
    "    teacher = get_teacher_model()\n",
    "    teacher.compile(optimizer='adam',\n",
    "                    loss=keras.losses.SparseCategoricalCrossentropy(),\n",
    "                    metrics=['accuracy'])\n",
    "    teacher.fit(fold_x_train, fold_y_train, batch_size=128, epochs=10, verbose=0)\n",
    "    soft_labels[test_index] = teacher.predict(fold_x_test)\n",
    "    print(teacher.evaluate(fold_x_test, fold_y_test))\n",
    "#Visualization of soft labels distributions\n",
    "sns.kdeplot(soft_labels, fill=True)"
   ]
  },
  {
   "cell_type": "code",
   "execution_count": 22,
   "id": "0d0198d5-ab8d-480a-bbad-d9ee4d5c33ce",
   "metadata": {},
   "outputs": [],
   "source": [
    "#Training of non-distilled and distilled student models\n",
    "student_model = get_student_model()\n",
    "student_model.compile(optimizer='adam',\n",
    "                      loss=keras.losses.SparseCategoricalCrossentropy(),\n",
    "                      metrics=['accuracy'])\n",
    "history_student = student_model.fit(x_train_st, y_train, batch_size=128, \n",
    "                                    epochs=30, validation_split=0.15, verbose=0)\n",
    "\n",
    "student_distilled = get_student_model()\n",
    "student_distilled.compile(optimizer='adam',\n",
    "                          loss=keras.losses.CategoricalCrossentropy(),\n",
    "                          metrics=['accuracy'])\n",
    "history_distilled = student_distilled.fit(x_train_st, soft_labels, batch_size=128, \n",
    "                                          epochs=30, validation_split=0.15, verbose=0)"
   ]
  },
  {
   "cell_type": "code",
   "execution_count": 23,
   "id": "2c0be398-337e-43a5-9753-aeedd651523b",
   "metadata": {},
   "outputs": [
    {
     "data": {
      "text/plain": [
       "<matplotlib.legend.Legend at 0x7f904e8ec7a0>"
      ]
     },
     "execution_count": 23,
     "metadata": {},
     "output_type": "execute_result"
    },
    {
     "data": {
      "image/png": "[encoded data removed]",
      "text/plain": [
       "<Figure size 640x480 with 1 Axes>"
      ]
     },
     "metadata": {},
     "output_type": "display_data"
    }
   ],
   "source": [
    "plt.plot(history_teacher.history['accuracy'], label='Teacher acc')\n",
    "plt.plot(history_teacher.history['val_accuracy'], label='Teacher val_acc')\n",
    "plt.plot(history_student.history['accuracy'], label='Student acc')\n",
    "plt.plot(history_student.history['val_accuracy'], label='Student val_acc')\n",
    "plt.plot(history_distilled.history['accuracy'], label='Distilled student acc')\n",
    "plt.plot(history_distilled.history['val_accuracy'], label='Distilled student val_acc')\n",
    "plt.title(f'Accuracy curves for T={T}')\n",
    "plt.legend()"
   ]
  },
  {
   "cell_type": "markdown",
   "id": "9c0a0a11-c649-4cc8-9173-c576bb694d39",
   "metadata": {},
   "source": [
    "#### 📋 Exercise 3\n",
    "\n",
    " - Play with different values of the `T` parameter (e.g. in the range [1-1000000]) to see its influence on the distribution of the soft labels and on the learning performance of the student model.\n",
    " - Also, switch to the MNIST dataset (that saturates earlier than Fashion MNIST to high accuracy) and compare the behavior."
   ]
  },
  {
   "cell_type": "markdown",
   "id": "5491189a-aaf4-450b-98ec-bda7f282c44b",
   "metadata": {},
   "source": [
    "# References\n",
    " - HuggingFace: https://huggingface.co/\n",
    " - Keras guide on Transfer learning & Fine-tuning: https://keras.io/guides/transfer_learning/\n",
    " - Knowledge distillation tutorial: https://docs.pytorch.org/tutorials/beginner/knowledge_distillation_tutorial.html"
   ]
  },
  {
   "cell_type": "code",
   "execution_count": null,
   "id": "0a7a72c5-0952-40a0-b5a7-0b251e854a9b",
   "metadata": {},
   "outputs": [],
   "source": []
  }
 ],
 "metadata": {
  "kernelspec": {
   "display_name": "Python 3 (ipykernel)",
   "language": "python",
   "name": "python3"
  },
  "language_info": {
   "codemirror_mode": {
    "name": "ipython",
    "version": 3
   },
   "file_extension": ".py",
   "mimetype": "text/x-python",
   "name": "python",
   "nbconvert_exporter": "python",
   "pygments_lexer": "ipython3",
   "version": "3.12.6"
  }
 },
 "nbformat": 4,
 "nbformat_minor": 5
}
