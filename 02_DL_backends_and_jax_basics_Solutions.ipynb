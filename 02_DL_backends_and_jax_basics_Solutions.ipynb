{
 "cells": [
  {
   "cell_type": "markdown",
   "id": "2773a603-38f5-4b8d-aefd-f012a5c60f71",
   "metadata": {
    "editable": true,
    "slideshow": {
     "slide_type": "slide"
    },
    "tags": []
   },
   "source": [
    "# Session 2: Deep Learning Frameworks.\n",
    "\n",
    " - One of the main advantages of taking [Keras](https://keras.io/) as a base library for neural network development is that it provides a seamless and unified access to the main Deep Learning frameworks, namely **Tensorflow, Pytorch and JAX**:\n",
    "\n",
    "<img width=\"60%\" src=\"https://s3.amazonaws.com/keras.io/img/keras_3/cross_framework_keras_3.jpg\" />\n",
    "\n",
    "These are three popular frameworks for building and deploying machine learning models. Each has unique features and strengths catering to different needs:\n",
    "\n",
    "---\n",
    "\n",
    "|                | **TensorFlow**                                                                                      | **PyTorch**                                                                                   | **JAX**                                                                                          |\n",
    "|----------------|-----------------------------------------------------------------------------------------------------|-----------------------------------------------------------------------------------------------|--------------------------------------------------------------------------------------------------|\n",
    "| **Overview**   | - Developed by Google Brain  <br> - Highly scalable and production-ready                           | - Developed by Facebook AI Research <br> - Known for ease of use and flexibility              | - Developed by Google Research <br> - Designed for high-performance machine learning research    |\n",
    "| **Key Features** | - **Scalability and deployment:** Oriented to production environments <br> - **TensorBoard:** Powerful visualization and analysis tool <br> - **TF Lite & TF.js:** Deploy on mobile and web | - **Dynamic Computation Graphs:** More intuitive debugging <br> - **TorchScript:** Transition from research to production <br> - **Strong Community Support:** Numerous pre-trained models | - **Automatic Differentiation:** Efficient gradient computations <br> - **JIT Compilation:** Accelerate code using XLA <br> - **Seamless GPU/TPU Integration** |\n",
    "| **Pros & Cons** | - **Pros:** Robust for large-scale applications <br> - **Cons:** Can be complex for beginners     | - **Pros:** Easy to learn; great for research <br> - **Cons:** Can be less optimized for production | - **Pros:** Extremely fast for numerical computations <br> - **Cons:** Smaller ecosystem compared to TF and PyTorch |"
   ]
  },
  {
   "cell_type": "markdown",
   "id": "982e34f5-ae55-44de-8029-2899ff822f4a",
   "metadata": {
    "editable": true,
    "slideshow": {
     "slide_type": "subslide"
    },
    "tags": []
   },
   "source": [
    "## How to choose a framework\n",
    "\n",
    " - In **80% of the cases**, the Keras API will be sufficient for not requiring any other framework-specific functionality. This allows you to change the backend at any time, just picking the one performing best.\n",
    " - Whenever you need **changing low-level details** of the code, the main question you should made is about which specific functionality you need:\n",
    "   - Advanced automatic differentiation, high performance code: **JAX**.\n",
    "   - Deployment on microcontrollers (TF Lite), web (TF.js), or requiring advanced visualization (TensorBoard): **Tensorflow**.\n",
    "   - Easy debugging, integration of arbitrary Python code: **PyTorch**.\n",
    "  \n",
    "In this course, we will focus on **JAX** as our target low-level framework. Reasons:\n",
    " - **Steeper learning curve**, so better to start in a guided way. You can easily learn later PyTorch and Tensorflow in a self-taught way.\n",
    " - Is the most **mathematically elegant** framework, and better adapted for coding mathematical formulations.\n",
    " - Even if it has the smaller community, it has the **strongest momentum** among all ML frameworks."
   ]
  },
  {
   "cell_type": "markdown",
   "id": "6915ca9f",
   "metadata": {
    "editable": true,
    "slideshow": {
     "slide_type": "slide"
    },
    "tags": []
   },
   "source": [
    "# Crash Course on JAX\n",
    "\n",
    "## 1. JAX: What and why?\n",
    "[JAX](https://jax.readthedocs.io) is a **Python library for gradient-based Machine Learning research** developed by Google:\n",
    " - It allows in a straightforward way a very fine-grained control of model definition, training, and debugging.\n",
    " - Extremely fast, automatically manages parallelization and load distribution among CPUs, GPUs and TPUs. \n",
    " - Designed from a [functional programming](https://en.wikipedia.org/wiki/Functional_programming) perspective.\n",
    "     - JAX implementations are closer to their mathematical definition than in other frameworks.\n",
    " - **Especially convenient for early stages of ML development**\n",
    "     - Perform experiments very quickly and with a full control of every element in the pipeline (data partitioning, loss functions, gradients, optimization...).\n",
    "     - Basic models can then be easily scaled to state-of-the-art sizes in terms of number of parameters, dataset volume, etc."
   ]
  },
  {
   "cell_type": "markdown",
   "id": "46f26988",
   "metadata": {
    "editable": true,
    "slideshow": {
     "slide_type": "slide"
    },
    "tags": []
   },
   "source": [
    "## 2. JAX: The fundamentals\n",
    "\n",
    "### What is Functional Programming?\n",
    "- A programming paradigm focused on **mathematical functions**.\n",
    "- Emphasizes **immutable data** and **pure functions**.\n",
    "- Treats programs as the **composition of functions**.\n",
    "\n",
    "#### Key Concepts\n",
    "- **Immutability**: Data cannot be modified after it's created.\n",
    "- **First-Class Functions**: Functions are first-class citizens, meaning they can be assigned to variables, passed as arguments, and returned from other functions.\n",
    "\n",
    "#### Core Principles\n",
    "\n",
    " - **Pure Functions**\n",
    "     - A function where the output is determined only by its input values.\n",
    "     - No side effects (does not alter any state or data outside its scope).\n",
    " - **Higher-Order Functions**\n",
    "     - Functions that take other functions as arguments or return them as results.\n",
    "     - Enables powerful abstractions like `grad`, `jit`, and `vmap`."
   ]
  },
  {
   "cell_type": "markdown",
   "id": "a5a4c15f-4b26-4fd0-be2d-49170db0c2ea",
   "metadata": {
    "editable": true,
    "slideshow": {
     "slide_type": "subslide"
    },
    "tags": []
   },
   "source": [
    "### The JAX API\n",
    "\n",
    "From an API point of view, JAX is basically equivalent to `numpy`. All functions in `jax.numpy` have the same signature and behavior as their counterpart in `numpy`, but they are adapted to support the three basic features of the JAX framework:\n",
    "\n",
    " 1. **Automatic differentiation.**\n",
    " 2. **Just-in-Time compilation.**\n",
    " 3. **Automatic vectorization.**\n",
    " \n",
    "Below we show how to use each of these features, their practical limitations, and how advanced optimization is built on top of them. Let's start with the basic setup and imports."
   ]
  },
  {
   "cell_type": "code",
   "execution_count": 2,
   "id": "3dc567c2",
   "metadata": {
    "editable": true,
    "slideshow": {
     "slide_type": ""
    },
    "tags": []
   },
   "outputs": [],
   "source": [
    "#JAX imports\n",
    "import os\n",
    "os.environ['JAX_PLATFORMS'] = 'cpu' #Restrict CPU usage\n",
    "import jax\n",
    "import jax.numpy as jnp\n",
    "\n",
    "#Additional regular imports\n",
    "import numpy as np\n",
    "import matplotlib.pyplot as plt\n",
    "#Figure settings to avoid super large plots\n",
    "plt.rcParams['figure.figsize'] = (10, 6)\n",
    "plt.rcParams['figure.dpi'] = 90"
   ]
  },
  {
   "cell_type": "markdown",
   "id": "70f5c722",
   "metadata": {
    "editable": true,
    "slideshow": {
     "slide_type": "subslide"
    },
    "tags": []
   },
   "source": [
    "### 2.1 Working with automatic differentiation\n",
    "\n",
    " - Jax is the continuation of the [Autograd](https://github.com/hips/autograd) library.\n",
    " - Can automatically differentiate almost any Python and NumPy code you may have.\n",
    " - Supports conditionals, loops, recursion and closures, and can calculate higher-order derivatives. Both **reverse-mode and forward-mode differentiation** are implemented.\n",
    "\n",
    "Two basic functions for automatic differentiation: [`jax.grad()`](https://docs.jax.dev/en/latest/_autosummary/jax.grad.html) and [`jax.value_and_grad()`](https://docs.jax.dev/en/latest/_autosummary/jax.value_and_grad.html):\n",
    " - Both receive a function and **return another function**.\n",
    "\n",
    "Let's start with a basic example:"
   ]
  },
  {
   "cell_type": "code",
   "execution_count": 6,
   "id": "a25cfa19",
   "metadata": {
    "editable": true,
    "slideshow": {
     "slide_type": ""
    },
    "tags": []
   },
   "outputs": [
    {
     "name": "stdout",
     "output_type": "stream",
     "text": [
      "Gradient of f at (2,2): 1.0\n"
     ]
    }
   ],
   "source": [
    "def f(x, y):\n",
    "    return x+y**2\n",
    "\n",
    "df = jax.grad(f)\n",
    "\n",
    "print(f\"Gradient of f at (2,2): {df(2., 2.)}\")"
   ]
  },
  {
   "cell_type": "markdown",
   "id": "f9f0803c",
   "metadata": {
    "editable": true,
    "slideshow": {
     "slide_type": ""
    },
    "tags": []
   },
   "source": [
    "🤔 The result is a bit surprising, since the function `f` has two input variables, and thus we would expect a 2-value gradient vector. \n",
    " - By default, `grad()` only evaluates the **gradient with respect to the first argument**.\n",
    " - If we want to differentiate with respect to more arguments, we need to modify the `argnums` parameter:"
   ]
  },
  {
   "cell_type": "code",
   "execution_count": 7,
   "id": "5211e0d1",
   "metadata": {
    "editable": true,
    "slideshow": {
     "slide_type": ""
    },
    "tags": []
   },
   "outputs": [
    {
     "name": "stdout",
     "output_type": "stream",
     "text": [
      "Gradient of f with respect to y at (2,2): 4.0\n",
      "Gradient of f with respect to x and y at (2,2): [1. 4.]\n"
     ]
    }
   ],
   "source": [
    "dfy = jax.grad(f, 1)\n",
    "dfxy = jax.grad(f, (0, 1))\n",
    "\n",
    "print(f\"Gradient of f with respect to y at (2,2): {dfy(2., 2.)}\")\n",
    "print(f\"Gradient of f with respect to x and y at (2,2): {np.array(dfxy(2., 2.))}\")"
   ]
  },
  {
   "cell_type": "markdown",
   "id": "184acf57",
   "metadata": {
    "editable": true,
    "slideshow": {
     "slide_type": "subslide"
    },
    "tags": []
   },
   "source": [
    "`jax.grad()` is flexible enough to support very complex and entangled Python constructs:"
   ]
  },
  {
   "cell_type": "code",
   "execution_count": 8,
   "id": "27d9a3c9",
   "metadata": {
    "editable": true,
    "slideshow": {
     "slide_type": ""
    },
    "tags": []
   },
   "outputs": [
    {
     "data": {
      "image/png": "[encoded data removed]",
      "text/plain": [
       "<Figure size 900x540 with 1 Axes>"
      ]
     },
     "metadata": {},
     "output_type": "display_data"
    },
    {
     "data": {
      "image/png": "[encoded data removed]",
      "text/plain": [
       "<Figure size 900x540 with 1 Axes>"
      ]
     },
     "metadata": {},
     "output_type": "display_data"
    }
   ],
   "source": [
    "def f_tangled(x):\n",
    "    if 0 <= x <= 1:\n",
    "        if x < 0.1:\n",
    "            return 2*x\n",
    "        if x < 0.3:\n",
    "            return 0.2225-(x-0.25)**2\n",
    "        for i in range(2):\n",
    "            if (x-0.3)//0.1 == i:\n",
    "                return 0.165 if i==0 else f_tangled(x-0.1)-0.055\n",
    "        if x < 0.7:\n",
    "            x = 0.5+(x-0.5)*1.4412477\n",
    "            return 0.2+jnp.log(1-x)/7.75\n",
    "        return jax.scipy.stats.multivariate_normal.pdf(x, 0.85, 0.001)/60\n",
    "    return 0\n",
    "\n",
    "X = np.linspace(0, 1, 2000)\n",
    "plt.plot(X, [f_tangled(x) for x in X])\n",
    "plt.grid()\n",
    "plt.figure()\n",
    "df_tangled = jax.grad(f_tangled)\n",
    "plt.plot(X, [df_tangled(x) for x in X])\n",
    "plt.grid()"
   ]
  },
  {
   "cell_type": "markdown",
   "id": "5ecf433e-b64f-4082-81be-a1d99f355773",
   "metadata": {
    "editable": true,
    "slideshow": {
     "slide_type": ""
    },
    "tags": []
   },
   "source": [
    "By convention, in Jax the functions to be differentiated (typically loss functions) declare a **first argument which groups all the parameters involved in gradient calculation**, and for the rest of the arguments the gradients are not calculated (e.g., the true labels of a mini-batch). \n",
    " - This first argument is usually a `jax.numpy` array or a dictionary of named arrays. This is illustrated below in section 3."
   ]
  },
  {
   "cell_type": "markdown",
   "id": "747e442e",
   "metadata": {
    "editable": true,
    "slideshow": {
     "slide_type": "subslide"
    },
    "tags": []
   },
   "source": [
    "### 2.2 Just-in-Time Compilation\n",
    "\n",
    "The second pillar that makes JAX such a convenient tool for ML model development is the just-in-time compilation of code for multiple devices (CPU, GPU, TPU). \n",
    " - The main entry point to this functionality is `jax.jit()`, that can be used both as a function or as a decorator `@jax.jit`.\n",
    " \n",
    "Let's run a basic example with a function that computes the Euclidean pairwise distances on an N-dimensional dataset with M samples:"
   ]
  },
  {
   "cell_type": "code",
   "execution_count": 9,
   "id": "fc9162ea",
   "metadata": {
    "editable": true,
    "slideshow": {
     "slide_type": ""
    },
    "tags": []
   },
   "outputs": [
    {
     "data": {
      "text/plain": [
       "True"
      ]
     },
     "execution_count": 9,
     "metadata": {},
     "output_type": "execute_result"
    }
   ],
   "source": [
    "def pairwise_distances(X):\n",
    "    M = X.shape[0]\n",
    "    N = X.shape[1]\n",
    "    D = jnp.empty((M, M))\n",
    "    for i in range(M):\n",
    "        for j in range(M):\n",
    "            d = 0.0\n",
    "            for k in range(N):\n",
    "                tmp = X[i, k] - X[j, k]\n",
    "                d += tmp * tmp\n",
    "            D = D.at[i, j].set(jnp.sqrt(d))\n",
    "    return D\n",
    "\n",
    "pw_distances_compiled = jax.jit(pairwise_distances)\n",
    "\n",
    "#Basic check to ensure that the result is the same in both functions\n",
    "X = np.array([[0, 1], [1, 0], [2, 0]])\n",
    "np.allclose(pairwise_distances(X), pw_distances_compiled(X), atol=1e-6)"
   ]
  },
  {
   "cell_type": "markdown",
   "id": "18b4de5d",
   "metadata": {
    "editable": true,
    "slideshow": {
     "slide_type": ""
    },
    "tags": []
   },
   "source": [
    "We check how faster the compiled version can be:"
   ]
  },
  {
   "cell_type": "code",
   "execution_count": 10,
   "id": "d660b9ae",
   "metadata": {
    "editable": true,
    "slideshow": {
     "slide_type": ""
    },
    "tags": []
   },
   "outputs": [
    {
     "name": "stdout",
     "output_type": "stream",
     "text": [
      "2.5 ms ± 30.5 µs per loop (mean ± std. dev. of 7 runs, 100 loops each)\n",
      "6.21 µs ± 65.8 ns per loop (mean ± std. dev. of 7 runs, 100,000 loops each)\n"
     ]
    }
   ],
   "source": [
    "%timeit pairwise_distances(X)\n",
    "%timeit pw_distances_compiled(X)"
   ]
  },
  {
   "cell_type": "markdown",
   "id": "c45b892b",
   "metadata": {
    "editable": true,
    "slideshow": {
     "slide_type": "subslide"
    },
    "tags": []
   },
   "source": [
    "However, this amazing speedup **does not come for free**. While being as easy to use as `jax.grad()`, `jax.jit()` imposes several **constraints** in order to optimize our code as much as possible. The following table summarizes which Python constructs we can use safely in our functions, and which ones we should be careful about:\n",
    "\n",
    "\\begin{split}\n",
    "\\begin{array} {r|rr} \n",
    "\\hline \\\n",
    "\\textrm{construct} \n",
    "& \\textrm{jit} \n",
    "& \\textrm{grad} \\\\\n",
    "\\hline \\\n",
    "\\textrm{if} & ❌ & ✔ \\\\\n",
    "\\textrm{for} & ✔* & ✔\\\\\n",
    "\\textrm{while} & ✔* & ✔\\\\\n",
    "\\textrm{lax.cond} & ✔ & ✔\\\\\n",
    "\\textrm{lax.while\\_loop} & ✔ & \\textrm{fwd}\\\\\n",
    "\\textrm{lax.fori\\_loop} & ✔ & \\textrm{fwd}\\\\\n",
    "\\textrm{lax.scan} & ✔ & ✔\\\\\n",
    "\\hline\n",
    "\\end{array}\n",
    "\\end{split}\n",
    "$\\ast=$ argument-**value**-independent loop condition - unrolls the loop\n",
    "\n",
    " - Classical control flow constructs (**if**, **for** and **while**) can be troublesome for `jit` compilation.\n",
    "     -  Jax provides some functional alternatives in the `jax.lax` package.\n",
    "   \n",
    "💡 As a functional framework, the rule of thumb would when programming in Jax is:\n",
    "\n",
    " - *Avoid any control flow in your code, and just write it as a sequence of calls to `jax.*` functions.*"
   ]
  },
  {
   "cell_type": "markdown",
   "id": "67dbe5f2-e546-4290-b927-ae3436452b56",
   "metadata": {
    "editable": true,
    "slideshow": {
     "slide_type": "subslide"
    },
    "tags": []
   },
   "source": [
    "### Why do these constraints exist?\n",
    "\n",
    "When executing eagerly (outside of `jit`), Jax code works with Python control flow and logical operators just like Numpy code. But using control flow and logical operators with `jit` is more complicated. \n",
    "\n",
    "The JIT transformation is fundamentally different to `grad` or `vmap`:\n",
    " - The resulting functions **are no longer Python functions**.\n",
    " - Each function is converted into a sequence of `primitive` operations, each representing one fundamental unit of computation, in an intermediate language called [`jaxpr`](https://docs.jax.dev/en/latest/jaxpr.html#jax-internals-jaxpr).\n",
    "\n",
    "One way to see the sequence of primitives behind a function is using `jax.make_jaxpr`:"
   ]
  },
  {
   "cell_type": "code",
   "execution_count": 11,
   "id": "5c80179f-57e4-4408-aeef-91a9b4e95806",
   "metadata": {
    "editable": true,
    "slideshow": {
     "slide_type": ""
    },
    "tags": []
   },
   "outputs": [
    {
     "name": "stdout",
     "output_type": "stream",
     "text": [
      "{ \u001b[34m\u001b[22m\u001b[1mlambda \u001b[39m\u001b[22m\u001b[22m; a\u001b[35m:f32[]\u001b[39m. \u001b[34m\u001b[22m\u001b[1mlet\n",
      "    \u001b[39m\u001b[22m\u001b[22mb\u001b[35m:f32[]\u001b[39m = log a\n",
      "    c\u001b[35m:f32[]\u001b[39m = log 2.0\n",
      "    d\u001b[35m:f32[]\u001b[39m = div b c\n",
      "  \u001b[34m\u001b[22m\u001b[1min \u001b[39m\u001b[22m\u001b[22m(d,) }\n"
     ]
    }
   ],
   "source": [
    "global_list = []\n",
    "\n",
    "def log2(x):\n",
    "  global_list.append(x)\n",
    "  ln_x = jnp.log(x)\n",
    "  ln_2 = jnp.log(2.0)\n",
    "  return ln_x / ln_2\n",
    "\n",
    "print(jax.make_jaxpr(log2)(3.0))"
   ]
  },
  {
   "cell_type": "markdown",
   "id": "a6a34549-af4a-423a-ac49-2e953a88d811",
   "metadata": {
    "editable": true,
    "slideshow": {
     "slide_type": "subslide"
    },
    "tags": []
   },
   "source": [
    "In a nutshell:\n",
    " - Python control flow and logical operators are evaluated at JIT compile time and translated into `jaxpr`.\n",
    " - The compiled function represents **a single path** through the [control flow graph](https://en.wikipedia.org/wiki/Control-flow_graph) (logical operators affect the path via short-circuiting).\n",
    " - If the path depends on the values of the inputs, the function (by default) cannot be JIT compiled.\n",
    " - The path may depend on the shape or dtype of the inputs, and **the function is re-compiled every time it is called on an input with a new shape or dtype.**\n",
    "\n",
    "For example, this works:"
   ]
  },
  {
   "cell_type": "code",
   "execution_count": 24,
   "id": "5ea06316-183d-47ff-9912-db7cb041ca69",
   "metadata": {
    "editable": true,
    "slideshow": {
     "slide_type": ""
    },
    "tags": []
   },
   "outputs": [
    {
     "name": "stdout",
     "output_type": "stream",
     "text": [
      "24\n"
     ]
    }
   ],
   "source": [
    "@jax.jit\n",
    "def f(x):\n",
    "  for i in range(3):\n",
    "    x = 2 * x\n",
    "  return x\n",
    "\n",
    "print(f(3))"
   ]
  },
  {
   "cell_type": "markdown",
   "id": "41434d3f-a222-4d14-9a9a-2293451b451f",
   "metadata": {
    "editable": true,
    "slideshow": {
     "slide_type": ""
    },
    "tags": []
   },
   "source": [
    "So does this:"
   ]
  },
  {
   "cell_type": "code",
   "execution_count": 25,
   "id": "2ea5428f-a7f5-40f9-8447-8fc31b7caaa6",
   "metadata": {
    "editable": true,
    "slideshow": {
     "slide_type": ""
    },
    "tags": []
   },
   "outputs": [
    {
     "name": "stdout",
     "output_type": "stream",
     "text": [
      "6.0\n"
     ]
    }
   ],
   "source": [
    "@jax.jit\n",
    "def g(x):\n",
    "  y = 0.\n",
    "  for i in range(x.shape[0]):\n",
    "    y = y + x[i]\n",
    "  return y\n",
    "\n",
    "print(g(jnp.array([1., 2., 3.])))"
   ]
  },
  {
   "cell_type": "markdown",
   "id": "8a4a4f1e-fcae-4c93-bc8f-a01130c821ba",
   "metadata": {
    "editable": true,
    "slideshow": {
     "slide_type": "subslide"
    },
    "tags": []
   },
   "source": [
    "But this doesn't, at least by default:"
   ]
  },
  {
   "cell_type": "code",
   "execution_count": 17,
   "id": "3c0fd635-f4fc-4b38-8a4e-dc486296697f",
   "metadata": {
    "editable": true,
    "slideshow": {
     "slide_type": ""
    },
    "tags": []
   },
   "outputs": [
    {
     "ename": "TracerBoolConversionError",
     "evalue": "Attempted boolean conversion of traced array with shape bool[].\nThe error occurred while tracing the function f at /tmp/ipykernel_5316/3967699706.py:1 for jit. This concrete value was not available in Python because it depends on the value of the argument x.\nSee https://docs.jax.dev/en/latest/errors.html#jax.errors.TracerBoolConversionError",
     "output_type": "error",
     "traceback": [
      "\u001b[0;31m---------------------------------------------------------------------------\u001b[0m",
      "\u001b[0;31mTracerBoolConversionError\u001b[0m                 Traceback (most recent call last)",
      "Cell \u001b[0;32mIn[17], line 9\u001b[0m\n\u001b[1;32m      6\u001b[0m     \u001b[38;5;28;01mreturn\u001b[39;00m \u001b[38;5;241m-\u001b[39m\u001b[38;5;241m4\u001b[39m \u001b[38;5;241m*\u001b[39m x\n\u001b[1;32m      8\u001b[0m \u001b[38;5;66;03m# This will fail!\u001b[39;00m\n\u001b[0;32m----> 9\u001b[0m \u001b[43mf\u001b[49m\u001b[43m(\u001b[49m\u001b[38;5;241;43m2\u001b[39;49m\u001b[43m)\u001b[49m\n",
      "    \u001b[0;31m[... skipping hidden 14 frame]\u001b[0m\n",
      "Cell \u001b[0;32mIn[17], line 3\u001b[0m, in \u001b[0;36mf\u001b[0;34m(x)\u001b[0m\n\u001b[1;32m      1\u001b[0m \u001b[38;5;129m@jax\u001b[39m\u001b[38;5;241m.\u001b[39mjit\n\u001b[1;32m      2\u001b[0m \u001b[38;5;28;01mdef\u001b[39;00m \u001b[38;5;21mf\u001b[39m(x):\n\u001b[0;32m----> 3\u001b[0m   \u001b[38;5;28;01mif\u001b[39;00m x \u001b[38;5;241m<\u001b[39m \u001b[38;5;241m3\u001b[39m:\n\u001b[1;32m      4\u001b[0m     \u001b[38;5;28;01mreturn\u001b[39;00m \u001b[38;5;241m3.\u001b[39m \u001b[38;5;241m*\u001b[39m x \u001b[38;5;241m*\u001b[39m\u001b[38;5;241m*\u001b[39m \u001b[38;5;241m2\u001b[39m\n\u001b[1;32m      5\u001b[0m   \u001b[38;5;28;01melse\u001b[39;00m:\n",
      "    \u001b[0;31m[... skipping hidden 1 frame]\u001b[0m\n",
      "File \u001b[0;32m~/software/miniconda/envs/py3/lib/python3.12/site-packages/jax/_src/core.py:1587\u001b[0m, in \u001b[0;36mconcretization_function_error.<locals>.error\u001b[0;34m(self, arg)\u001b[0m\n\u001b[1;32m   1586\u001b[0m \u001b[38;5;28;01mdef\u001b[39;00m \u001b[38;5;21merror\u001b[39m(\u001b[38;5;28mself\u001b[39m, arg):\n\u001b[0;32m-> 1587\u001b[0m   \u001b[38;5;28;01mraise\u001b[39;00m TracerBoolConversionError(arg)\n",
      "\u001b[0;31mTracerBoolConversionError\u001b[0m: Attempted boolean conversion of traced array with shape bool[].\nThe error occurred while tracing the function f at /tmp/ipykernel_5316/3967699706.py:1 for jit. This concrete value was not available in Python because it depends on the value of the argument x.\nSee https://docs.jax.dev/en/latest/errors.html#jax.errors.TracerBoolConversionError"
     ]
    }
   ],
   "source": [
    "@jax.jit\n",
    "def f(x):\n",
    "  if x < 3:\n",
    "    return 3. * x ** 2\n",
    "  else:\n",
    "    return -4 * x\n",
    "\n",
    "# This will fail!\n",
    "f(2)"
   ]
  },
  {
   "cell_type": "markdown",
   "id": "44a00023-12e5-4841-b4aa-6635f3382dbe",
   "metadata": {
    "editable": true,
    "slideshow": {
     "slide_type": "subslide"
    },
    "tags": []
   },
   "source": [
    "Neither does this:"
   ]
  },
  {
   "cell_type": "code",
   "execution_count": 18,
   "id": "96902e6e-c174-4b87-8403-3853a09602f3",
   "metadata": {
    "editable": true,
    "slideshow": {
     "slide_type": ""
    },
    "tags": []
   },
   "outputs": [
    {
     "ename": "TracerBoolConversionError",
     "evalue": "Attempted boolean conversion of traced array with shape bool[].\nThe error occurred while tracing the function g at /tmp/ipykernel_5316/3483164813.py:1 for jit. This concrete value was not available in Python because it depends on the value of the argument x.\nSee https://docs.jax.dev/en/latest/errors.html#jax.errors.TracerBoolConversionError",
     "output_type": "error",
     "traceback": [
      "\u001b[0;31m---------------------------------------------------------------------------\u001b[0m",
      "\u001b[0;31mTracerBoolConversionError\u001b[0m                 Traceback (most recent call last)",
      "Cell \u001b[0;32mIn[18], line 6\u001b[0m\n\u001b[1;32m      3\u001b[0m   \u001b[38;5;28;01mreturn\u001b[39;00m (x \u001b[38;5;241m>\u001b[39m \u001b[38;5;241m0\u001b[39m) \u001b[38;5;129;01mand\u001b[39;00m (x \u001b[38;5;241m<\u001b[39m \u001b[38;5;241m3\u001b[39m)\n\u001b[1;32m      5\u001b[0m \u001b[38;5;66;03m# This will fail!\u001b[39;00m\n\u001b[0;32m----> 6\u001b[0m \u001b[43mg\u001b[49m\u001b[43m(\u001b[49m\u001b[38;5;241;43m2\u001b[39;49m\u001b[43m)\u001b[49m\n",
      "    \u001b[0;31m[... skipping hidden 14 frame]\u001b[0m\n",
      "Cell \u001b[0;32mIn[18], line 3\u001b[0m, in \u001b[0;36mg\u001b[0;34m(x)\u001b[0m\n\u001b[1;32m      1\u001b[0m \u001b[38;5;129m@jax\u001b[39m\u001b[38;5;241m.\u001b[39mjit\n\u001b[1;32m      2\u001b[0m \u001b[38;5;28;01mdef\u001b[39;00m \u001b[38;5;21mg\u001b[39m(x):\n\u001b[0;32m----> 3\u001b[0m   \u001b[38;5;28;01mreturn\u001b[39;00m \u001b[43m(\u001b[49m\u001b[43mx\u001b[49m\u001b[43m \u001b[49m\u001b[38;5;241;43m>\u001b[39;49m\u001b[43m \u001b[49m\u001b[38;5;241;43m0\u001b[39;49m\u001b[43m)\u001b[49m\u001b[43m \u001b[49m\u001b[38;5;129;43;01mand\u001b[39;49;00m\u001b[43m \u001b[49m\u001b[43m(\u001b[49m\u001b[43mx\u001b[49m\u001b[43m \u001b[49m\u001b[38;5;241;43m<\u001b[39;49m\u001b[43m \u001b[49m\u001b[38;5;241;43m3\u001b[39;49m\u001b[43m)\u001b[49m\n",
      "    \u001b[0;31m[... skipping hidden 1 frame]\u001b[0m\n",
      "File \u001b[0;32m~/software/miniconda/envs/py3/lib/python3.12/site-packages/jax/_src/core.py:1587\u001b[0m, in \u001b[0;36mconcretization_function_error.<locals>.error\u001b[0;34m(self, arg)\u001b[0m\n\u001b[1;32m   1586\u001b[0m \u001b[38;5;28;01mdef\u001b[39;00m \u001b[38;5;21merror\u001b[39m(\u001b[38;5;28mself\u001b[39m, arg):\n\u001b[0;32m-> 1587\u001b[0m   \u001b[38;5;28;01mraise\u001b[39;00m TracerBoolConversionError(arg)\n",
      "\u001b[0;31mTracerBoolConversionError\u001b[0m: Attempted boolean conversion of traced array with shape bool[].\nThe error occurred while tracing the function g at /tmp/ipykernel_5316/3483164813.py:1 for jit. This concrete value was not available in Python because it depends on the value of the argument x.\nSee https://docs.jax.dev/en/latest/errors.html#jax.errors.TracerBoolConversionError"
     ]
    }
   ],
   "source": [
    "@jax.jit\n",
    "def g(x):\n",
    "  return (x > 0) and (x < 3)\n",
    "\n",
    "# This will fail!\n",
    "g(2)"
   ]
  },
  {
   "cell_type": "markdown",
   "id": "6d91004f-6e47-4f12-ab32-f46b5ab7092c",
   "metadata": {
    "editable": true,
    "slideshow": {
     "slide_type": "subslide"
    },
    "tags": []
   },
   "source": [
    "When we `jit`-compile a function, we usually want to compile a version of the function that works for many different argument values, so that we can reuse the compiled code.\n",
    "\n",
    "For example, if we evaluate an `@jit` function on the array `jnp.array([1., 2., 3.], jnp.float32)`, we want to compile code that we can reuse to evaluate the function on `jnp.array([4., 5., 6.], jnp.float32)`.\n",
    "\n",
    "To get a view of your Python code that is valid for many different argument values, **JAX traces it with the `ShapedArray` abstraction as input**.\n",
    " - Each abstract value represents the set of all array values with a fixed shape and dtype.\n",
    "\n",
    "For example, if we trace using the abstract value `ShapedArray((3,), jnp.float32)`, we get a view of the function that can be reused for any array with 3 elements in 1 dimension.\n",
    "\n",
    "But there's a tradeoff here: if we trace a Python function on a `ShapedArray((), jnp.float32)` that isn't committed to a specific concrete value, when we hit a line like `if x < 3`, the expression `x < 3` evaluates to an abstract `ShapedArray((), jnp.bool_)` that represents the set `{True, False}`. When Python attempts to coerce that to a concrete `True` or `False`, we get an error: we don't know which branch to take, and can't continue tracing!\n",
    "\n",
    "Good news: You can control this tradeoff to a certain extent:\n",
    " - Using the `static_argnames` (or `static_argnums`) argument to `jit`, we can specify to trace on concrete values of some arguments. Here's that example function again:"
   ]
  },
  {
   "cell_type": "code",
   "execution_count": 26,
   "id": "41e5aeea-bb65-4d7d-8652-83992b8794dc",
   "metadata": {
    "editable": true,
    "slideshow": {
     "slide_type": ""
    },
    "tags": []
   },
   "outputs": [
    {
     "name": "stdout",
     "output_type": "stream",
     "text": [
      "12.0\n"
     ]
    }
   ],
   "source": [
    "def f(x):\n",
    "  if x < 3:\n",
    "    return 3. * x ** 2\n",
    "  else:\n",
    "    return -4 * x\n",
    "\n",
    "f = jax.jit(f, static_argnames='x')\n",
    "\n",
    "print(f(2.))"
   ]
  },
  {
   "cell_type": "markdown",
   "id": "80bd5c05-2646-44d7-901d-22f31e642cc6",
   "metadata": {
    "editable": true,
    "slideshow": {
     "slide_type": "subslide"
    },
    "tags": []
   },
   "source": [
    "Here's another example, this time involving a loop:"
   ]
  },
  {
   "cell_type": "code",
   "execution_count": 27,
   "id": "68d0f3d4-7a58-403b-99ed-ed0adc833fd7",
   "metadata": {
    "editable": true,
    "slideshow": {
     "slide_type": ""
    },
    "tags": []
   },
   "outputs": [
    {
     "data": {
      "text/plain": [
       "Array(5., dtype=float32)"
      ]
     },
     "execution_count": 27,
     "metadata": {},
     "output_type": "execute_result"
    }
   ],
   "source": [
    "def f(x, n):\n",
    "  y = 0.\n",
    "  for i in range(n):\n",
    "    y = y + x[i]\n",
    "  return y\n",
    "\n",
    "f = jax.jit(f, static_argnames='n')\n",
    "\n",
    "f(jnp.array([2., 3., 4.]), 2)"
   ]
  },
  {
   "cell_type": "markdown",
   "id": "45e8afc6-407f-4395-a9c9-9454f5c1aa0d",
   "metadata": {},
   "source": [
    "In effect, the loop gets statically unrolled."
   ]
  },
  {
   "cell_type": "markdown",
   "id": "e2b51a90-a776-4fce-8667-df7bd17572bd",
   "metadata": {
    "editable": true,
    "slideshow": {
     "slide_type": "subslide"
    },
    "tags": []
   },
   "source": [
    "️⚠️ **functions with argument-__value__ dependent shapes**\n",
    "\n",
    "These control-flow issues also come up in a more subtle way: numerical functions we want to __jit__ can't specialize the shapes of internal arrays on argument _values_ (specializing on argument __shapes__ is ok).  As a trivial example, let's make a function whose output happens to depend on the input variable `length`."
   ]
  },
  {
   "cell_type": "code",
   "execution_count": 28,
   "id": "830cc27a-8a8d-4f60-b6c7-9acaa4d52c44",
   "metadata": {
    "editable": true,
    "slideshow": {
     "slide_type": ""
    },
    "tags": []
   },
   "outputs": [
    {
     "name": "stdout",
     "output_type": "stream",
     "text": [
      "[4. 4. 4. 4. 4.]\n"
     ]
    },
    {
     "ename": "TypeError",
     "evalue": "Shapes must be 1D sequences of concrete values of integer type, got (Traced<ShapedArray(int32[], weak_type=True)>with<DynamicJaxprTrace>,).\nIf using `jit`, try using `static_argnums` or applying `jit` to smaller subfunctions.\nThe error occurred while tracing the function example_fun at /tmp/ipykernel_5316/921785482.py:1 for jit. This concrete value was not available in Python because it depends on the value of the argument length.",
     "output_type": "error",
     "traceback": [
      "\u001b[0;31m---------------------------------------------------------------------------\u001b[0m",
      "\u001b[0;31mTypeError\u001b[0m                                 Traceback (most recent call last)",
      "Cell \u001b[0;32mIn[28], line 8\u001b[0m\n\u001b[1;32m      6\u001b[0m bad_example_jit \u001b[38;5;241m=\u001b[39m jax\u001b[38;5;241m.\u001b[39mjit(example_fun)\n\u001b[1;32m      7\u001b[0m \u001b[38;5;66;03m# this will fail:\u001b[39;00m\n\u001b[0;32m----> 8\u001b[0m \u001b[43mbad_example_jit\u001b[49m\u001b[43m(\u001b[49m\u001b[38;5;241;43m10\u001b[39;49m\u001b[43m,\u001b[49m\u001b[43m \u001b[49m\u001b[38;5;241;43m4\u001b[39;49m\u001b[43m)\u001b[49m\n",
      "    \u001b[0;31m[... skipping hidden 14 frame]\u001b[0m\n",
      "Cell \u001b[0;32mIn[28], line 2\u001b[0m, in \u001b[0;36mexample_fun\u001b[0;34m(length, val)\u001b[0m\n\u001b[1;32m      1\u001b[0m \u001b[38;5;28;01mdef\u001b[39;00m \u001b[38;5;21mexample_fun\u001b[39m(length, val):\n\u001b[0;32m----> 2\u001b[0m   \u001b[38;5;28;01mreturn\u001b[39;00m \u001b[43mjnp\u001b[49m\u001b[38;5;241;43m.\u001b[39;49m\u001b[43mones\u001b[49m\u001b[43m(\u001b[49m\u001b[43m(\u001b[49m\u001b[43mlength\u001b[49m\u001b[43m,\u001b[49m\u001b[43m)\u001b[49m\u001b[43m)\u001b[49m \u001b[38;5;241m*\u001b[39m val\n",
      "File \u001b[0;32m~/software/miniconda/envs/py3/lib/python3.12/site-packages/jax/_src/numpy/array_creation.py:115\u001b[0m, in \u001b[0;36mones\u001b[0;34m(shape, dtype, device)\u001b[0m\n\u001b[1;32m    113\u001b[0m   \u001b[38;5;28;01mraise\u001b[39;00m \u001b[38;5;167;01mTypeError\u001b[39;00m(\u001b[38;5;124m\"\u001b[39m\u001b[38;5;124mexpected sequence object with len >= 0 or a single integer\u001b[39m\u001b[38;5;124m\"\u001b[39m)\n\u001b[1;32m    114\u001b[0m \u001b[38;5;28;01mif\u001b[39;00m (m \u001b[38;5;241m:=\u001b[39m _check_forgot_shape_tuple(\u001b[38;5;124m\"\u001b[39m\u001b[38;5;124mones\u001b[39m\u001b[38;5;124m\"\u001b[39m, shape, dtype)): \u001b[38;5;28;01mraise\u001b[39;00m \u001b[38;5;167;01mTypeError\u001b[39;00m(m)\n\u001b[0;32m--> 115\u001b[0m shape \u001b[38;5;241m=\u001b[39m \u001b[43mcanonicalize_shape\u001b[49m\u001b[43m(\u001b[49m\u001b[43mshape\u001b[49m\u001b[43m)\u001b[49m\n\u001b[1;32m    116\u001b[0m dtypes\u001b[38;5;241m.\u001b[39mcheck_user_dtype_supported(dtype, \u001b[38;5;124m\"\u001b[39m\u001b[38;5;124mones\u001b[39m\u001b[38;5;124m\"\u001b[39m)\n\u001b[1;32m    117\u001b[0m \u001b[38;5;28;01mreturn\u001b[39;00m lax\u001b[38;5;241m.\u001b[39mfull(shape, \u001b[38;5;241m1\u001b[39m, dtypes\u001b[38;5;241m.\u001b[39mjax_dtype(dtype), sharding\u001b[38;5;241m=\u001b[39mutil\u001b[38;5;241m.\u001b[39mnormalize_device_to_sharding(device))\n",
      "File \u001b[0;32m~/software/miniconda/envs/py3/lib/python3.12/site-packages/jax/_src/numpy/array_creation.py:41\u001b[0m, in \u001b[0;36mcanonicalize_shape\u001b[0;34m(shape, context)\u001b[0m\n\u001b[1;32m     39\u001b[0m   \u001b[38;5;28;01mreturn\u001b[39;00m core\u001b[38;5;241m.\u001b[39mcanonicalize_shape((shape,), context)\n\u001b[1;32m     40\u001b[0m \u001b[38;5;28;01melse\u001b[39;00m:\n\u001b[0;32m---> 41\u001b[0m   \u001b[38;5;28;01mreturn\u001b[39;00m \u001b[43mcore\u001b[49m\u001b[38;5;241;43m.\u001b[39;49m\u001b[43mcanonicalize_shape\u001b[49m\u001b[43m(\u001b[49m\u001b[43mshape\u001b[49m\u001b[43m,\u001b[49m\u001b[43m \u001b[49m\u001b[43mcontext\u001b[49m\u001b[43m)\u001b[49m\n",
      "File \u001b[0;32m~/software/miniconda/envs/py3/lib/python3.12/site-packages/jax/_src/core.py:1739\u001b[0m, in \u001b[0;36mcanonicalize_shape\u001b[0;34m(shape, context)\u001b[0m\n\u001b[1;32m   1737\u001b[0m \u001b[38;5;28;01mexcept\u001b[39;00m \u001b[38;5;167;01mTypeError\u001b[39;00m:\n\u001b[1;32m   1738\u001b[0m   \u001b[38;5;28;01mpass\u001b[39;00m\n\u001b[0;32m-> 1739\u001b[0m \u001b[38;5;28;01mraise\u001b[39;00m _invalid_shape_error(shape, context)\n",
      "\u001b[0;31mTypeError\u001b[0m: Shapes must be 1D sequences of concrete values of integer type, got (Traced<ShapedArray(int32[], weak_type=True)>with<DynamicJaxprTrace>,).\nIf using `jit`, try using `static_argnums` or applying `jit` to smaller subfunctions.\nThe error occurred while tracing the function example_fun at /tmp/ipykernel_5316/921785482.py:1 for jit. This concrete value was not available in Python because it depends on the value of the argument length."
     ]
    }
   ],
   "source": [
    "def example_fun(length, val):\n",
    "  return jnp.ones((length,)) * val\n",
    "# un-jit'd works fine\n",
    "print(example_fun(5, 4))\n",
    "\n",
    "bad_example_jit = jax.jit(example_fun)\n",
    "# this will fail:\n",
    "bad_example_jit(10, 4)"
   ]
  },
  {
   "cell_type": "code",
   "execution_count": 29,
   "id": "b300db1a-b4ab-4110-baea-c19d55129608",
   "metadata": {
    "editable": true,
    "slideshow": {
     "slide_type": "subslide"
    },
    "tags": []
   },
   "outputs": [
    {
     "name": "stdout",
     "output_type": "stream",
     "text": [
      "[4. 4. 4. 4. 4. 4. 4. 4. 4. 4.]\n",
      "[4. 4. 4. 4. 4.]\n"
     ]
    }
   ],
   "source": [
    "# static_argnames tells JAX to recompile on changes at these argument positions:\n",
    "good_example_jit = jax.jit(example_fun, static_argnames='length')\n",
    "# first compile\n",
    "print(good_example_jit(10, 4))\n",
    "# recompiles\n",
    "print(good_example_jit(5, 4))"
   ]
  },
  {
   "cell_type": "markdown",
   "id": "dc05e76c-72e6-4930-a26e-71d54d201dad",
   "metadata": {},
   "source": [
    "`static_argnames` can be handy if `length` in our example rarely changes, but it **would be disastrous** if it changed a lot!"
   ]
  },
  {
   "cell_type": "markdown",
   "id": "50128ff7-debe-4637-84cc-93cd2d1f665c",
   "metadata": {
    "editable": true,
    "slideshow": {
     "slide_type": "subslide"
    },
    "tags": []
   },
   "source": [
    "#### 📋 Exercise 1\n",
    "\n",
    "The function below `do_segments_intersect()` calculates whether two 2D segments intersect or not. Provide a new implementation compatible with `@jax.jit`.\n",
    "\n",
    "__Hints:__\n",
    " - Start by making `orientation()` and `on_segment()` jit-compatible.\n",
    "     - [`jnp.sign()`](https://docs.jax.dev/en/latest/_autosummary/jax.numpy.sign.html) may be useful!\n",
    " - Any sequence of logical checks can be represented as a composition of [`jnp.logical_and()`](https://docs.jax.dev/en/latest/_autosummary/jax.numpy.logical_and.html) and [`jnp.logical_or()`](https://docs.jax.dev/en/latest/_autosummary/jax.numpy.logical_and.html) calls.\n"
   ]
  },
  {
   "cell_type": "code",
   "execution_count": 12,
   "id": "754b8f4a-0121-4a8b-92af-5016cc333d7a",
   "metadata": {},
   "outputs": [
    {
     "name": "stdout",
     "output_type": "stream",
     "text": [
      "True\n"
     ]
    },
    {
     "data": {
      "image/png": "[encoded data removed]",
      "text/plain": [
       "<Figure size 900x540 with 1 Axes>"
      ]
     },
     "metadata": {},
     "output_type": "display_data"
    }
   ],
   "source": [
    "def do_segments_intersect(p1, q1, p2, q2):\n",
    "    \"\"\"\n",
    "    Function that checks if two segments in 2D intersect. Each segment is defined by two \n",
    "    points `p` and `q`. Each point is assumed to be an array with two components (x,y).\n",
    "    \"\"\"\n",
    "    # Helper function to find orientation of ordered triplet (p, q, r).\n",
    "    # Returns the following values:\n",
    "    # 0 -> p, q and r are collinear\n",
    "    # 1 -> Clockwise\n",
    "    # 2 -> Counterclockwise\n",
    "    def orientation(p, q, r):\n",
    "        val = (q[1] - p[1]) * (r[0] - q[0]) - (q[0] - p[0]) * (r[1] - q[1])\n",
    "        if val == 0:\n",
    "            return 0\n",
    "        return 1 if val > 0 else 2\n",
    "\n",
    "    # Helper function to check if point q lies on line segment 'pr'\n",
    "    def on_segment(p, q, r):\n",
    "        if (min(p[0], r[0]) <= q[0] <= max(p[0], r[0]) and\n",
    "                min(p[1], r[1]) <= q[1] <= max(p[1], r[1])):\n",
    "            return True\n",
    "        return False\n",
    "\n",
    "    # Find the orientations needed for the general and special cases\n",
    "    o1 = orientation(p1, q1, p2)\n",
    "    o2 = orientation(p1, q1, q2)\n",
    "    o3 = orientation(p2, q2, p1)\n",
    "    o4 = orientation(p2, q2, q1)\n",
    "\n",
    "    # General case\n",
    "    if o1 != o2 and o3 != o4:\n",
    "        return True\n",
    "\n",
    "    # Special cases\n",
    "    # p1, q1, and p2 are collinear and p2 lies on segment p1q1\n",
    "    if o1 == 0 and on_segment(p1, p2, q1):\n",
    "        return True\n",
    "\n",
    "    # p1, q1, and q2 are collinear and q2 lies on segment p1q1\n",
    "    if o2 == 0 and on_segment(p1, q2, q1):\n",
    "        return True\n",
    "\n",
    "    # p2, q2, and p1 are collinear and p1 lies on segment p2q2\n",
    "    if o3 == 0 and on_segment(p2, p1, q2):\n",
    "        return True\n",
    "\n",
    "    # p2, q2, and q1 are collinear and q1 lies on segment p2q2\n",
    "    if o4 == 0 and on_segment(p2, q1, q2):\n",
    "        return True\n",
    "\n",
    "    # If none of the cases apply, the segments do not intersect\n",
    "    return False\n",
    "\n",
    "# Example usage:\n",
    "p1, q1 = jnp.array([[1, 1], [10, 10]])\n",
    "p2, q2 = jnp.array([[2, 1], [5, 14]])\n",
    "\n",
    "plt.plot([p1[0], q1[0]], [p1[1],q1[1]], 'ro-')\n",
    "plt.plot([p2[0], q2[0]], [p2[1],q2[1]], 'bo-')\n",
    "print(do_segments_intersect(p1, q1, p2, q2))"
   ]
  },
  {
   "cell_type": "code",
   "execution_count": 13,
   "id": "de9032e9-3c97-4f61-b30d-fcc4175dae58",
   "metadata": {
    "editable": true,
    "slideshow": {
     "slide_type": "subslide"
    },
    "tags": []
   },
   "outputs": [
    {
     "name": "stdout",
     "output_type": "stream",
     "text": [
      "True\n",
      "1.51 ms ± 17.7 µs per loop (mean ± std. dev. of 7 runs, 1,000 loops each)\n",
      "4.19 µs ± 104 ns per loop (mean ± std. dev. of 7 runs, 100,000 loops each)\n"
     ]
    },
    {
     "data": {
      "image/png": "[encoded data removed]",
      "text/plain": [
       "<Figure size 900x540 with 1 Axes>"
      ]
     },
     "metadata": {},
     "output_type": "display_data"
    }
   ],
   "source": [
    "#Complete the code to solve Exercise 1:\n",
    "@jax.jit\n",
    "def do_segments_intersect_jittable(p1, q1, p2, q2):\n",
    "    \"\"\"\n",
    "    Function that checks if two segments in 2D intersect. Each segment is defined by two \n",
    "    points `p` and `q`. Each point is assumed to be an array with two components (x,y).\n",
    "    \"\"\"\n",
    "    # Helper function to find orientation of ordered triplet (p, q, r).\n",
    "    # Returns the following values:\n",
    "    #  0 -> p, q and r are collinear\n",
    "    #  1 -> Clockwise\n",
    "    # -1 -> Counterclockwise\n",
    "    def orientation(p, q, r):\n",
    "        val = (q[1] - p[1]) * (r[0] - q[0]) - (q[0] - p[0]) * (r[1] - q[1])\n",
    "        return jnp.sign(val)\n",
    "\n",
    "    # Helper function to check if point q lies on line segment 'pr'\n",
    "    def on_segment(p, q, r):\n",
    "        c1 = jnp.logical_and(jnp.min(jnp.array([p[0],r[0]])) <= q[0], \n",
    "                             q[0] <= jnp.max(jnp.array([p[0],r[0]])))\n",
    "        c2 = jnp.logical_and(jnp.min(jnp.array([p[1],r[1]])) <= q[1], \n",
    "                             q[1] <= jnp.max(jnp.array([p[1],r[1]])))\n",
    "        return jnp.logical_and(c1, c2)\n",
    "\n",
    "    # Find the orientations needed for the general and special cases\n",
    "    o1 = orientation(p1, q1, p2)\n",
    "    o2 = orientation(p1, q1, q2)\n",
    "    o3 = orientation(p2, q2, p1)\n",
    "    o4 = orientation(p2, q2, q1)\n",
    "\n",
    "    # General case\n",
    "    cg = jnp.logical_and(o1 != o2, o3 != o4)\n",
    "    #Special cases\n",
    "    # p1, q1, and p2 are collinear and p2 lies on segment p1q1\n",
    "    cs1 = jnp.logical_and(o1 == 0, on_segment(p1, p2, q1))\n",
    "    # p1, q1, and q2 are collinear and q2 lies on segment p1q1\n",
    "    cs2 = jnp.logical_and(o2 == 0, on_segment(p1, q2, q1))\n",
    "    # p2, q2, and p1 are collinear and p1 lies on segment p2q2\n",
    "    cs3 = jnp.logical_and(o3 == 0, on_segment(p2, p1, q2))\n",
    "    # p2, q2, and q1 are collinear and q1 lies on segment p2q2\n",
    "    cs4 = jnp.logical_and(o4 == 0, on_segment(p2, q1, q2))\n",
    "\n",
    "    return jnp.logical_or(jnp.logical_or(jnp.logical_or(jnp.logical_or(cg, cs1), cs2), cs3), cs4)\n",
    "\n",
    "# Example usage:\n",
    "p1, q1 = jnp.array([[1, 1], [10, 10]])\n",
    "p2, q2 = jnp.array([[2, 1], [5, 14]])\n",
    "\n",
    "plt.plot([p1[0], q1[0]], [p1[1],q1[1]], 'ro-')\n",
    "plt.plot([p2[0], q2[0]], [p2[1],q2[1]], 'bo-')\n",
    "print(do_segments_intersect_jittable(p1, q1, p2, q2))\n",
    "\n",
    "#Compare execution times with and without jit.\n",
    "%timeit do_segments_intersect(p1, q1, p2, q2)\n",
    "%timeit do_segments_intersect_jittable(p1, q1, p2, q2)"
   ]
  },
  {
   "cell_type": "markdown",
   "id": "2eea44d3",
   "metadata": {
    "editable": true,
    "slideshow": {
     "slide_type": "subslide"
    },
    "tags": []
   },
   "source": [
    "### 2.3 Auto-Vectorization\n",
    "\n",
    "Last, but not least, JAX provides the [`jax.vmap`](https://jax.readthedocs.io/en/latest/_autosummary/jax.vmap.html) transformation, which performs automatic vectorization of functions. \n",
    " - Allows you to compute the output of a function **in parallel over some axis of the input**, making it extremely convenient for use cases such as:\n",
    "     - You can develop your functions **assuming a scalar input**, and they will automatically work with multidimensional inputs.\n",
    "     - A loss function that is calculated for a single example can be directly transformed to work with *batches*.\n",
    " \n",
    "This functionality is similar to that provided by `numpy.vectorize`, but the [semantics are different](https://stackoverflow.com/questions/69099847/jax-vectorization-vmap-and-or-numpy-vectorize), and it is much [more efficient](https://jax.readthedocs.io/en/latest/_autosummary/jax.numpy.vectorize.html).\n",
    "\n",
    "As a basic example, let's assume we have a trained logistic regression model with fixed coefficients and intercept, and we define the following function to estimate the probability of a new sample:"
   ]
  },
  {
   "cell_type": "code",
   "execution_count": 57,
   "id": "8a16cf6a",
   "metadata": {
    "editable": true,
    "slideshow": {
     "slide_type": ""
    },
    "tags": []
   },
   "outputs": [
    {
     "name": "stdout",
     "output_type": "stream",
     "text": [
      "Probability of the first sample: 0.00012750\n"
     ]
    }
   ],
   "source": [
    "def predict_proba(sample):\n",
    "    coefs = jnp.array([-0.44501376,  0.89999242, -2.32353827, -0.97345836])\n",
    "    intercept = 6.69040651\n",
    "    score = jnp.dot(coefs, sample) + intercept\n",
    "    return jax.nn.softmax(jnp.array([-score, score]))[0]\n",
    "\n",
    "#Array of samples\n",
    "X = np.array([[5.2, 4.1, 1.5, 0.1],\n",
    "              [5.7, 3.8, 1.7, 0.3],\n",
    "              [5.5, 2.6, 4.4, 1.2],\n",
    "              [6.3, 2.7, 4.9, 1.8],\n",
    "              [5.9, 3. , 4.2, 1.5],\n",
    "              [5. , 2.3, 3.3, 1. ],\n",
    "              [5.7, 2.6, 3.5, 1. ],\n",
    "              [6.2, 3.4, 5.4, 2.3]])\n",
    "\n",
    "#We can predict the probability of a single sample\n",
    "print(f'Probability of the first sample: {predict_proba(X[0]):.8f}')"
   ]
  },
  {
   "cell_type": "markdown",
   "id": "9f7224af",
   "metadata": {
    "editable": true,
    "slideshow": {
     "slide_type": "subslide"
    },
    "tags": []
   },
   "source": [
    "But if we try to apply the function to the full set of samples..."
   ]
  },
  {
   "cell_type": "code",
   "execution_count": 58,
   "id": "322d450d",
   "metadata": {
    "editable": true,
    "slideshow": {
     "slide_type": ""
    },
    "tags": []
   },
   "outputs": [
    {
     "ename": "TypeError",
     "evalue": "dot_general requires contracting dimensions to have the same shape, got (4,) and (8,).",
     "output_type": "error",
     "traceback": [
      "\u001b[0;31m---------------------------------------------------------------------------\u001b[0m",
      "\u001b[0;31mTypeError\u001b[0m                                 Traceback (most recent call last)",
      "Cell \u001b[0;32mIn[58], line 1\u001b[0m\n\u001b[0;32m----> 1\u001b[0m \u001b[38;5;28mprint\u001b[39m(\u001b[43mpredict_proba\u001b[49m\u001b[43m(\u001b[49m\u001b[43mX\u001b[49m\u001b[43m)\u001b[49m)\n",
      "Cell \u001b[0;32mIn[57], line 4\u001b[0m, in \u001b[0;36mpredict_proba\u001b[0;34m(sample)\u001b[0m\n\u001b[1;32m      2\u001b[0m coefs \u001b[38;5;241m=\u001b[39m jnp\u001b[38;5;241m.\u001b[39marray([\u001b[38;5;241m-\u001b[39m\u001b[38;5;241m0.44501376\u001b[39m,  \u001b[38;5;241m0.89999242\u001b[39m, \u001b[38;5;241m-\u001b[39m\u001b[38;5;241m2.32353827\u001b[39m, \u001b[38;5;241m-\u001b[39m\u001b[38;5;241m0.97345836\u001b[39m])\n\u001b[1;32m      3\u001b[0m intercept \u001b[38;5;241m=\u001b[39m \u001b[38;5;241m6.69040651\u001b[39m\n\u001b[0;32m----> 4\u001b[0m score \u001b[38;5;241m=\u001b[39m \u001b[43mjnp\u001b[49m\u001b[38;5;241;43m.\u001b[39;49m\u001b[43mdot\u001b[49m\u001b[43m(\u001b[49m\u001b[43mcoefs\u001b[49m\u001b[43m,\u001b[49m\u001b[43m \u001b[49m\u001b[43msample\u001b[49m\u001b[43m)\u001b[49m \u001b[38;5;241m+\u001b[39m intercept\n\u001b[1;32m      5\u001b[0m \u001b[38;5;28;01mreturn\u001b[39;00m jax\u001b[38;5;241m.\u001b[39mnn\u001b[38;5;241m.\u001b[39msoftmax(jnp\u001b[38;5;241m.\u001b[39marray([\u001b[38;5;241m-\u001b[39mscore, score]))[\u001b[38;5;241m0\u001b[39m]\n",
      "    \u001b[0;31m[... skipping hidden 15 frame]\u001b[0m\n",
      "File \u001b[0;32m~/software/miniconda/envs/py3/lib/python3.12/site-packages/jax/_src/numpy/tensor_contractions.py:120\u001b[0m, in \u001b[0;36mdot\u001b[0;34m(a, b, precision, preferred_element_type)\u001b[0m\n\u001b[1;32m    118\u001b[0m   \u001b[38;5;28;01melse\u001b[39;00m:\n\u001b[1;32m    119\u001b[0m     contract_dims \u001b[38;5;241m=\u001b[39m ((a_ndim \u001b[38;5;241m-\u001b[39m \u001b[38;5;241m1\u001b[39m,), (b_ndim \u001b[38;5;241m-\u001b[39m \u001b[38;5;241m2\u001b[39m,))\n\u001b[0;32m--> 120\u001b[0m result \u001b[38;5;241m=\u001b[39m \u001b[43mlax\u001b[49m\u001b[38;5;241;43m.\u001b[39;49m\u001b[43mdot_general\u001b[49m\u001b[43m(\u001b[49m\u001b[43ma\u001b[49m\u001b[43m,\u001b[49m\u001b[43m \u001b[49m\u001b[43mb\u001b[49m\u001b[43m,\u001b[49m\u001b[43m \u001b[49m\u001b[43mdimension_numbers\u001b[49m\u001b[38;5;241;43m=\u001b[39;49m\u001b[43m(\u001b[49m\u001b[43mcontract_dims\u001b[49m\u001b[43m,\u001b[49m\u001b[43m \u001b[49m\u001b[43mbatch_dims\u001b[49m\u001b[43m)\u001b[49m\u001b[43m,\u001b[49m\n\u001b[1;32m    121\u001b[0m \u001b[43m                         \u001b[49m\u001b[43mprecision\u001b[49m\u001b[38;5;241;43m=\u001b[39;49m\u001b[43mprecision\u001b[49m\u001b[43m,\u001b[49m\n\u001b[1;32m    122\u001b[0m \u001b[43m                         \u001b[49m\u001b[43mpreferred_element_type\u001b[49m\u001b[38;5;241;43m=\u001b[39;49m\u001b[43mpreferred_element_type\u001b[49m\u001b[43m)\u001b[49m\n\u001b[1;32m    123\u001b[0m \u001b[38;5;28;01mreturn\u001b[39;00m lax_internal\u001b[38;5;241m.\u001b[39m_convert_element_type(result, preferred_element_type,\n\u001b[1;32m    124\u001b[0m                                           output_weak_type)\n",
      "    \u001b[0;31m[... skipping hidden 9 frame]\u001b[0m\n",
      "File \u001b[0;32m~/software/miniconda/envs/py3/lib/python3.12/site-packages/jax/_src/lax/lax.py:5153\u001b[0m, in \u001b[0;36m_dot_general_shape_rule\u001b[0;34m(lhs, rhs, dimension_numbers, precision, preferred_element_type, out_sharding)\u001b[0m\n\u001b[1;32m   5150\u001b[0m \u001b[38;5;28;01mif\u001b[39;00m \u001b[38;5;129;01mnot\u001b[39;00m core\u001b[38;5;241m.\u001b[39mdefinitely_equal_shape(lhs_contracting_shape, rhs_contracting_shape):\n\u001b[1;32m   5151\u001b[0m   msg \u001b[38;5;241m=\u001b[39m (\u001b[38;5;124m\"\u001b[39m\u001b[38;5;124mdot_general requires contracting dimensions to have the same \u001b[39m\u001b[38;5;124m\"\u001b[39m\n\u001b[1;32m   5152\u001b[0m          \u001b[38;5;124m\"\u001b[39m\u001b[38;5;124mshape, got \u001b[39m\u001b[38;5;132;01m{}\u001b[39;00m\u001b[38;5;124m and \u001b[39m\u001b[38;5;132;01m{}\u001b[39;00m\u001b[38;5;124m.\u001b[39m\u001b[38;5;124m\"\u001b[39m)\n\u001b[0;32m-> 5153\u001b[0m   \u001b[38;5;28;01mraise\u001b[39;00m \u001b[38;5;167;01mTypeError\u001b[39;00m(msg\u001b[38;5;241m.\u001b[39mformat(lhs_contracting_shape, rhs_contracting_shape))\n\u001b[1;32m   5155\u001b[0m \u001b[38;5;28;01mreturn\u001b[39;00m _dot_general_shape_computation(lhs\u001b[38;5;241m.\u001b[39mshape, rhs\u001b[38;5;241m.\u001b[39mshape, dimension_numbers)\n",
      "\u001b[0;31mTypeError\u001b[0m: dot_general requires contracting dimensions to have the same shape, got (4,) and (8,)."
     ]
    }
   ],
   "source": [
    "print(predict_proba(X))"
   ]
  },
  {
   "cell_type": "markdown",
   "id": "d1c3510c",
   "metadata": {
    "editable": true,
    "slideshow": {
     "slide_type": "subslide"
    },
    "tags": []
   },
   "source": [
    "So we vectorize the function with `vmap()` to support this. We also compare the performance gain with respect to using a Python loop, and the additional benefits that `jit()` can provide."
   ]
  },
  {
   "cell_type": "code",
   "execution_count": 59,
   "id": "a5c2fdb6",
   "metadata": {
    "editable": true,
    "slideshow": {
     "slide_type": ""
    },
    "tags": []
   },
   "outputs": [
    {
     "name": "stdout",
     "output_type": "stream",
     "text": [
      "[1.2749569e-04 1.2750516e-03 9.9993348e-01 9.9999881e-01 9.9986482e-01\n",
      " 9.8539424e-01 9.9464345e-01 9.9999988e-01]\n",
      "2.06 ms ± 57.9 µs per loop (mean ± std. dev. of 7 runs, 100 loops each)\n",
      "2.23 ms ± 51.3 µs per loop (mean ± std. dev. of 7 runs, 100 loops each)\n",
      "5.78 µs ± 64.3 ns per loop (mean ± std. dev. of 7 runs, 100,000 loops each)\n"
     ]
    }
   ],
   "source": [
    "vpredict_proba = jax.vmap(predict_proba)\n",
    "print(vpredict_proba(X))\n",
    "%timeit [predict_proba(sample) for sample in X]\n",
    "%timeit vpredict_proba(X)\n",
    "#The function can be also jitted for further efficiency\n",
    "vpredict_proba_compiled = jax.jit(vpredict_proba)\n",
    "%timeit vpredict_proba_compiled(X)"
   ]
  },
  {
   "cell_type": "markdown",
   "id": "0cb5ad03",
   "metadata": {
    "editable": true,
    "slideshow": {
     "slide_type": "subslide"
    },
    "tags": []
   },
   "source": [
    "The use of `vmap` is trivial when we only want to vectorize with respect to a single axis, but it may become complex if the vectorized function works with several multi-dimensional arguments.\n",
    " - In these cases, you should rely on the composition of multiple `vmap`. \n",
    "     - A proper definition of the **`in_axes` parameter** is fundamental. This is the documentation for that parameter, which can be rather confusing 🤯:\n",
    "```\n",
    "in_axes (int | None | Sequence[Any])\n",
    "\n",
    "An integer, None, or sequence of values specifying which input array axes to map over.\n",
    "\n",
    "If each positional argument to fun is an array, then in_axes can be an integer, a None, or a tuple of integers and Nones with length equal to the number of positional arguments to fun. An integer or None indicates which array axis to map over for all arguments (with None indicating not to map any axis), and a tuple indicates which axis to map for each corresponding positional argument. Axis integers must be in the range [-ndim, ndim) for each array, where ndim is the number of dimensions (axes) of the corresponding input array.\n",
    "\n",
    "If the positional arguments to fun are container (pytree) types, in_axes must be a sequence with length equal to the number of positional arguments to fun, and for each argument the corresponding element of in_axes can be a container with a matching pytree structure specifying the mapping of its container elements. In other words, in_axes must be a container tree prefix of the positional argument tuple passed to fun. See this link for more detail: https://docs.jax.dev/en/latest/pytrees.html#applying-optional-parameters-to-pytrees\n",
    "\n",
    "Either axis_size must be provided explicitly, or at least one positional argument must have in_axes not None. The sizes of the mapped input axes for all mapped positional arguments must all be equal.\n",
    "\n",
    "Arguments passed as keywords are always mapped over their leading axis (i.e. axis index 0).\n",
    "```"
   ]
  },
  {
   "cell_type": "markdown",
   "id": "dfb7a675-9a3f-42b6-9a5a-d96da63dd9d5",
   "metadata": {
    "editable": true,
    "slideshow": {
     "slide_type": "subslide"
    },
    "tags": []
   },
   "source": [
    "As an example, let's implement the functionality provided by the `pairwise_distance()` function above using as basis the function to calculate the distance between two points, and then using `vmap` to vectorize it over the two dimensions."
   ]
  },
  {
   "cell_type": "code",
   "execution_count": 74,
   "id": "4b328b89",
   "metadata": {
    "editable": true,
    "slideshow": {
     "slide_type": ""
    },
    "tags": []
   },
   "outputs": [
    {
     "name": "stdout",
     "output_type": "stream",
     "text": [
      "Distance between points 0 and 1: 1.4142135381698608\n",
      "Distance between point 0 and all others: [0.        1.4142135 2.236068 ]\n",
      "Distance between all pairs: \n",
      "[[0.        1.4142135 2.236068 ]\n",
      " [1.4142135 0.        1.       ]\n",
      " [2.236068  1.        0.       ]]\n",
      "5.27 µs ± 40.1 ns per loop (mean ± std. dev. of 7 runs, 100,000 loops each)\n"
     ]
    }
   ],
   "source": [
    "def dist(x, y):\n",
    "    return jnp.linalg.norm(x-y)\n",
    "\n",
    "X = np.array([[0, 1], [1, 0], [2, 0]])\n",
    "\n",
    "print(f'Distance between points 0 and 1: {dist(X[0], X[1])}')\n",
    "\n",
    "#With vmap, we can calculate the distance from one point to all the others (the first argument is not vectorized)\n",
    "y_vmap_dist = jax.vmap(dist, in_axes=(None, 0))\n",
    "print(f'Distance between point 0 and all others: {y_vmap_dist(X[0], X)}')\n",
    "\n",
    "#With a second vmap, we can vectorize with respect to the first argument as well, achieving all-pairs functionality\n",
    "xy_vmap_dist = jax.vmap(y_vmap_dist, in_axes=(0, None))\n",
    "print(f'Distance between all pairs: \\n{xy_vmap_dist(X, X)}')\n",
    "\n",
    "#Finally, we jit the function and set the interface to be the same as for previous implementations.\n",
    "j_vmap_dist = jax.jit(lambda X:xy_vmap_dist(X, X))\n",
    "\n",
    "%timeit j_vmap_dist(X)"
   ]
  },
  {
   "cell_type": "markdown",
   "id": "08e3685e-ad55-446b-92e8-e8302715011b",
   "metadata": {
    "editable": true,
    "slideshow": {
     "slide_type": "subslide"
    },
    "tags": []
   },
   "source": [
    "#### 📋 Exercise 2\n",
    "\n",
    "Consider the function `do_segments_intersect_jitted()` developed in Exercise 2.2.1. By means of `vmap`, provide new functions that:\n",
    " 1. Calculate if a segment intersect a list of other segments.\n",
    " 2. Calculate, given a list of segments, if there is any intersection between a pair of segments (ignoring intersections of a segment with itself)."
   ]
  },
  {
   "cell_type": "code",
   "execution_count": 87,
   "id": "d8258473-8524-45d1-a7ec-b6e077593ff3",
   "metadata": {
    "editable": true,
    "slideshow": {
     "slide_type": ""
    },
    "tags": []
   },
   "outputs": [
    {
     "name": "stdout",
     "output_type": "stream",
     "text": [
      "[False False False  True False False False False False]\n",
      "273 µs ± 7.99 µs per loop (mean ± std. dev. of 7 runs, 1,000 loops each)\n",
      "59.7 µs ± 2.15 µs per loop (mean ± std. dev. of 7 runs, 10,000 loops each)\n",
      "True\n",
      "545 µs ± 5.14 µs per loop (mean ± std. dev. of 7 runs, 1,000 loops each)\n",
      "42.5 µs ± 1.13 µs per loop (mean ± std. dev. of 7 runs, 10,000 loops each)\n"
     ]
    },
    {
     "data": {
      "text/plain": [
       "Array(False, dtype=bool)"
      ]
     },
     "execution_count": 87,
     "metadata": {},
     "output_type": "execute_result"
    }
   ],
   "source": [
    "#We create 10 random segments with points P and Q. First segment is from P[0] to Q[0],\n",
    "# second segment from P[1] to Q[1], etc.\n",
    "P = np.array([[0.62267741, 0.36057143],\n",
    "              [0.76362257, 0.80168211],\n",
    "              [0.40162121, 0.97281945],\n",
    "              [0.44615934, 0.6005011 ],\n",
    "              [0.82299275, 0.98081328],\n",
    "              [0.76234926, 0.72984573],\n",
    "              [0.75754731, 0.04326656],\n",
    "              [0.37916813, 0.69457057],\n",
    "              [0.76666871, 0.72114398],\n",
    "              [0.26649429, 0.66837848]])\n",
    "Q = np.array([[0.05325263, 0.0749455 ],\n",
    "              [0.6288506 , 0.54228588],\n",
    "              [0.01499495, 0.76980637],\n",
    "              [0.81286603, 0.71454098],\n",
    "              [0.50154957, 0.00097182],\n",
    "              [0.77598633, 0.61250293],\n",
    "              [0.75234872, 0.77697743],\n",
    "              [0.96807352, 0.13413568],\n",
    "              [0.88151223, 0.73528023],\n",
    "              [0.55853233, 0.44841296]])\n",
    "\n",
    "#1. Definition of a function that allows to calculate intersection from one segment to an\n",
    "#array of other segments.\n",
    "intersect_vmp = jax.vmap(do_segments_intersect_jittable, (None, None, 0, 0))\n",
    "#We check the intersections with the first segment\n",
    "print(intersect_vmp(P[0], Q[0], P[1:], Q[1:]))\n",
    "%timeit intersect_vmp(P[0], Q[0], P[1:], Q[1:])\n",
    "%timeit jax.jit(intersect_vmp)(P[0], Q[0], P[1:], Q[1:])\n",
    "\n",
    "#2. Function to calculate intersections between a group of segments.\n",
    "def pairwise_intercept(P, Q):\n",
    "    pw_map = jax.vmap(intersect_vmp, (0, 0, None, None))\n",
    "    interc_matrix = pw_map(P, Q, P, Q).astype(int)\n",
    "    return jnp.sum(interc_matrix) > len(P)\n",
    "print(pairwise_intercept(P, Q)) # This should return True\n",
    "%timeit pairwise_intercept(P, Q)\n",
    "%timeit jax.jit(pairwise_intercept)(P, Q)\n",
    "print(pairwise_intercept(P,P)) # This should return False"
   ]
  },
  {
   "cell_type": "markdown",
   "id": "91eac8d3-012e-4481-9222-eae5ae9207cf",
   "metadata": {
    "editable": true,
    "slideshow": {
     "slide_type": "subslide"
    },
    "tags": []
   },
   "source": [
    "#### 📋 Exercise 3\n",
    "\n",
    "Using the following function definition:\n",
    "```python\n",
    "def prod(a,b):\n",
    "    return a*b\n",
    "    \n",
    "```\n",
    "\n",
    ", and exclusively `vmap`, provide the following functionality:\n",
    " - Given vectors `va` and `vb`, calculate their [outer product](https://en.wikipedia.org/wiki/Outer_product). The result has to be equal to that provided by [`jnp.outer()`](https://docs.jax.dev/en/latest/_autosummary/jax.numpy.outer.html).\n",
    " - Given two batches of vectors of equal size, [$va_0, \\ldots, va_n$], and [$vb_0, \\ldots, vb_n$], calculate the outer product of every pair $va_i \\otimes vb_i$ of vectors in the same position within the batches.\n",
    "\n"
   ]
  },
  {
   "cell_type": "code",
   "execution_count": 5,
   "id": "859016a1-3dec-4d25-b899-005cb8f09c22",
   "metadata": {
    "editable": true,
    "slideshow": {
     "slide_type": ""
    },
    "tags": []
   },
   "outputs": [
    {
     "name": "stdout",
     "output_type": "stream",
     "text": [
      "True\n",
      "True\n"
     ]
    }
   ],
   "source": [
    "# Complete the code to provide a solution to Exercise 3:\n",
    "def prod(a, b):\n",
    "    return a*b\n",
    "\n",
    "#Definition of two random vectors of size 10\n",
    "va, vb = np.random.rand(10), np.random.rand(10)\n",
    "#Definition of two batches of vectors, each one with 100 vectors\n",
    "batch_a, batch_b = np.random.rand(100, 10), np.random.rand(100, 10)\n",
    "#Outer product calculation by means of `prod` and `vmap`.\n",
    "outer = jax.vmap(jax.vmap(prod, (None, 0)), (0, None))(va,vb)\n",
    "print(jnp.allclose(outer, jnp.outer(va,vb)))\n",
    "#Batched outer product of vectors.\n",
    "batched_outer = jax.vmap(jax.vmap(jax.vmap(prod, (None, 0)), (0, None)), (0, 0))\n",
    "print(jnp.allclose(jnp.array([jnp.outer(batch_a[i], batch_b[i]) for i in range(len(batch_a))]), \n",
    "                   batched_outer(batch_a, batch_b)))"
   ]
  },
  {
   "cell_type": "markdown",
   "id": "cf836dc7",
   "metadata": {
    "editable": true,
    "slideshow": {
     "slide_type": "slide"
    },
    "tags": []
   },
   "source": [
    "## 3. Gradient-based optimization: Optax\n",
    "\n",
    "While the basic functionality of JAX is fundamentally oriented to **autograd+acceleration**, there is a very active and growing ecosystem that provides all the core components required to **optimize parametric models**. In particular, the first library we will probably require in practical problems is [Optax](https://optax.readthedocs.io/en/latest/index.html): the gradient processing and optimization library for JAX.\n",
    "\n",
    "### 3.1 Getting started with Optax\n",
    "\n",
    "To start working with Optax, we basically require two elements:\n",
    " - An objective function to be optimized. This is typically a **loss function** calculated on the model parameters that will be minimized through gradient descent, and therefore has to be differentiable.\n",
    " - An optimizer, which is the component in charge of processing the gradients and **calculate a new value for the target parameters**. This optimizer is usually executed in an iterative fashion.\n",
    " \n",
    "Optax provides a comprehensive catalog of both [losses](https://optax.readthedocs.io/en/latest/api/losses.html) and [optimizers](https://optax.readthedocs.io/en/latest/api/optimizers.html), which can be recombined and composed with our own functions, making it possible to combine low level ingredients into custom optimisers (or other gradient processing components).\n",
    "\n",
    "Let's take a look at the typical Optax pipeline by implementing [Logistic Regression](https://en.wikipedia.org/wiki/Logistic_regression) in the Iris dataset:"
   ]
  },
  {
   "cell_type": "code",
   "execution_count": 2,
   "id": "d33753c9",
   "metadata": {
    "editable": true,
    "slideshow": {
     "slide_type": "subslide"
    },
    "tags": []
   },
   "outputs": [
    {
     "name": "stdout",
     "output_type": "stream",
     "text": [
      "Iteration 000 loss: 0.664\n",
      "Iteration 100 loss: 0.586\n",
      "Iteration 200 loss: 0.516\n",
      "Iteration 300 loss: 0.467\n",
      "Iteration 400 loss: 0.431\n",
      "Iteration 500 loss: 0.404\n",
      "Iteration 600 loss: 0.383\n",
      "Iteration 700 loss: 0.366\n",
      "Iteration 800 loss: 0.352\n",
      "Iteration 900 loss: 0.341\n",
      "{'coef': Array([-0.41486692,  0.9657576 , -0.6985232 , -0.71217495], dtype=float32), 'intercept': Array(1.4699718, dtype=float32)}\n",
      "Final loss: 0.332\n",
      "Confusion matrix for the testing set:\n",
      "[[24  0]\n",
      " [ 0  6]]\n"
     ]
    }
   ],
   "source": [
    "import optax\n",
    "#Dataset and utilities\n",
    "from sklearn.datasets import load_iris\n",
    "from sklearn.model_selection import train_test_split\n",
    "from sklearn.metrics import confusion_matrix\n",
    "\n",
    "@jax.jit\n",
    "def loss(params, X, y):\n",
    "    \"\"\"Loss function (binary cross-entropy).\"\"\"\n",
    "    #The model is represented by two arrays of parameters: 'coef' and 'intercept', stored\n",
    "    #in a dictionary with these two keys.\n",
    "    logits = jnp.log(jax.nn.sigmoid(jnp.dot(X, params['coef']) + params['intercept']))\n",
    "    return optax.sigmoid_binary_cross_entropy(logits, y).mean()\n",
    "\n",
    "\n",
    "def fit(params, optimizer, Xtrain, ytrain, epochs=1000):\n",
    "    \"\"\"Training function\"\"\"\n",
    "    opt_state = optimizer.init(params)\n",
    "    \n",
    "    loss_value_grad = jax.value_and_grad(loss)\n",
    "    \n",
    "    @jax.jit\n",
    "    def train_step(params, opt_state):\n",
    "        \"\"\"\n",
    "        Each iteration in the training loop:\n",
    "         1. Gradient calculation.\n",
    "         2. Parameter changes calculation from gradients.\n",
    "         3. Parameter updates (Gradient descent).\n",
    "        \"\"\"\n",
    "        loss_value, grads = loss_value_grad(params, Xtrain, ytrain)\n",
    "        updates, opt_state = optimizer.update(grads, opt_state, params)\n",
    "        params = optax.apply_updates(params, updates)\n",
    "        return params, opt_state, loss_value\n",
    "    \n",
    "    #Training loop\n",
    "    for i in range(epochs):\n",
    "        params, opt_state, loss_value = train_step(params, opt_state)\n",
    "        if i % 100 == 0:\n",
    "            print(f'Iteration {i:03d} loss: {loss_value:.3f}')\n",
    "        \n",
    "    return params, loss_value\n",
    "\n",
    "\n",
    "X, y = load_iris(return_X_y=True)\n",
    "#For simplicity, we'll train a binary model for the first class\n",
    "y = (y==0).astype(np.int8)\n",
    "#Random partition of training and testing\n",
    "Xtrain, Xtest, ytrain, ytest = train_test_split(X, y, test_size=0.2)\n",
    "\n",
    "#Definition of the model parameters and the initial value.\n",
    "initial_params = {\n",
    "    'coef':jnp.full(X.shape[1], 1e-5),\n",
    "    'intercept':1.0\n",
    "}\n",
    "\n",
    "optimizer = optax.adam(learning_rate=1e-3)\n",
    "\n",
    "final_params, loss_value = fit(initial_params, optimizer, Xtrain, ytrain)\n",
    "print(final_params)\n",
    "print(f'Final loss: {loss_value:.3f}')\n",
    "\n",
    "#Classification performance on the testing set:\n",
    "probs = jax.nn.sigmoid(jnp.dot(Xtest, final_params['coef']) + final_params['intercept'])\n",
    "print(\"Confusion matrix for the testing set:\")\n",
    "print(confusion_matrix(ytest, probs>0.5))"
   ]
  },
  {
   "cell_type": "markdown",
   "id": "6dc61919",
   "metadata": {
    "editable": true,
    "slideshow": {
     "slide_type": "subslide"
    },
    "tags": []
   },
   "source": [
    "### 3.2 Customized optimizers\n",
    "\n",
    "One of the strong points of the JAX ecosystem is that every component is **easily customizable**:\n",
    " - You can exploit the provided and well-tested basic building blocks, and combine them as you wish.\n",
    " - An interesting option is the combination of different optimizers, that can be performed via **chaining**, **masking** and **partition**.\n",
    "\n",
    "For example, let's consider we want to apply a different optimizer to each parameter (e.g. Adam to the coefficients and SGD to the intercept, with different learning rates). This is easily done as follows:"
   ]
  },
  {
   "cell_type": "code",
   "execution_count": 3,
   "id": "798577f3",
   "metadata": {
    "editable": true,
    "slideshow": {
     "slide_type": ""
    },
    "tags": []
   },
   "outputs": [
    {
     "name": "stdout",
     "output_type": "stream",
     "text": [
      "Iteration 000 loss: 0.664\n",
      "Iteration 100 loss: 0.587\n",
      "Iteration 200 loss: 0.516\n",
      "Iteration 300 loss: 0.466\n",
      "Iteration 400 loss: 0.431\n",
      "Iteration 500 loss: 0.404\n",
      "Iteration 600 loss: 0.384\n",
      "Iteration 700 loss: 0.367\n",
      "Iteration 800 loss: 0.354\n",
      "Iteration 900 loss: 0.343\n",
      "{'coef': Array([-0.36534718,  1.0058273 , -0.69345695, -0.7105677 ], dtype=float32), 'intercept': Array(1.0362269, dtype=float32)}\n",
      "Final loss: 0.334\n"
     ]
    }
   ],
   "source": [
    "optimizer = optax.transforms.partition({'adam':optax.adam(learning_rate=1e-3), \n",
    "                                        'sgd':optax.sgd(learning_rate=1e-2)},\n",
    "                                       {'coef':'adam', 'intercept':'sgd'})\n",
    "\n",
    "final_params, loss_value = fit(initial_params, optimizer, Xtrain, ytrain)\n",
    "print(final_params)\n",
    "print(f'Final loss: {loss_value:.3f}')"
   ]
  },
  {
   "cell_type": "markdown",
   "id": "08fb9f16",
   "metadata": {
    "editable": true,
    "slideshow": {
     "slide_type": "subslide"
    },
    "tags": []
   },
   "source": [
    "Another way to combine optimizers is to apply several of them in sequence by means of [`optax.chain()`](https://optax.readthedocs.io/en/latest/api/combining_optimizers.html#optax.chain). \n",
    " - Very useful to **define constraints** on the values of the parameters or the updates.\n",
    "\n",
    "For example, we can restrict the variation of each parameter on each iteration by chaining an [`optax.clip()`](https://optax.readthedocs.io/en/latest/api/transformations.html#optax.clip) operation after our regular Adam optimizer:"
   ]
  },
  {
   "cell_type": "code",
   "execution_count": 4,
   "id": "c3843c6f",
   "metadata": {},
   "outputs": [
    {
     "name": "stdout",
     "output_type": "stream",
     "text": [
      "Iteration 000 loss: 0.664\n",
      "Iteration 100 loss: 0.658\n",
      "Iteration 200 loss: 0.651\n",
      "Iteration 300 loss: 0.644\n",
      "Iteration 400 loss: 0.637\n",
      "Iteration 500 loss: 0.629\n",
      "Iteration 600 loss: 0.622\n",
      "Iteration 700 loss: 0.614\n",
      "Iteration 800 loss: 0.606\n",
      "Iteration 900 loss: 0.598\n",
      "{'coef': Array([-0.09999112,  0.02275896, -0.09999112, -0.09999112], dtype=float32), 'intercept': Array(0.8999834, dtype=float32)}\n",
      "Final loss: 0.590\n"
     ]
    }
   ],
   "source": [
    "#We restrict the variation excessively, to appreciate the effect\n",
    "optimizer = optax.chain(optax.adam(learning_rate=1e-3), optax.clip(0.0001))\n",
    "\n",
    "final_params, loss_value = fit(initial_params, optimizer, Xtrain, ytrain)\n",
    "print(final_params)\n",
    "print(f'Final loss: {loss_value:.3f}')"
   ]
  },
  {
   "cell_type": "markdown",
   "id": "bc80d015",
   "metadata": {
    "editable": true,
    "slideshow": {
     "slide_type": "subslide"
    },
    "tags": []
   },
   "source": [
    " - We can write arbitrary functions to be used in each of these stages, to replace or to be combined with any of the provided [optimizers](https://optax.readthedocs.io/en/latest/api/optimizers.html).\n",
    " - The simplest way is to define a function that receives the parameters and the updates, and returns new updates that can be arbitrarily modified.\n",
    "\n",
    "For example, let us assume that in our problem, we want to force the **coefficients to sum 1**. This could be implemented as follows:"
   ]
  },
  {
   "cell_type": "code",
   "execution_count": 5,
   "id": "963e7522",
   "metadata": {
    "editable": true,
    "slideshow": {
     "slide_type": ""
    },
    "tags": []
   },
   "outputs": [
    {
     "name": "stdout",
     "output_type": "stream",
     "text": [
      "Iteration 000 loss: 0.664\n",
      "Iteration 100 loss: 0.695\n",
      "Iteration 200 loss: 0.694\n",
      "Iteration 300 loss: 0.694\n",
      "Iteration 400 loss: 0.693\n",
      "Iteration 500 loss: 0.693\n",
      "Iteration 600 loss: 0.692\n",
      "Iteration 700 loss: 0.692\n",
      "Iteration 800 loss: 0.690\n",
      "Iteration 900 loss: 0.681\n",
      "{'coef': Array([ 0.12026033, 10.508042  , -4.7591624 , -4.86914   ], dtype=float32), 'intercept': Array(0.2762039, dtype=float32)}\n",
      "Final loss: 0.472\n",
      "Coefficient Sum: 1.0\n"
     ]
    }
   ],
   "source": [
    "def scale_coefs_to_one(updates, params):\n",
    "    \"\"\"\n",
    "    Function to scale the set of parameters to ensure that the sum is one.\n",
    "    \"\"\"\n",
    "    no_scaled = params + updates\n",
    "    #Control the case where all values are zero.\n",
    "    scaled = jax.lax.cond(jnp.any(no_scaled), lambda v:v/jnp.sum(v), \n",
    "                          lambda v:jnp.ones_like(v)*1./len(v), no_scaled)\n",
    "    #Remember, the output is the *updates*, not the parameter values.\n",
    "    return scaled-params\n",
    "\n",
    "#This is required to create a GradientTransformation from a function.\n",
    "scale_transformation = optax.stateless_with_tree_map(scale_coefs_to_one)\n",
    "\n",
    "optimizer = optax.chain(optax.adam(learning_rate=1e-3),\n",
    "                        optax.masked(scale_transformation,\n",
    "                                     {'coef':True, 'intercept':False}))\n",
    "\n",
    "final_params, loss_value = fit(initial_params, optimizer, Xtrain, ytrain)\n",
    "print(final_params)\n",
    "print(f'Final loss: {loss_value:.3f}')  \n",
    "print(f\"Coefficient Sum: {jnp.sum(final_params['coef'])}\")"
   ]
  },
  {
   "cell_type": "markdown",
   "id": "d51ed942-4a37-47a5-a5cd-64f89630ac12",
   "metadata": {
    "editable": true,
    "slideshow": {
     "slide_type": "subslide"
    },
    "tags": []
   },
   "source": [
    "#### 📋 Exercise 4\n",
    "\n",
    "Define a new optimizer similar to the one shown in the previous example, but with the following constraints:\n",
    " - All **coefficients have a value between -1 and 1**.\n",
    " - The **intercept has to be positive**.\n",
    "\n",
    "__Hints:__\n",
    " - [`jnp.where`](https://docs.jax.dev/en/latest/_autosummary/jax.numpy.where.html) is a useful function to update an array based on conditions about values at different positions.\n",
    " - Take a look at [`optax.keep_params_nonnegative`](https://optax.readthedocs.io/en/latest/api/transformations.html#optax.keep_params_nonnegative)."
   ]
  },
  {
   "cell_type": "code",
   "execution_count": 16,
   "id": "008f1266-0789-4f89-94b0-371760e27303",
   "metadata": {
    "editable": true,
    "slideshow": {
     "slide_type": ""
    },
    "tags": []
   },
   "outputs": [
    {
     "name": "stdout",
     "output_type": "stream",
     "text": [
      "Iteration 000 loss: 0.664\n",
      "Iteration 100 loss: 0.586\n",
      "Iteration 200 loss: 0.516\n",
      "Iteration 300 loss: 0.467\n",
      "Iteration 400 loss: 0.431\n",
      "Iteration 500 loss: 0.404\n",
      "Iteration 600 loss: 0.383\n",
      "Iteration 700 loss: 0.366\n",
      "Iteration 800 loss: 0.352\n",
      "Iteration 900 loss: 0.341\n",
      "{'coef': Array([-0.41486695,  0.9657578 , -0.6985233 , -0.71217495], dtype=float32), 'intercept': Array(1.4699717, dtype=float32)}\n",
      "Final loss: 0.332\n",
      "Confusion matrix for the testing set:\n",
      "[[24  0]\n",
      " [ 0  6]]\n"
     ]
    }
   ],
   "source": [
    "# Solution to exercise 4:\n",
    "def clip_plus_minus_one(updates, params):\n",
    "    \"\"\"Function to ensure the params keep a value between -1 and 1\"\"\"\n",
    "    up_uclip = jnp.where(params+updates > 1, 1-params, updates)\n",
    "    up_clip = jnp.where(params+up_uclip < -1, -1-params, up_uclip)\n",
    "    return up_clip\n",
    "\n",
    "clip_transformation = optax.stateless_with_tree_map(clip_plus_minus_one)\n",
    "\n",
    "optimizer = optax.chain(optax.adam(learning_rate=1e-3),\n",
    "                        optax.masked(clip_transformation,\n",
    "                                     {'coef':True, 'intercept':False}),\n",
    "                        optax.masked(optax.keep_params_nonnegative(),\n",
    "                                     {'coef':False, 'intercept':True}),\n",
    "                       )\n",
    "\n",
    "final_params, loss_value = fit(initial_params, optimizer, Xtrain, ytrain)\n",
    "print(final_params)\n",
    "print(f'Final loss: {loss_value:.3f}')\n",
    "\n",
    "probs = jax.nn.sigmoid(jnp.dot(Xtest, final_params['coef']) + final_params['intercept'])\n",
    "print(\"Confusion matrix for the testing set:\")\n",
    "print(confusion_matrix(ytest, probs>0.5))"
   ]
  },
  {
   "cell_type": "markdown",
   "id": "aa0cd469",
   "metadata": {
    "editable": true,
    "slideshow": {
     "slide_type": "slide"
    },
    "tags": []
   },
   "source": [
    "## Further Reading \n",
    " 1. JAX General Documentation: https://jax.readthedocs.io/en/latest/index.html\n",
    " 2. Optax General Documentation: https://optax.readthedocs.io/en/latest/index.html\n",
    " 3. Introduction to Automatic Differentiation: https://alexey.radul.name/ideas/2013/introduction-to-automatic-differentiation/\n",
    " 4. JAX Autodiff Cookbook: https://jax.readthedocs.io/en/latest/notebooks/autodiff_cookbook.html"
   ]
  }
 ],
 "metadata": {
  "kernelspec": {
   "display_name": "Python 3 (ipykernel)",
   "language": "python",
   "name": "python3"
  },
  "language_info": {
   "codemirror_mode": {
    "name": "ipython",
    "version": 3
   },
   "file_extension": ".py",
   "mimetype": "text/x-python",
   "name": "python",
   "nbconvert_exporter": "python",
   "pygments_lexer": "ipython3",
   "version": "3.12.1"
  }
 },
 "nbformat": 4,
 "nbformat_minor": 5
}
